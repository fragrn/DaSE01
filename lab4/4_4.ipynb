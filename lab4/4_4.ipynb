{
 "cells": [
  {
   "cell_type": "code",
   "execution_count": 1,
   "metadata": {},
   "outputs": [
    {
     "data": {
      "text/plain": [
       "[6, 7, 4, 0, 8]"
      ]
     },
     "execution_count": 1,
     "metadata": {},
     "output_type": "execute_result"
    }
   ],
   "source": [
    "class TreeNode:\n",
    "    def __init__(self, data = None, left = None, right = None):\n",
    "        #等号右边的才是参数表的，左边的是自创建的。\n",
    "        self.data = data\n",
    "        self.left = left\n",
    "        self.right = right\n",
    "\n",
    "\n",
    "#获取叶子结点的函数\n",
    "def get_leaf(root: TreeNode):\n",
    "    if not root:\n",
    "        return []\n",
    "    res = []\n",
    "\n",
    "    if root.left is not None:\n",
    "        res.extend(get_leaf(root.left))\n",
    "    if root.right is not None:\n",
    "        res.extend(get_leaf(root.right))\n",
    "    if root.left is None and root.right is None:\n",
    "        res.append(root.data)\n",
    "    return res\n",
    "\n",
    "#构建一棵树\n",
    "layer3_2 = TreeNode(2, TreeNode(7), TreeNode(4))\n",
    "layer2_5 = TreeNode(5, TreeNode(6), layer3_2)\n",
    "layer2_1 = TreeNode(1, TreeNode(0), TreeNode(8))\n",
    "layer1_3 = TreeNode(3, layer2_5, layer2_1)\n",
    "\n",
    "#tree = Options(layer1_3)\n",
    "get_leaf(layer1_3)"
   ]
  }
 ],
 "metadata": {
  "kernelspec": {
   "display_name": "Python 3.10.0 64-bit",
   "language": "python",
   "name": "python3"
  },
  "language_info": {
   "codemirror_mode": {
    "name": "ipython",
    "version": 3
   },
   "file_extension": ".py",
   "mimetype": "text/x-python",
   "name": "python",
   "nbconvert_exporter": "python",
   "pygments_lexer": "ipython3",
   "version": "3.10.0"
  },
  "orig_nbformat": 4,
  "vscode": {
   "interpreter": {
    "hash": "865d8b2eb28e274047ba64063dfb6a2aabf0dfec4905d304d7a76618dae6fdd4"
   }
  }
 },
 "nbformat": 4,
 "nbformat_minor": 2
}
