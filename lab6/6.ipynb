{
 "cells": [
  {
   "cell_type": "code",
   "execution_count": 1,
   "metadata": {},
   "outputs": [
    {
     "name": "stdout",
     "output_type": "stream",
     "text": [
      "hello world1\n",
      "\n",
      "hello world12\n",
      "\n",
      "hello world123\n",
      "\n",
      "['hello world1\\n', 'hello world12\\n', 'hello world123\\n', 'hello world1234\\n', 'hello world12345\\n']\n"
     ]
    }
   ],
   "source": [
    "# 1. 实验6-2的步骤2中介绍了读取整个文件的 read() 方法，请自己用记事本创建一个txt文件，里面写\n",
    "# 上几行内容，再编写程序，体会 readline() 和 readlines() 方法的作用。\n",
    "f1 = open('file/hello.txt','r')\n",
    "h=f1.readline()\n",
    "print(h)\n",
    "h=f1.readline()\n",
    "print(h)\n",
    "h=f1.readline()\n",
    "print(h)\n",
    "f1.seek(0)\n",
    "g=f1.readlines()\n",
    "print(g)\n",
    "f1.close()"
   ]
  },
  {
   "cell_type": "code",
   "execution_count": 23,
   "metadata": {},
   "outputs": [
    {
     "name": "stdout",
     "output_type": "stream",
     "text": [
      "chinese:82.60\n",
      "math:81.00\n",
      "english:81.80\n"
     ]
    }
   ],
   "source": [
    "# 2. stuGrade.csv文件中包含5位同学的学号、语文成绩、数学成绩和英语成绩，请先用记事本打开该\n",
    "# 文件，查看文件内容，然后编写Python程序，读取该文件，并计算出各科的平均成绩（保留2位小\n",
    "# 数）。\n",
    "from statistics import mean\n",
    "\n",
    "\n",
    "def meanlist(list):\n",
    "    sum = 0\n",
    "    count = 0\n",
    "    for i in range(0, len(list)):\n",
    "        sum += list[i]\n",
    "        count += 1\n",
    "    return sum/count\n",
    "\n",
    "\n",
    "with open('file/stuGrade.csv', 'r') as f1:\n",
    "    chinese = []\n",
    "    math = []\n",
    "    english = []\n",
    "    f1.readline()  # 把文件指针f1移向第二行\n",
    "    for line in f1:\n",
    "        linelist = line.split(',')\n",
    "        chinese.append(int(linelist[1]))\n",
    "        math.append(int(linelist[2]))\n",
    "        english.append(int(linelist[3]))\n",
    "    print(\"chinese:%.2f\" % meanlist(chinese)) #mean：平均数\n",
    "    print(\"math:%.2f\" % meanlist(math))\n",
    "    print(\"english:%.2f\" % meanlist(english))\n"
   ]
  },
  {
   "cell_type": "markdown",
   "metadata": {},
   "source": [
    "3. \n",
    "请在第2题的代码继续编写Python程序，将以下内容写入my.txt文件中：\n",
    "\n",
    "第1行：你的学号和姓名\n",
    "\n",
    "第2行：3门课程的平均成绩，保留2位小数，以英文逗号间隔\n",
    "\n",
    "第3行：系统当前时间，格式例如2020-01-01 12:00:00\n",
    "\n",
    "第4行：两秒后的系统当前时间（利用 sleep() 方法）"
   ]
  },
  {
   "cell_type": "code",
   "execution_count": 29,
   "metadata": {},
   "outputs": [],
   "source": [
    "import time\n",
    "with open(\"file/my.txt\",\"w\") as f1:\n",
    "    f1.write('10215501431 李涵一\\n')\n",
    "    m=(82.60+81.00+81.80)/3\n",
    "    f1.write('%.2f\\n'%m)  #write格式化输入和print的一样\n",
    "    t4 = time.strftime(\"%Y-%m-%d %H:%M:%S\\n\",time.localtime())\n",
    "    f1.write(t4)\n",
    "    time.sleep(2)\n",
    "    t4 = time.strftime(\"%Y-%m-%d %H:%M:%S\",time.localtime())\n",
    "    f1.write(t4)"
   ]
  },
  {
   "cell_type": "markdown",
   "metadata": {},
   "source": [
    "4.多线程选做"
   ]
  },
  {
   "cell_type": "code",
   "execution_count": 1,
   "metadata": {},
   "outputs": [
    {
     "name": "stdout",
     "output_type": "stream",
     "text": [
      "线程编号：8848，开始运行！\n",
      "松为您报时：Sat Oct 29 21:52:51 2022\n",
      "线程编号：8849，开始运行！\n",
      "竹为您报时：Sat Oct 29 21:52:51 2022\n",
      "线程编号：8850，开始运行！\n",
      "梅为您报时：Sat Oct 29 21:52:51 2022\n"
     ]
    },
    {
     "name": "stdout",
     "output_type": "stream",
     "text": [
      "松为您报时：Sat Oct 29 21:52:52 2022\n",
      "竹为您报时：Sat Oct 29 21:52:52 2022\n",
      "梅为您报时：Sat Oct 29 21:52:52 2022\n",
      "梅为您报时：Sat Oct 29 21:52:53 2022竹为您报时：Sat Oct 29 21:52:53 2022\n",
      "松为您报时：Sat Oct 29 21:52:53 2022\n",
      "\n",
      "梅为您报时：Sat Oct 29 21:52:54 2022竹为您报时：Sat Oct 29 21:52:54 2022\n",
      "松为您报时：Sat Oct 29 21:52:54 2022\n",
      "\n",
      "松为您报时：Sat Oct 29 21:52:55 2022梅为您报时：Sat Oct 29 21:52:55 2022\n",
      "竹为您报时：Sat Oct 29 21:52:55 2022\n",
      "\n",
      "松为您报时：Sat Oct 29 21:52:56 2022竹为您报时：Sat Oct 29 21:52:56 2022\n",
      "梅为您报时：Sat Oct 29 21:52:56 2022\n",
      "\n",
      "松为您报时：Sat Oct 29 21:52:57 2022梅为您报时：Sat Oct 29 21:52:57 2022\n",
      "竹为您报时：Sat Oct 29 21:52:57 2022\n",
      "\n",
      "竹为您报时：Sat Oct 29 21:52:58 2022\n",
      "松为您报时：Sat Oct 29 21:52:58 2022\n",
      "梅为您报时：Sat Oct 29 21:52:58 2022\n",
      "松为您报时：Sat Oct 29 21:52:59 2022竹为您报时：Sat Oct 29 21:52:59 2022\n",
      "梅为您报时：Sat Oct 29 21:52:59 2022\n",
      "\n",
      "松为您报时：Sat Oct 29 21:53:00 2022梅为您报时：Sat Oct 29 21:53:00 2022\n",
      "竹为您报时：Sat Oct 29 21:53:00 2022\n",
      "\n",
      "线程编号：8850，运行结束！线程编号：8848，运行结束！\n",
      "线程编号：8849，运行结束！\n",
      "\n"
     ]
    }
   ],
   "source": [
    "import threading\n",
    "import time\n",
    "\n",
    "\n",
    "class clockThread(threading.Thread):\n",
    "    def __init__(self, threadID, name, count, delay_time):\n",
    "        threading.Thread.__init__(self)\n",
    "        self.threadID = threadID\n",
    "        self.name = name\n",
    "        self.count = count\n",
    "        self.delay_time = delay_time\n",
    "\n",
    "    def run(self):\n",
    "        print('线程编号：' + str(self.threadID) + '，开始运行！')\n",
    "        for i in range(self.count):\n",
    "            print(self.name + '为您报时：' + time.asctime())\n",
    "            time.sleep(self.delay_time)\n",
    "        print('线程编号：' + str(self.threadID) + '，运行结束！')\n",
    "\n",
    "th1 = clockThread(8848,'松',10,1)\n",
    "th2 = clockThread(8849,'竹',10,1)\n",
    "th3 = clockThread(8850,'梅',10,1)\n",
    "th1.start()\n",
    "th2.start()\n",
    "th3.start()"
   ]
  }
 ],
 "metadata": {
  "kernelspec": {
   "display_name": "Python 3.10.0 64-bit",
   "language": "python",
   "name": "python3"
  },
  "language_info": {
   "codemirror_mode": {
    "name": "ipython",
    "version": 3
   },
   "file_extension": ".py",
   "mimetype": "text/x-python",
   "name": "python",
   "nbconvert_exporter": "python",
   "pygments_lexer": "ipython3",
   "version": "3.10.0"
  },
  "orig_nbformat": 4,
  "vscode": {
   "interpreter": {
    "hash": "865d8b2eb28e274047ba64063dfb6a2aabf0dfec4905d304d7a76618dae6fdd4"
   }
  }
 },
 "nbformat": 4,
 "nbformat_minor": 2
}
