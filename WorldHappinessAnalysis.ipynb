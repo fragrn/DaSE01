{
 "cells": [
  {
   "attachments": {},
   "cell_type": "markdown",
   "metadata": {},
   "source": [
    "# 世界幸福度分析"
   ]
  },
  {
   "cell_type": "code",
   "execution_count": 46,
   "metadata": {},
   "outputs": [
    {
     "data": {
      "text/html": [
       "        <script type=\"text/javascript\">\n",
       "        window.PlotlyConfig = {MathJaxConfig: 'local'};\n",
       "        if (window.MathJax && window.MathJax.Hub && window.MathJax.Hub.Config) {window.MathJax.Hub.Config({SVG: {font: \"STIX-Web\"}});}\n",
       "        if (typeof require !== 'undefined') {\n",
       "        require.undef(\"plotly\");\n",
       "        requirejs.config({\n",
       "            paths: {\n",
       "                'plotly': ['https://cdn.plot.ly/plotly-2.16.1.min']\n",
       "            }\n",
       "        });\n",
       "        require(['plotly'], function(Plotly) {\n",
       "            window._Plotly = Plotly;\n",
       "        });\n",
       "        }\n",
       "        </script>\n",
       "        "
      ]
     },
     "metadata": {},
     "output_type": "display_data"
    }
   ],
   "source": [
    "# 数据整理\n",
    "import numpy as np\n",
    "import pandas as pd\n",
    "\n",
    "# 可视化\n",
    "import matplotlib.pyplot as plt\n",
    "import seaborn as sns\n",
    "import plotly as py\n",
    "import plotly.graph_objs as go\n",
    "import plotly.express as px\n",
    "from plotly.offline import init_notebook_mode, iplot, plot\n",
    "import nbformat\n",
    "init_notebook_mode(connected=True)\n",
    "plt.style.use('seaborn')\n"
   ]
  },
  {
   "attachments": {},
   "cell_type": "markdown",
   "metadata": {},
   "source": [
    "## 数据信息查看"
   ]
  },
  {
   "cell_type": "code",
   "execution_count": 47,
   "metadata": {},
   "outputs": [
    {
     "name": "stdout",
     "output_type": "stream",
     "text": [
      "<class 'pandas.core.frame.DataFrame'>\n",
      "RangeIndex: 2089 entries, 0 to 2088\n",
      "Data columns (total 12 columns):\n",
      " #   Column                             Non-Null Count  Dtype  \n",
      "---  ------                             --------------  -----  \n",
      " 0   Country name                       2089 non-null   object \n",
      " 1   year                               2089 non-null   int64  \n",
      " 2   Life Ladder                        2089 non-null   float64\n",
      " 3   Log GDP per capita                 2062 non-null   float64\n",
      " 4   Social support                     2076 non-null   float64\n",
      " 5   Healthy life expectancy at birth   2031 non-null   float64\n",
      " 6   Freedom to make life choices       2057 non-null   float64\n",
      " 7   Generosity                         2009 non-null   float64\n",
      " 8   Perceptions of corruption          1976 non-null   float64\n",
      " 9   Positive affect                    2065 non-null   float64\n",
      " 10  Negative affect                    2073 non-null   float64\n",
      " 11  Confidence in national government  1873 non-null   float64\n",
      "dtypes: float64(10), int64(1), object(1)\n",
      "memory usage: 196.0+ KB\n"
     ]
    },
    {
     "data": {
      "text/html": [
       "<div>\n",
       "<style scoped>\n",
       "    .dataframe tbody tr th:only-of-type {\n",
       "        vertical-align: middle;\n",
       "    }\n",
       "\n",
       "    .dataframe tbody tr th {\n",
       "        vertical-align: top;\n",
       "    }\n",
       "\n",
       "    .dataframe thead th {\n",
       "        text-align: right;\n",
       "    }\n",
       "</style>\n",
       "<table border=\"1\" class=\"dataframe\">\n",
       "  <thead>\n",
       "    <tr style=\"text-align: right;\">\n",
       "      <th></th>\n",
       "      <th>year</th>\n",
       "      <th>Life Ladder</th>\n",
       "      <th>Log GDP per capita</th>\n",
       "      <th>Social support</th>\n",
       "      <th>Healthy life expectancy at birth</th>\n",
       "      <th>Freedom to make life choices</th>\n",
       "      <th>Generosity</th>\n",
       "      <th>Perceptions of corruption</th>\n",
       "      <th>Positive affect</th>\n",
       "      <th>Negative affect</th>\n",
       "      <th>Confidence in national government</th>\n",
       "    </tr>\n",
       "  </thead>\n",
       "  <tbody>\n",
       "    <tr>\n",
       "      <th>count</th>\n",
       "      <td>2089.000000</td>\n",
       "      <td>2089.000000</td>\n",
       "      <td>2062.000000</td>\n",
       "      <td>2076.000000</td>\n",
       "      <td>2031.000000</td>\n",
       "      <td>2057.000000</td>\n",
       "      <td>2009.000000</td>\n",
       "      <td>1976.000000</td>\n",
       "      <td>2065.000000</td>\n",
       "      <td>2073.000000</td>\n",
       "      <td>1873.000000</td>\n",
       "    </tr>\n",
       "    <tr>\n",
       "      <th>mean</th>\n",
       "      <td>2013.727621</td>\n",
       "      <td>5.473747</td>\n",
       "      <td>9.378408</td>\n",
       "      <td>0.811542</td>\n",
       "      <td>63.180326</td>\n",
       "      <td>0.745462</td>\n",
       "      <td>0.000102</td>\n",
       "      <td>0.746474</td>\n",
       "      <td>0.651421</td>\n",
       "      <td>0.270544</td>\n",
       "      <td>0.483914</td>\n",
       "    </tr>\n",
       "    <tr>\n",
       "      <th>std</th>\n",
       "      <td>4.455614</td>\n",
       "      <td>1.115567</td>\n",
       "      <td>1.143520</td>\n",
       "      <td>0.118935</td>\n",
       "      <td>6.948546</td>\n",
       "      <td>0.140751</td>\n",
       "      <td>0.161082</td>\n",
       "      <td>0.186136</td>\n",
       "      <td>0.105954</td>\n",
       "      <td>0.085849</td>\n",
       "      <td>0.191515</td>\n",
       "    </tr>\n",
       "    <tr>\n",
       "      <th>min</th>\n",
       "      <td>2005.000000</td>\n",
       "      <td>2.178809</td>\n",
       "      <td>5.526723</td>\n",
       "      <td>0.290184</td>\n",
       "      <td>6.720000</td>\n",
       "      <td>0.257534</td>\n",
       "      <td>-0.335739</td>\n",
       "      <td>0.035198</td>\n",
       "      <td>0.178886</td>\n",
       "      <td>0.082737</td>\n",
       "      <td>0.068769</td>\n",
       "    </tr>\n",
       "    <tr>\n",
       "      <th>25%</th>\n",
       "      <td>2010.000000</td>\n",
       "      <td>4.651972</td>\n",
       "      <td>8.473547</td>\n",
       "      <td>0.747664</td>\n",
       "      <td>58.965000</td>\n",
       "      <td>0.651689</td>\n",
       "      <td>-0.113172</td>\n",
       "      <td>0.689840</td>\n",
       "      <td>0.570057</td>\n",
       "      <td>0.207652</td>\n",
       "      <td>0.334808</td>\n",
       "    </tr>\n",
       "    <tr>\n",
       "      <th>50%</th>\n",
       "      <td>2014.000000</td>\n",
       "      <td>5.405246</td>\n",
       "      <td>9.463269</td>\n",
       "      <td>0.834770</td>\n",
       "      <td>64.980003</td>\n",
       "      <td>0.767357</td>\n",
       "      <td>-0.023366</td>\n",
       "      <td>0.801339</td>\n",
       "      <td>0.662837</td>\n",
       "      <td>0.260328</td>\n",
       "      <td>0.467046</td>\n",
       "    </tr>\n",
       "    <tr>\n",
       "      <th>75%</th>\n",
       "      <td>2017.000000</td>\n",
       "      <td>6.294282</td>\n",
       "      <td>10.347656</td>\n",
       "      <td>0.904682</td>\n",
       "      <td>68.362499</td>\n",
       "      <td>0.857677</td>\n",
       "      <td>0.090584</td>\n",
       "      <td>0.870789</td>\n",
       "      <td>0.737176</td>\n",
       "      <td>0.321706</td>\n",
       "      <td>0.616302</td>\n",
       "    </tr>\n",
       "    <tr>\n",
       "      <th>max</th>\n",
       "      <td>2021.000000</td>\n",
       "      <td>8.018934</td>\n",
       "      <td>11.665803</td>\n",
       "      <td>0.987343</td>\n",
       "      <td>74.349998</td>\n",
       "      <td>0.985178</td>\n",
       "      <td>0.706377</td>\n",
       "      <td>0.983276</td>\n",
       "      <td>0.883586</td>\n",
       "      <td>0.704590</td>\n",
       "      <td>0.993604</td>\n",
       "    </tr>\n",
       "  </tbody>\n",
       "</table>\n",
       "</div>"
      ],
      "text/plain": [
       "              year  Life Ladder  Log GDP per capita  Social support  \\\n",
       "count  2089.000000  2089.000000         2062.000000     2076.000000   \n",
       "mean   2013.727621     5.473747            9.378408        0.811542   \n",
       "std       4.455614     1.115567            1.143520        0.118935   \n",
       "min    2005.000000     2.178809            5.526723        0.290184   \n",
       "25%    2010.000000     4.651972            8.473547        0.747664   \n",
       "50%    2014.000000     5.405246            9.463269        0.834770   \n",
       "75%    2017.000000     6.294282           10.347656        0.904682   \n",
       "max    2021.000000     8.018934           11.665803        0.987343   \n",
       "\n",
       "       Healthy life expectancy at birth  Freedom to make life choices  \\\n",
       "count                       2031.000000                   2057.000000   \n",
       "mean                          63.180326                      0.745462   \n",
       "std                            6.948546                      0.140751   \n",
       "min                            6.720000                      0.257534   \n",
       "25%                           58.965000                      0.651689   \n",
       "50%                           64.980003                      0.767357   \n",
       "75%                           68.362499                      0.857677   \n",
       "max                           74.349998                      0.985178   \n",
       "\n",
       "        Generosity  Perceptions of corruption  Positive affect  \\\n",
       "count  2009.000000                1976.000000      2065.000000   \n",
       "mean      0.000102                   0.746474         0.651421   \n",
       "std       0.161082                   0.186136         0.105954   \n",
       "min      -0.335739                   0.035198         0.178886   \n",
       "25%      -0.113172                   0.689840         0.570057   \n",
       "50%      -0.023366                   0.801339         0.662837   \n",
       "75%       0.090584                   0.870789         0.737176   \n",
       "max       0.706377                   0.983276         0.883586   \n",
       "\n",
       "       Negative affect  Confidence in national government  \n",
       "count      2073.000000                        1873.000000  \n",
       "mean          0.270544                           0.483914  \n",
       "std           0.085849                           0.191515  \n",
       "min           0.082737                           0.068769  \n",
       "25%           0.207652                           0.334808  \n",
       "50%           0.260328                           0.467046  \n",
       "75%           0.321706                           0.616302  \n",
       "max           0.704590                           0.993604  "
      ]
     },
     "execution_count": 47,
     "metadata": {},
     "output_type": "execute_result"
    }
   ],
   "source": [
    "#初步认识\n",
    "df_all_raw = pd.read_csv('D:/学习资料/数据科学与工程导论/大作业/幸福度/upto2021.csv')  # df:Dataframe\n",
    "df_all_raw.info()\n",
    "df_all_raw.describe()\n"
   ]
  },
  {
   "cell_type": "code",
   "execution_count": 48,
   "metadata": {},
   "outputs": [
    {
     "data": {
      "text/html": [
       "<div>\n",
       "<style scoped>\n",
       "    .dataframe tbody tr th:only-of-type {\n",
       "        vertical-align: middle;\n",
       "    }\n",
       "\n",
       "    .dataframe tbody tr th {\n",
       "        vertical-align: top;\n",
       "    }\n",
       "\n",
       "    .dataframe thead th {\n",
       "        text-align: right;\n",
       "    }\n",
       "</style>\n",
       "<table border=\"1\" class=\"dataframe\">\n",
       "  <thead>\n",
       "    <tr style=\"text-align: right;\">\n",
       "      <th></th>\n",
       "      <th>Country name</th>\n",
       "      <th>year</th>\n",
       "      <th>Life Ladder</th>\n",
       "      <th>Log GDP per capita</th>\n",
       "      <th>Social support</th>\n",
       "      <th>Healthy life expectancy at birth</th>\n",
       "      <th>Freedom to make life choices</th>\n",
       "      <th>Generosity</th>\n",
       "      <th>Perceptions of corruption</th>\n",
       "      <th>Positive affect</th>\n",
       "      <th>Negative affect</th>\n",
       "      <th>Confidence in national government</th>\n",
       "    </tr>\n",
       "  </thead>\n",
       "  <tbody>\n",
       "    <tr>\n",
       "      <th>0</th>\n",
       "      <td>Haiti</td>\n",
       "      <td>2006</td>\n",
       "      <td>3.754156</td>\n",
       "      <td>7.964181</td>\n",
       "      <td>0.693801</td>\n",
       "      <td>6.720000</td>\n",
       "      <td>0.449475</td>\n",
       "      <td>0.361143</td>\n",
       "      <td>0.853506</td>\n",
       "      <td>0.583196</td>\n",
       "      <td>0.332141</td>\n",
       "      <td>0.357021</td>\n",
       "    </tr>\n",
       "    <tr>\n",
       "      <th>1</th>\n",
       "      <td>Haiti</td>\n",
       "      <td>2008</td>\n",
       "      <td>3.846329</td>\n",
       "      <td>8.004622</td>\n",
       "      <td>0.679098</td>\n",
       "      <td>17.360001</td>\n",
       "      <td>0.464971</td>\n",
       "      <td>0.219059</td>\n",
       "      <td>0.811659</td>\n",
       "      <td>0.572523</td>\n",
       "      <td>0.255774</td>\n",
       "      <td>0.236633</td>\n",
       "    </tr>\n",
       "    <tr>\n",
       "      <th>2</th>\n",
       "      <td>Haiti</td>\n",
       "      <td>2010</td>\n",
       "      <td>3.765999</td>\n",
       "      <td>7.972780</td>\n",
       "      <td>0.554031</td>\n",
       "      <td>28.000000</td>\n",
       "      <td>0.372941</td>\n",
       "      <td>0.173648</td>\n",
       "      <td>0.848007</td>\n",
       "      <td>0.495069</td>\n",
       "      <td>0.292557</td>\n",
       "      <td>0.156371</td>\n",
       "    </tr>\n",
       "    <tr>\n",
       "      <th>3</th>\n",
       "      <td>Haiti</td>\n",
       "      <td>2011</td>\n",
       "      <td>4.844574</td>\n",
       "      <td>8.007442</td>\n",
       "      <td>0.567039</td>\n",
       "      <td>33.320000</td>\n",
       "      <td>0.412588</td>\n",
       "      <td>0.200928</td>\n",
       "      <td>0.681960</td>\n",
       "      <td>0.550258</td>\n",
       "      <td>0.244856</td>\n",
       "      <td>0.456668</td>\n",
       "    </tr>\n",
       "    <tr>\n",
       "      <th>4</th>\n",
       "      <td>Haiti</td>\n",
       "      <td>2012</td>\n",
       "      <td>4.413475</td>\n",
       "      <td>7.997653</td>\n",
       "      <td>0.748663</td>\n",
       "      <td>38.639999</td>\n",
       "      <td>0.482486</td>\n",
       "      <td>0.249091</td>\n",
       "      <td>0.717166</td>\n",
       "      <td>0.556583</td>\n",
       "      <td>0.283806</td>\n",
       "      <td>0.367327</td>\n",
       "    </tr>\n",
       "    <tr>\n",
       "      <th>...</th>\n",
       "      <td>...</td>\n",
       "      <td>...</td>\n",
       "      <td>...</td>\n",
       "      <td>...</td>\n",
       "      <td>...</td>\n",
       "      <td>...</td>\n",
       "      <td>...</td>\n",
       "      <td>...</td>\n",
       "      <td>...</td>\n",
       "      <td>...</td>\n",
       "      <td>...</td>\n",
       "      <td>...</td>\n",
       "    </tr>\n",
       "    <tr>\n",
       "      <th>2084</th>\n",
       "      <td>Somaliland region</td>\n",
       "      <td>2012</td>\n",
       "      <td>5.057314</td>\n",
       "      <td>NaN</td>\n",
       "      <td>0.786291</td>\n",
       "      <td>NaN</td>\n",
       "      <td>0.758219</td>\n",
       "      <td>NaN</td>\n",
       "      <td>0.333832</td>\n",
       "      <td>0.686732</td>\n",
       "      <td>0.152428</td>\n",
       "      <td>0.651242</td>\n",
       "    </tr>\n",
       "    <tr>\n",
       "      <th>2085</th>\n",
       "      <td>Hong Kong S.A.R. of China</td>\n",
       "      <td>2008</td>\n",
       "      <td>5.137262</td>\n",
       "      <td>10.815546</td>\n",
       "      <td>0.840222</td>\n",
       "      <td>NaN</td>\n",
       "      <td>0.922211</td>\n",
       "      <td>0.293682</td>\n",
       "      <td>0.273945</td>\n",
       "      <td>0.575073</td>\n",
       "      <td>0.236634</td>\n",
       "      <td>0.677437</td>\n",
       "    </tr>\n",
       "    <tr>\n",
       "      <th>2086</th>\n",
       "      <td>Hong Kong S.A.R. of China</td>\n",
       "      <td>2009</td>\n",
       "      <td>5.397056</td>\n",
       "      <td>10.788493</td>\n",
       "      <td>0.834716</td>\n",
       "      <td>NaN</td>\n",
       "      <td>0.918026</td>\n",
       "      <td>0.305077</td>\n",
       "      <td>0.272125</td>\n",
       "      <td>0.606459</td>\n",
       "      <td>0.210104</td>\n",
       "      <td>0.619142</td>\n",
       "    </tr>\n",
       "    <tr>\n",
       "      <th>2087</th>\n",
       "      <td>Hong Kong S.A.R. of China</td>\n",
       "      <td>2010</td>\n",
       "      <td>5.642835</td>\n",
       "      <td>10.846634</td>\n",
       "      <td>0.857314</td>\n",
       "      <td>NaN</td>\n",
       "      <td>0.890418</td>\n",
       "      <td>0.329340</td>\n",
       "      <td>0.255775</td>\n",
       "      <td>0.600561</td>\n",
       "      <td>0.183106</td>\n",
       "      <td>0.634737</td>\n",
       "    </tr>\n",
       "    <tr>\n",
       "      <th>2088</th>\n",
       "      <td>Hong Kong S.A.R. of China</td>\n",
       "      <td>2011</td>\n",
       "      <td>5.474011</td>\n",
       "      <td>10.886932</td>\n",
       "      <td>0.846060</td>\n",
       "      <td>NaN</td>\n",
       "      <td>0.894330</td>\n",
       "      <td>0.231902</td>\n",
       "      <td>0.244887</td>\n",
       "      <td>0.582491</td>\n",
       "      <td>0.195712</td>\n",
       "      <td>0.584562</td>\n",
       "    </tr>\n",
       "  </tbody>\n",
       "</table>\n",
       "<p>2089 rows × 12 columns</p>\n",
       "</div>"
      ],
      "text/plain": [
       "                   Country name  year  Life Ladder  Log GDP per capita  \\\n",
       "0                         Haiti  2006     3.754156            7.964181   \n",
       "1                         Haiti  2008     3.846329            8.004622   \n",
       "2                         Haiti  2010     3.765999            7.972780   \n",
       "3                         Haiti  2011     4.844574            8.007442   \n",
       "4                         Haiti  2012     4.413475            7.997653   \n",
       "...                         ...   ...          ...                 ...   \n",
       "2084          Somaliland region  2012     5.057314                 NaN   \n",
       "2085  Hong Kong S.A.R. of China  2008     5.137262           10.815546   \n",
       "2086  Hong Kong S.A.R. of China  2009     5.397056           10.788493   \n",
       "2087  Hong Kong S.A.R. of China  2010     5.642835           10.846634   \n",
       "2088  Hong Kong S.A.R. of China  2011     5.474011           10.886932   \n",
       "\n",
       "      Social support  Healthy life expectancy at birth  \\\n",
       "0           0.693801                          6.720000   \n",
       "1           0.679098                         17.360001   \n",
       "2           0.554031                         28.000000   \n",
       "3           0.567039                         33.320000   \n",
       "4           0.748663                         38.639999   \n",
       "...              ...                               ...   \n",
       "2084        0.786291                               NaN   \n",
       "2085        0.840222                               NaN   \n",
       "2086        0.834716                               NaN   \n",
       "2087        0.857314                               NaN   \n",
       "2088        0.846060                               NaN   \n",
       "\n",
       "      Freedom to make life choices  Generosity  Perceptions of corruption  \\\n",
       "0                         0.449475    0.361143                   0.853506   \n",
       "1                         0.464971    0.219059                   0.811659   \n",
       "2                         0.372941    0.173648                   0.848007   \n",
       "3                         0.412588    0.200928                   0.681960   \n",
       "4                         0.482486    0.249091                   0.717166   \n",
       "...                            ...         ...                        ...   \n",
       "2084                      0.758219         NaN                   0.333832   \n",
       "2085                      0.922211    0.293682                   0.273945   \n",
       "2086                      0.918026    0.305077                   0.272125   \n",
       "2087                      0.890418    0.329340                   0.255775   \n",
       "2088                      0.894330    0.231902                   0.244887   \n",
       "\n",
       "      Positive affect  Negative affect  Confidence in national government  \n",
       "0            0.583196         0.332141                           0.357021  \n",
       "1            0.572523         0.255774                           0.236633  \n",
       "2            0.495069         0.292557                           0.156371  \n",
       "3            0.550258         0.244856                           0.456668  \n",
       "4            0.556583         0.283806                           0.367327  \n",
       "...               ...              ...                                ...  \n",
       "2084         0.686732         0.152428                           0.651242  \n",
       "2085         0.575073         0.236634                           0.677437  \n",
       "2086         0.606459         0.210104                           0.619142  \n",
       "2087         0.600561         0.183106                           0.634737  \n",
       "2088         0.582491         0.195712                           0.584562  \n",
       "\n",
       "[2089 rows x 12 columns]"
      ]
     },
     "execution_count": 48,
     "metadata": {},
     "output_type": "execute_result"
    }
   ],
   "source": [
    "df_all_raw"
   ]
  },
  {
   "attachments": {},
   "cell_type": "markdown",
   "metadata": {},
   "source": [
    "数据集解释:\\\n",
    "**Country name:国家名**\\\n",
    "**year:年份**\\\n",
    "**`Life Ladder:幸福度`**\\\n",
    "测量方法：Please imagine a ladder, with steps numbered from 0 at the\n",
    "bottom to 10 at the top. The top of the ladder represents the best possible life\n",
    "for you and the bottom of the ladder represents the worst possible life for you.\n",
    "On which step of the ladder would you say you personally feel you stand at this\n",
    "time?\" This measure is also referred to as Cantril life ladder, or just life ladder\n",
    "in our analysis.\\\n",
    "**Log GDP per capita:对数人均生产总值**\\\n",
    "测试方法：The statistics of GDP per capita (variable name gdp) in purchasing power parity\n",
    "(PPP) at constant 2017 international dollar prices are from the December 16,\n",
    "2021 update of the World Development Indicators (WDI). The GDP figures for\n",
    "Taiwan, Syria, Palestine, Venezuela, Djibouti and Yemen are from the Penn\n",
    "World Table 10.0.\\\n",
    "**Social support:社会支持**\\\n",
    "测量方法：Social support (or having someone to count on in times of trouble) is the national\n",
    "average of the binary responses (either 0 or 1) to the GWP question \\If you\n",
    "were in trouble, do you have relatives or friends you can count on to help you\n",
    "whenever you need them, or not?\"\\\n",
    "**Healthy life expectancy at birth:健康预期寿命**\\\n",
    "测试方法：Healthy Life Expectancy (HLE). Healthy life expectancies at birth are based\n",
    "on the data extracted from the World Health Organization's (WHO) Global\n",
    "Health Observatory data repository (Last updated: 2020-12-04). The data at\n",
    "the source are available for the years 2000, 2010, 2015 and 2019. To match this\n",
    "report's sample period (2005-2021), interpolation and extrapolation are used.\\\n",
    "**Freedom to make life choices:人生抉择自由**\\\n",
    "测量方法：Freedom to make life choices is the national average of responses to the GWP\n",
    "question \\Are you satisfied or dissatisfied with your freedom to choose what\n",
    "you do with your life?\"\\\n",
    "**Generosity:社会慷慨程度**\\\n",
    "测量方法：Generosity is the residual of regressing national average of response to the GWP\n",
    "question \\Have you donated money to a charity in the past month?\" on GDP\n",
    "per capita.\\\n",
    "**Perceptions of corruption:社会清廉程度**\\\n",
    "测量方法：Corruption Perception: The measure is the national average of the survey re-\n",
    "sponses to two questions in the GWP: \\\n",
    "Is corruption widespread throughout\n",
    "the government or not\" and \\\n",
    "Is corruption widespread within businesses or\n",
    "not?\" The overall perception is just the average of the two 0-or-1 responses. In\n",
    "case the perception of government corruption is missing, we use the perception\n",
    "of business corruption as the overall perception. The corruption perception at\n",
    "the national level is just the average response of the overall perception at the\n",
    "individual level.\\\n",
    "**Positive affect:积极影响**\\\n",
    "测量方法：Positive affect is defined as the average of three positive affect measures in\n",
    "GWP: laugh, enjoyment and doing interesting things in the Gallup World Poll\n",
    "waves 3-7. These measures are the responses to the following three questions,\n",
    "respectively: \\\n",
    "Did you smile or laugh a lot yesterday?\", and \\\n",
    "Did you experience\n",
    "the following feelings during A LOT OF THE DAY yesterday? How about\n",
    "Enjoyment?\", \\\n",
    "Did you learn or do something interesting yesterday?\"\n",
    "{ In earlier rounds of World Happiness Reports, we used a slightly different\n",
    "but highly correlated definition of positive affect (ρ = 0:94). It was defined\n",
    "as the average of happiness, laugh and enjoyment in the Gallup World Poll\n",
    "waves 3-7, where the happiness responses is the answer to the questions\\\n",
    "Did you experience the following feelings during A LOT OF THE DAY\n",
    "yesterday? How about Happiness?\" Waves 3-7 cover years 2008 to 2012\n",
    "and a small number of countries in 2013. For waves 1-2 and those from\n",
    "wave 8 on, positive affect is defined as the average of laugh and enjoyment\n",
    "only, due to the limited availability of happiness.\\\n",
    "**Negative affect:**\\\n",
    "测量方法：Negative affect is defined as the average of three negative affect measures in\n",
    "GWP. They are worry, sadness and anger, respectively the responses to \\\n",
    "Did\n",
    "you experience the following feelings during A LOT OF THE DAY yesterday?\n",
    "How about Worry?\", \\\n",
    "Did you experience the following feelings during A LOT\n",
    "OF THE DAY yesterday? How about Sadness?\", and \\\n",
    "Did you experience the\n",
    "following feelings during A LOT OF THE DAY yesterday? How about Anger?\"\\\n",
    "**Confidence in national government:对政府信任程度**"
   ]
  },
  {
   "cell_type": "code",
   "execution_count": 49,
   "metadata": {},
   "outputs": [
    {
     "name": "stdout",
     "output_type": "stream",
     "text": [
      "['Afghanistan', 'Albania', 'Algeria', 'Angola', 'Argentina', 'Armenia', 'Australia', 'Austria', 'Azerbaijan', 'Bahrain', 'Bangladesh', 'Belarus', 'Belgium', 'Belize', 'Benin', 'Bhutan', 'Bolivia', 'Bosnia and Herzegovina', 'Botswana', 'Brazil', 'Bulgaria', 'Burkina Faso', 'Burundi', 'Cambodia', 'Cameroon', 'Canada', 'Central African Republic', 'Chad', 'Chile', 'China', 'Colombia', 'Comoros', 'Congo (Brazzaville)', 'Congo (Kinshasa)', 'Costa Rica', 'Croatia', 'Cuba', 'Cyprus', 'Czechia', 'Denmark', 'Djibouti', 'Dominican Republic', 'Ecuador', 'Egypt', 'El Salvador', 'Estonia', 'Eswatini', 'Ethiopia', 'Finland', 'France', 'Gabon', 'Gambia', 'Georgia', 'Germany', 'Ghana', 'Greece', 'Guatemala', 'Guinea', 'Guyana', 'Haiti', 'Honduras', 'Hong Kong S.A.R. of China', 'Hungary', 'Iceland', 'India', 'Indonesia', 'Iran', 'Iraq', 'Ireland', 'Israel', 'Italy', 'Ivory Coast', 'Jamaica', 'Japan', 'Jordan', 'Kazakhstan', 'Kenya', 'Kosovo', 'Kuwait', 'Kyrgyzstan', 'Laos', 'Latvia', 'Lebanon', 'Lesotho', 'Liberia', 'Libya', 'Lithuania', 'Luxembourg', 'Madagascar', 'Malawi', 'Malaysia', 'Maldives', 'Mali', 'Malta', 'Mauritania', 'Mauritius', 'Mexico', 'Moldova', 'Mongolia', 'Montenegro', 'Morocco', 'Mozambique', 'Myanmar', 'Namibia', 'Nepal', 'Netherlands', 'New Zealand', 'Nicaragua', 'Niger', 'Nigeria', 'North Cyprus', 'North Macedonia', 'Norway', 'Oman', 'Pakistan', 'Palestinian Territories', 'Panama', 'Paraguay', 'Peru', 'Philippines', 'Poland', 'Portugal', 'Qatar', 'Romania', 'Russia', 'Rwanda', 'Saudi Arabia', 'Senegal', 'Serbia', 'Sierra Leone', 'Singapore', 'Slovakia', 'Slovenia', 'Somalia', 'Somaliland region', 'South Africa', 'South Korea', 'South Sudan', 'Spain', 'Sri Lanka', 'Sudan', 'Suriname', 'Sweden', 'Switzerland', 'Syria', 'Taiwan Province of China', 'Tajikistan', 'Tanzania', 'Thailand', 'Togo', 'Trinidad and Tobago', 'Tunisia', 'Turkey', 'Turkmenistan', 'Uganda', 'Ukraine', 'United Arab Emirates', 'United Kingdom', 'United States', 'Uruguay', 'Uzbekistan', 'Venezuela', 'Vietnam', 'Yemen', 'Zambia', 'Zimbabwe']\n"
     ]
    }
   ],
   "source": [
    "#得到countryname_list\n",
    "countryname_list = df_all_raw['Country name'].unique()\n",
    "countryname_list=sorted(countryname_list)\n",
    "print(countryname_list)"
   ]
  },
  {
   "cell_type": "code",
   "execution_count": 50,
   "metadata": {},
   "outputs": [
    {
     "name": "stdout",
     "output_type": "stream",
     "text": [
      "共统计了166个国家\n",
      "********************\n",
      "列名：\n",
      "['Country name', 'year', 'Life Ladder', 'Log GDP per capita', 'Social support', 'Healthy life expectancy at birth', 'Freedom to make life choices', 'Generosity', 'Perceptions of corruption', 'Positive affect', 'Negative affect', 'Confidence in national government']\n"
     ]
    }
   ],
   "source": [
    "print(\"共统计了%d个国家\"%len(countryname_list))\n",
    "print('*'*20)\n",
    "#得到幸福度影响因素列表\n",
    "factors=list(df_all_raw.columns)\n",
    "print(\"列名：\")\n",
    "print(factors)"
   ]
  },
  {
   "attachments": {},
   "cell_type": "markdown",
   "metadata": {},
   "source": [
    "## 数据清洗"
   ]
  },
  {
   "attachments": {},
   "cell_type": "markdown",
   "metadata": {},
   "source": [
    "1. 数据去重"
   ]
  },
  {
   "cell_type": "code",
   "execution_count": 51,
   "metadata": {},
   "outputs": [
    {
     "name": "stdout",
     "output_type": "stream",
     "text": [
      "去重前\n",
      "(2089, 12)\n",
      "去重后\n",
      "(2089, 12)\n"
     ]
    }
   ],
   "source": [
    "print(\"去重前\")\n",
    "print(df_all_raw.shape)\n",
    "df_all_0=df_all_raw.drop_duplicates(subset=['Country name','year'])\n",
    "print(\"去重后\")\n",
    "print(df_all_0.shape)\n",
    "df_all_0.to_csv(\"df_all_0.csv\")"
   ]
  },
  {
   "cell_type": "code",
   "execution_count": 52,
   "metadata": {},
   "outputs": [
    {
     "data": {
      "text/html": [
       "<div>\n",
       "<style scoped>\n",
       "    .dataframe tbody tr th:only-of-type {\n",
       "        vertical-align: middle;\n",
       "    }\n",
       "\n",
       "    .dataframe tbody tr th {\n",
       "        vertical-align: top;\n",
       "    }\n",
       "\n",
       "    .dataframe thead th {\n",
       "        text-align: right;\n",
       "    }\n",
       "</style>\n",
       "<table border=\"1\" class=\"dataframe\">\n",
       "  <thead>\n",
       "    <tr style=\"text-align: right;\">\n",
       "      <th></th>\n",
       "      <th>Country name</th>\n",
       "      <th>year</th>\n",
       "      <th>Life Ladder</th>\n",
       "      <th>Log GDP per capita</th>\n",
       "      <th>Social support</th>\n",
       "      <th>Healthy life expectancy at birth</th>\n",
       "      <th>Freedom to make life choices</th>\n",
       "      <th>Generosity</th>\n",
       "      <th>Perceptions of corruption</th>\n",
       "      <th>Positive affect</th>\n",
       "      <th>Negative affect</th>\n",
       "      <th>Confidence in national government</th>\n",
       "    </tr>\n",
       "  </thead>\n",
       "  <tbody>\n",
       "    <tr>\n",
       "      <th>0</th>\n",
       "      <td>Haiti</td>\n",
       "      <td>2006</td>\n",
       "      <td>3.754156</td>\n",
       "      <td>7.964181</td>\n",
       "      <td>0.693801</td>\n",
       "      <td>6.720000</td>\n",
       "      <td>0.449475</td>\n",
       "      <td>0.361143</td>\n",
       "      <td>0.853506</td>\n",
       "      <td>0.583196</td>\n",
       "      <td>0.332141</td>\n",
       "      <td>0.357021</td>\n",
       "    </tr>\n",
       "    <tr>\n",
       "      <th>1</th>\n",
       "      <td>Haiti</td>\n",
       "      <td>2008</td>\n",
       "      <td>3.846329</td>\n",
       "      <td>8.004622</td>\n",
       "      <td>0.679098</td>\n",
       "      <td>17.360001</td>\n",
       "      <td>0.464971</td>\n",
       "      <td>0.219059</td>\n",
       "      <td>0.811659</td>\n",
       "      <td>0.572523</td>\n",
       "      <td>0.255774</td>\n",
       "      <td>0.236633</td>\n",
       "    </tr>\n",
       "    <tr>\n",
       "      <th>2</th>\n",
       "      <td>Haiti</td>\n",
       "      <td>2010</td>\n",
       "      <td>3.765999</td>\n",
       "      <td>7.972780</td>\n",
       "      <td>0.554031</td>\n",
       "      <td>28.000000</td>\n",
       "      <td>0.372941</td>\n",
       "      <td>0.173648</td>\n",
       "      <td>0.848007</td>\n",
       "      <td>0.495069</td>\n",
       "      <td>0.292557</td>\n",
       "      <td>0.156371</td>\n",
       "    </tr>\n",
       "    <tr>\n",
       "      <th>3</th>\n",
       "      <td>Haiti</td>\n",
       "      <td>2011</td>\n",
       "      <td>4.844574</td>\n",
       "      <td>8.007442</td>\n",
       "      <td>0.567039</td>\n",
       "      <td>33.320000</td>\n",
       "      <td>0.412588</td>\n",
       "      <td>0.200928</td>\n",
       "      <td>0.681960</td>\n",
       "      <td>0.550258</td>\n",
       "      <td>0.244856</td>\n",
       "      <td>0.456668</td>\n",
       "    </tr>\n",
       "    <tr>\n",
       "      <th>4</th>\n",
       "      <td>Haiti</td>\n",
       "      <td>2012</td>\n",
       "      <td>4.413475</td>\n",
       "      <td>7.997653</td>\n",
       "      <td>0.748663</td>\n",
       "      <td>38.639999</td>\n",
       "      <td>0.482486</td>\n",
       "      <td>0.249091</td>\n",
       "      <td>0.717166</td>\n",
       "      <td>0.556583</td>\n",
       "      <td>0.283806</td>\n",
       "      <td>0.367327</td>\n",
       "    </tr>\n",
       "    <tr>\n",
       "      <th>...</th>\n",
       "      <td>...</td>\n",
       "      <td>...</td>\n",
       "      <td>...</td>\n",
       "      <td>...</td>\n",
       "      <td>...</td>\n",
       "      <td>...</td>\n",
       "      <td>...</td>\n",
       "      <td>...</td>\n",
       "      <td>...</td>\n",
       "      <td>...</td>\n",
       "      <td>...</td>\n",
       "      <td>...</td>\n",
       "    </tr>\n",
       "    <tr>\n",
       "      <th>2084</th>\n",
       "      <td>Somaliland region</td>\n",
       "      <td>2012</td>\n",
       "      <td>5.057314</td>\n",
       "      <td>NaN</td>\n",
       "      <td>0.786291</td>\n",
       "      <td>NaN</td>\n",
       "      <td>0.758219</td>\n",
       "      <td>NaN</td>\n",
       "      <td>0.333832</td>\n",
       "      <td>0.686732</td>\n",
       "      <td>0.152428</td>\n",
       "      <td>0.651242</td>\n",
       "    </tr>\n",
       "    <tr>\n",
       "      <th>2085</th>\n",
       "      <td>Hong Kong S.A.R. of China</td>\n",
       "      <td>2008</td>\n",
       "      <td>5.137262</td>\n",
       "      <td>10.815546</td>\n",
       "      <td>0.840222</td>\n",
       "      <td>NaN</td>\n",
       "      <td>0.922211</td>\n",
       "      <td>0.293682</td>\n",
       "      <td>0.273945</td>\n",
       "      <td>0.575073</td>\n",
       "      <td>0.236634</td>\n",
       "      <td>0.677437</td>\n",
       "    </tr>\n",
       "    <tr>\n",
       "      <th>2086</th>\n",
       "      <td>Hong Kong S.A.R. of China</td>\n",
       "      <td>2009</td>\n",
       "      <td>5.397056</td>\n",
       "      <td>10.788493</td>\n",
       "      <td>0.834716</td>\n",
       "      <td>NaN</td>\n",
       "      <td>0.918026</td>\n",
       "      <td>0.305077</td>\n",
       "      <td>0.272125</td>\n",
       "      <td>0.606459</td>\n",
       "      <td>0.210104</td>\n",
       "      <td>0.619142</td>\n",
       "    </tr>\n",
       "    <tr>\n",
       "      <th>2087</th>\n",
       "      <td>Hong Kong S.A.R. of China</td>\n",
       "      <td>2010</td>\n",
       "      <td>5.642835</td>\n",
       "      <td>10.846634</td>\n",
       "      <td>0.857314</td>\n",
       "      <td>NaN</td>\n",
       "      <td>0.890418</td>\n",
       "      <td>0.329340</td>\n",
       "      <td>0.255775</td>\n",
       "      <td>0.600561</td>\n",
       "      <td>0.183106</td>\n",
       "      <td>0.634737</td>\n",
       "    </tr>\n",
       "    <tr>\n",
       "      <th>2088</th>\n",
       "      <td>Hong Kong S.A.R. of China</td>\n",
       "      <td>2011</td>\n",
       "      <td>5.474011</td>\n",
       "      <td>10.886932</td>\n",
       "      <td>0.846060</td>\n",
       "      <td>NaN</td>\n",
       "      <td>0.894330</td>\n",
       "      <td>0.231902</td>\n",
       "      <td>0.244887</td>\n",
       "      <td>0.582491</td>\n",
       "      <td>0.195712</td>\n",
       "      <td>0.584562</td>\n",
       "    </tr>\n",
       "  </tbody>\n",
       "</table>\n",
       "<p>2089 rows × 12 columns</p>\n",
       "</div>"
      ],
      "text/plain": [
       "                   Country name  year  Life Ladder  Log GDP per capita  \\\n",
       "0                         Haiti  2006     3.754156            7.964181   \n",
       "1                         Haiti  2008     3.846329            8.004622   \n",
       "2                         Haiti  2010     3.765999            7.972780   \n",
       "3                         Haiti  2011     4.844574            8.007442   \n",
       "4                         Haiti  2012     4.413475            7.997653   \n",
       "...                         ...   ...          ...                 ...   \n",
       "2084          Somaliland region  2012     5.057314                 NaN   \n",
       "2085  Hong Kong S.A.R. of China  2008     5.137262           10.815546   \n",
       "2086  Hong Kong S.A.R. of China  2009     5.397056           10.788493   \n",
       "2087  Hong Kong S.A.R. of China  2010     5.642835           10.846634   \n",
       "2088  Hong Kong S.A.R. of China  2011     5.474011           10.886932   \n",
       "\n",
       "      Social support  Healthy life expectancy at birth  \\\n",
       "0           0.693801                          6.720000   \n",
       "1           0.679098                         17.360001   \n",
       "2           0.554031                         28.000000   \n",
       "3           0.567039                         33.320000   \n",
       "4           0.748663                         38.639999   \n",
       "...              ...                               ...   \n",
       "2084        0.786291                               NaN   \n",
       "2085        0.840222                               NaN   \n",
       "2086        0.834716                               NaN   \n",
       "2087        0.857314                               NaN   \n",
       "2088        0.846060                               NaN   \n",
       "\n",
       "      Freedom to make life choices  Generosity  Perceptions of corruption  \\\n",
       "0                         0.449475    0.361143                   0.853506   \n",
       "1                         0.464971    0.219059                   0.811659   \n",
       "2                         0.372941    0.173648                   0.848007   \n",
       "3                         0.412588    0.200928                   0.681960   \n",
       "4                         0.482486    0.249091                   0.717166   \n",
       "...                            ...         ...                        ...   \n",
       "2084                      0.758219         NaN                   0.333832   \n",
       "2085                      0.922211    0.293682                   0.273945   \n",
       "2086                      0.918026    0.305077                   0.272125   \n",
       "2087                      0.890418    0.329340                   0.255775   \n",
       "2088                      0.894330    0.231902                   0.244887   \n",
       "\n",
       "      Positive affect  Negative affect  Confidence in national government  \n",
       "0            0.583196         0.332141                           0.357021  \n",
       "1            0.572523         0.255774                           0.236633  \n",
       "2            0.495069         0.292557                           0.156371  \n",
       "3            0.550258         0.244856                           0.456668  \n",
       "4            0.556583         0.283806                           0.367327  \n",
       "...               ...              ...                                ...  \n",
       "2084         0.686732         0.152428                           0.651242  \n",
       "2085         0.575073         0.236634                           0.677437  \n",
       "2086         0.606459         0.210104                           0.619142  \n",
       "2087         0.600561         0.183106                           0.634737  \n",
       "2088         0.582491         0.195712                           0.584562  \n",
       "\n",
       "[2089 rows x 12 columns]"
      ]
     },
     "execution_count": 52,
     "metadata": {},
     "output_type": "execute_result"
    }
   ],
   "source": [
    "df_all_0"
   ]
  },
  {
   "attachments": {},
   "cell_type": "markdown",
   "metadata": {},
   "source": [
    "2. 数据排序"
   ]
  },
  {
   "cell_type": "code",
   "execution_count": 53,
   "metadata": {},
   "outputs": [],
   "source": [
    "df_all_1 = df_all_0.sort_values(\n",
    "    by=['Country name', 'year'])\n",
    "df_all_1.index = range(0, 2089)\n",
    "#df_all_1.to_csv(\"df_all_1.csv\")"
   ]
  },
  {
   "cell_type": "code",
   "execution_count": 54,
   "metadata": {},
   "outputs": [
    {
     "data": {
      "text/html": [
       "<div>\n",
       "<style scoped>\n",
       "    .dataframe tbody tr th:only-of-type {\n",
       "        vertical-align: middle;\n",
       "    }\n",
       "\n",
       "    .dataframe tbody tr th {\n",
       "        vertical-align: top;\n",
       "    }\n",
       "\n",
       "    .dataframe thead th {\n",
       "        text-align: right;\n",
       "    }\n",
       "</style>\n",
       "<table border=\"1\" class=\"dataframe\">\n",
       "  <thead>\n",
       "    <tr style=\"text-align: right;\">\n",
       "      <th></th>\n",
       "      <th>Country name</th>\n",
       "      <th>year</th>\n",
       "      <th>Life Ladder</th>\n",
       "      <th>Log GDP per capita</th>\n",
       "      <th>Social support</th>\n",
       "      <th>Healthy life expectancy at birth</th>\n",
       "      <th>Freedom to make life choices</th>\n",
       "      <th>Generosity</th>\n",
       "      <th>Perceptions of corruption</th>\n",
       "      <th>Positive affect</th>\n",
       "      <th>Negative affect</th>\n",
       "      <th>Confidence in national government</th>\n",
       "    </tr>\n",
       "  </thead>\n",
       "  <tbody>\n",
       "    <tr>\n",
       "      <th>0</th>\n",
       "      <td>Afghanistan</td>\n",
       "      <td>2008</td>\n",
       "      <td>3.723590</td>\n",
       "      <td>7.302574</td>\n",
       "      <td>0.450662</td>\n",
       "      <td>50.500000</td>\n",
       "      <td>0.718114</td>\n",
       "      <td>0.173169</td>\n",
       "      <td>0.881686</td>\n",
       "      <td>0.414297</td>\n",
       "      <td>0.258195</td>\n",
       "      <td>0.612072</td>\n",
       "    </tr>\n",
       "    <tr>\n",
       "      <th>1</th>\n",
       "      <td>Afghanistan</td>\n",
       "      <td>2009</td>\n",
       "      <td>4.401778</td>\n",
       "      <td>7.472446</td>\n",
       "      <td>0.552308</td>\n",
       "      <td>50.799999</td>\n",
       "      <td>0.678896</td>\n",
       "      <td>0.195469</td>\n",
       "      <td>0.850035</td>\n",
       "      <td>0.481421</td>\n",
       "      <td>0.237092</td>\n",
       "      <td>0.611545</td>\n",
       "    </tr>\n",
       "    <tr>\n",
       "      <th>2</th>\n",
       "      <td>Afghanistan</td>\n",
       "      <td>2010</td>\n",
       "      <td>4.758381</td>\n",
       "      <td>7.579183</td>\n",
       "      <td>0.539075</td>\n",
       "      <td>51.099998</td>\n",
       "      <td>0.600127</td>\n",
       "      <td>0.125859</td>\n",
       "      <td>0.706766</td>\n",
       "      <td>0.516907</td>\n",
       "      <td>0.275324</td>\n",
       "      <td>0.299357</td>\n",
       "    </tr>\n",
       "    <tr>\n",
       "      <th>3</th>\n",
       "      <td>Afghanistan</td>\n",
       "      <td>2011</td>\n",
       "      <td>3.831719</td>\n",
       "      <td>7.552006</td>\n",
       "      <td>0.521104</td>\n",
       "      <td>51.400002</td>\n",
       "      <td>0.495901</td>\n",
       "      <td>0.167723</td>\n",
       "      <td>0.731109</td>\n",
       "      <td>0.479835</td>\n",
       "      <td>0.267175</td>\n",
       "      <td>0.307386</td>\n",
       "    </tr>\n",
       "    <tr>\n",
       "      <th>4</th>\n",
       "      <td>Afghanistan</td>\n",
       "      <td>2012</td>\n",
       "      <td>3.782938</td>\n",
       "      <td>7.637953</td>\n",
       "      <td>0.520637</td>\n",
       "      <td>51.700001</td>\n",
       "      <td>0.530935</td>\n",
       "      <td>0.241247</td>\n",
       "      <td>0.775620</td>\n",
       "      <td>0.613513</td>\n",
       "      <td>0.267919</td>\n",
       "      <td>0.435440</td>\n",
       "    </tr>\n",
       "    <tr>\n",
       "      <th>...</th>\n",
       "      <td>...</td>\n",
       "      <td>...</td>\n",
       "      <td>...</td>\n",
       "      <td>...</td>\n",
       "      <td>...</td>\n",
       "      <td>...</td>\n",
       "      <td>...</td>\n",
       "      <td>...</td>\n",
       "      <td>...</td>\n",
       "      <td>...</td>\n",
       "      <td>...</td>\n",
       "      <td>...</td>\n",
       "    </tr>\n",
       "    <tr>\n",
       "      <th>2084</th>\n",
       "      <td>Zimbabwe</td>\n",
       "      <td>2017</td>\n",
       "      <td>3.638300</td>\n",
       "      <td>8.241609</td>\n",
       "      <td>0.754147</td>\n",
       "      <td>52.150002</td>\n",
       "      <td>0.752826</td>\n",
       "      <td>-0.113937</td>\n",
       "      <td>0.751208</td>\n",
       "      <td>0.733641</td>\n",
       "      <td>0.224051</td>\n",
       "      <td>0.682647</td>\n",
       "    </tr>\n",
       "    <tr>\n",
       "      <th>2085</th>\n",
       "      <td>Zimbabwe</td>\n",
       "      <td>2018</td>\n",
       "      <td>3.616480</td>\n",
       "      <td>8.274620</td>\n",
       "      <td>0.775388</td>\n",
       "      <td>52.625000</td>\n",
       "      <td>0.762675</td>\n",
       "      <td>-0.084747</td>\n",
       "      <td>0.844209</td>\n",
       "      <td>0.657524</td>\n",
       "      <td>0.211726</td>\n",
       "      <td>0.550508</td>\n",
       "    </tr>\n",
       "    <tr>\n",
       "      <th>2086</th>\n",
       "      <td>Zimbabwe</td>\n",
       "      <td>2019</td>\n",
       "      <td>2.693523</td>\n",
       "      <td>8.196998</td>\n",
       "      <td>0.759162</td>\n",
       "      <td>53.099998</td>\n",
       "      <td>0.631908</td>\n",
       "      <td>-0.081540</td>\n",
       "      <td>0.830652</td>\n",
       "      <td>0.658434</td>\n",
       "      <td>0.235354</td>\n",
       "      <td>0.456455</td>\n",
       "    </tr>\n",
       "    <tr>\n",
       "      <th>2087</th>\n",
       "      <td>Zimbabwe</td>\n",
       "      <td>2020</td>\n",
       "      <td>3.159802</td>\n",
       "      <td>8.117733</td>\n",
       "      <td>0.717243</td>\n",
       "      <td>53.575001</td>\n",
       "      <td>0.643303</td>\n",
       "      <td>-0.029376</td>\n",
       "      <td>0.788523</td>\n",
       "      <td>0.660658</td>\n",
       "      <td>0.345736</td>\n",
       "      <td>0.577302</td>\n",
       "    </tr>\n",
       "    <tr>\n",
       "      <th>2088</th>\n",
       "      <td>Zimbabwe</td>\n",
       "      <td>2021</td>\n",
       "      <td>3.154578</td>\n",
       "      <td>8.153248</td>\n",
       "      <td>0.685151</td>\n",
       "      <td>54.049999</td>\n",
       "      <td>0.667636</td>\n",
       "      <td>-0.109439</td>\n",
       "      <td>0.756945</td>\n",
       "      <td>0.609917</td>\n",
       "      <td>0.241682</td>\n",
       "      <td>0.665703</td>\n",
       "    </tr>\n",
       "  </tbody>\n",
       "</table>\n",
       "<p>2089 rows × 12 columns</p>\n",
       "</div>"
      ],
      "text/plain": [
       "     Country name  year  Life Ladder  Log GDP per capita  Social support  \\\n",
       "0     Afghanistan  2008     3.723590            7.302574        0.450662   \n",
       "1     Afghanistan  2009     4.401778            7.472446        0.552308   \n",
       "2     Afghanistan  2010     4.758381            7.579183        0.539075   \n",
       "3     Afghanistan  2011     3.831719            7.552006        0.521104   \n",
       "4     Afghanistan  2012     3.782938            7.637953        0.520637   \n",
       "...           ...   ...          ...                 ...             ...   \n",
       "2084     Zimbabwe  2017     3.638300            8.241609        0.754147   \n",
       "2085     Zimbabwe  2018     3.616480            8.274620        0.775388   \n",
       "2086     Zimbabwe  2019     2.693523            8.196998        0.759162   \n",
       "2087     Zimbabwe  2020     3.159802            8.117733        0.717243   \n",
       "2088     Zimbabwe  2021     3.154578            8.153248        0.685151   \n",
       "\n",
       "      Healthy life expectancy at birth  Freedom to make life choices  \\\n",
       "0                            50.500000                      0.718114   \n",
       "1                            50.799999                      0.678896   \n",
       "2                            51.099998                      0.600127   \n",
       "3                            51.400002                      0.495901   \n",
       "4                            51.700001                      0.530935   \n",
       "...                                ...                           ...   \n",
       "2084                         52.150002                      0.752826   \n",
       "2085                         52.625000                      0.762675   \n",
       "2086                         53.099998                      0.631908   \n",
       "2087                         53.575001                      0.643303   \n",
       "2088                         54.049999                      0.667636   \n",
       "\n",
       "      Generosity  Perceptions of corruption  Positive affect  Negative affect  \\\n",
       "0       0.173169                   0.881686         0.414297         0.258195   \n",
       "1       0.195469                   0.850035         0.481421         0.237092   \n",
       "2       0.125859                   0.706766         0.516907         0.275324   \n",
       "3       0.167723                   0.731109         0.479835         0.267175   \n",
       "4       0.241247                   0.775620         0.613513         0.267919   \n",
       "...          ...                        ...              ...              ...   \n",
       "2084   -0.113937                   0.751208         0.733641         0.224051   \n",
       "2085   -0.084747                   0.844209         0.657524         0.211726   \n",
       "2086   -0.081540                   0.830652         0.658434         0.235354   \n",
       "2087   -0.029376                   0.788523         0.660658         0.345736   \n",
       "2088   -0.109439                   0.756945         0.609917         0.241682   \n",
       "\n",
       "      Confidence in national government  \n",
       "0                              0.612072  \n",
       "1                              0.611545  \n",
       "2                              0.299357  \n",
       "3                              0.307386  \n",
       "4                              0.435440  \n",
       "...                                 ...  \n",
       "2084                           0.682647  \n",
       "2085                           0.550508  \n",
       "2086                           0.456455  \n",
       "2087                           0.577302  \n",
       "2088                           0.665703  \n",
       "\n",
       "[2089 rows x 12 columns]"
      ]
     },
     "execution_count": 54,
     "metadata": {},
     "output_type": "execute_result"
    }
   ],
   "source": [
    "df_all_1"
   ]
  },
  {
   "attachments": {},
   "cell_type": "markdown",
   "metadata": {},
   "source": [
    "### 3. 数据补全"
   ]
  },
  {
   "attachments": {},
   "cell_type": "markdown",
   "metadata": {},
   "source": [
    "处理部分缺失"
   ]
  },
  {
   "cell_type": "code",
   "execution_count": 55,
   "metadata": {},
   "outputs": [
    {
     "name": "stderr",
     "output_type": "stream",
     "text": [
      "C:\\Users\\Administrator\\AppData\\Local\\Temp\\ipykernel_58616\\3660197409.py:9: SettingWithCopyWarning:\n",
      "\n",
      "\n",
      "A value is trying to be set on a copy of a slice from a DataFrame.\n",
      "Try using .loc[row_indexer,col_indexer] = value instead\n",
      "\n",
      "See the caveats in the documentation: https://pandas.pydata.org/pandas-docs/stable/user_guide/indexing.html#returning-a-view-versus-a-copy\n",
      "\n",
      "C:\\Users\\Administrator\\AppData\\Local\\Temp\\ipykernel_58616\\3660197409.py:9: SettingWithCopyWarning:\n",
      "\n",
      "\n",
      "A value is trying to be set on a copy of a slice from a DataFrame.\n",
      "Try using .loc[row_indexer,col_indexer] = value instead\n",
      "\n",
      "See the caveats in the documentation: https://pandas.pydata.org/pandas-docs/stable/user_guide/indexing.html#returning-a-view-versus-a-copy\n",
      "\n",
      "C:\\Users\\Administrator\\AppData\\Local\\Temp\\ipykernel_58616\\3660197409.py:9: SettingWithCopyWarning:\n",
      "\n",
      "\n",
      "A value is trying to be set on a copy of a slice from a DataFrame.\n",
      "Try using .loc[row_indexer,col_indexer] = value instead\n",
      "\n",
      "See the caveats in the documentation: https://pandas.pydata.org/pandas-docs/stable/user_guide/indexing.html#returning-a-view-versus-a-copy\n",
      "\n",
      "C:\\Users\\Administrator\\AppData\\Local\\Temp\\ipykernel_58616\\3660197409.py:9: SettingWithCopyWarning:\n",
      "\n",
      "\n",
      "A value is trying to be set on a copy of a slice from a DataFrame.\n",
      "Try using .loc[row_indexer,col_indexer] = value instead\n",
      "\n",
      "See the caveats in the documentation: https://pandas.pydata.org/pandas-docs/stable/user_guide/indexing.html#returning-a-view-versus-a-copy\n",
      "\n",
      "C:\\Users\\Administrator\\AppData\\Local\\Temp\\ipykernel_58616\\3660197409.py:9: SettingWithCopyWarning:\n",
      "\n",
      "\n",
      "A value is trying to be set on a copy of a slice from a DataFrame.\n",
      "Try using .loc[row_indexer,col_indexer] = value instead\n",
      "\n",
      "See the caveats in the documentation: https://pandas.pydata.org/pandas-docs/stable/user_guide/indexing.html#returning-a-view-versus-a-copy\n",
      "\n",
      "C:\\Users\\Administrator\\AppData\\Local\\Temp\\ipykernel_58616\\3660197409.py:9: SettingWithCopyWarning:\n",
      "\n",
      "\n",
      "A value is trying to be set on a copy of a slice from a DataFrame.\n",
      "Try using .loc[row_indexer,col_indexer] = value instead\n",
      "\n",
      "See the caveats in the documentation: https://pandas.pydata.org/pandas-docs/stable/user_guide/indexing.html#returning-a-view-versus-a-copy\n",
      "\n",
      "C:\\Users\\Administrator\\AppData\\Local\\Temp\\ipykernel_58616\\3660197409.py:9: SettingWithCopyWarning:\n",
      "\n",
      "\n",
      "A value is trying to be set on a copy of a slice from a DataFrame.\n",
      "Try using .loc[row_indexer,col_indexer] = value instead\n",
      "\n",
      "See the caveats in the documentation: https://pandas.pydata.org/pandas-docs/stable/user_guide/indexing.html#returning-a-view-versus-a-copy\n",
      "\n",
      "C:\\Users\\Administrator\\AppData\\Local\\Temp\\ipykernel_58616\\3660197409.py:9: SettingWithCopyWarning:\n",
      "\n",
      "\n",
      "A value is trying to be set on a copy of a slice from a DataFrame.\n",
      "Try using .loc[row_indexer,col_indexer] = value instead\n",
      "\n",
      "See the caveats in the documentation: https://pandas.pydata.org/pandas-docs/stable/user_guide/indexing.html#returning-a-view-versus-a-copy\n",
      "\n",
      "C:\\Users\\Administrator\\AppData\\Local\\Temp\\ipykernel_58616\\3660197409.py:9: SettingWithCopyWarning:\n",
      "\n",
      "\n",
      "A value is trying to be set on a copy of a slice from a DataFrame.\n",
      "Try using .loc[row_indexer,col_indexer] = value instead\n",
      "\n",
      "See the caveats in the documentation: https://pandas.pydata.org/pandas-docs/stable/user_guide/indexing.html#returning-a-view-versus-a-copy\n",
      "\n",
      "C:\\Users\\Administrator\\AppData\\Local\\Temp\\ipykernel_58616\\3660197409.py:9: SettingWithCopyWarning:\n",
      "\n",
      "\n",
      "A value is trying to be set on a copy of a slice from a DataFrame.\n",
      "Try using .loc[row_indexer,col_indexer] = value instead\n",
      "\n",
      "See the caveats in the documentation: https://pandas.pydata.org/pandas-docs/stable/user_guide/indexing.html#returning-a-view-versus-a-copy\n",
      "\n",
      "C:\\Users\\Administrator\\AppData\\Local\\Temp\\ipykernel_58616\\3660197409.py:9: SettingWithCopyWarning:\n",
      "\n",
      "\n",
      "A value is trying to be set on a copy of a slice from a DataFrame.\n",
      "Try using .loc[row_indexer,col_indexer] = value instead\n",
      "\n",
      "See the caveats in the documentation: https://pandas.pydata.org/pandas-docs/stable/user_guide/indexing.html#returning-a-view-versus-a-copy\n",
      "\n",
      "C:\\Users\\Administrator\\AppData\\Local\\Temp\\ipykernel_58616\\3660197409.py:9: SettingWithCopyWarning:\n",
      "\n",
      "\n",
      "A value is trying to be set on a copy of a slice from a DataFrame.\n",
      "Try using .loc[row_indexer,col_indexer] = value instead\n",
      "\n",
      "See the caveats in the documentation: https://pandas.pydata.org/pandas-docs/stable/user_guide/indexing.html#returning-a-view-versus-a-copy\n",
      "\n",
      "C:\\Users\\Administrator\\AppData\\Local\\Temp\\ipykernel_58616\\3660197409.py:9: SettingWithCopyWarning:\n",
      "\n",
      "\n",
      "A value is trying to be set on a copy of a slice from a DataFrame.\n",
      "Try using .loc[row_indexer,col_indexer] = value instead\n",
      "\n",
      "See the caveats in the documentation: https://pandas.pydata.org/pandas-docs/stable/user_guide/indexing.html#returning-a-view-versus-a-copy\n",
      "\n",
      "C:\\Users\\Administrator\\AppData\\Local\\Temp\\ipykernel_58616\\3660197409.py:9: SettingWithCopyWarning:\n",
      "\n",
      "\n",
      "A value is trying to be set on a copy of a slice from a DataFrame.\n",
      "Try using .loc[row_indexer,col_indexer] = value instead\n",
      "\n",
      "See the caveats in the documentation: https://pandas.pydata.org/pandas-docs/stable/user_guide/indexing.html#returning-a-view-versus-a-copy\n",
      "\n",
      "C:\\Users\\Administrator\\AppData\\Local\\Temp\\ipykernel_58616\\3660197409.py:9: SettingWithCopyWarning:\n",
      "\n",
      "\n",
      "A value is trying to be set on a copy of a slice from a DataFrame.\n",
      "Try using .loc[row_indexer,col_indexer] = value instead\n",
      "\n",
      "See the caveats in the documentation: https://pandas.pydata.org/pandas-docs/stable/user_guide/indexing.html#returning-a-view-versus-a-copy\n",
      "\n",
      "C:\\Users\\Administrator\\AppData\\Local\\Temp\\ipykernel_58616\\3660197409.py:9: SettingWithCopyWarning:\n",
      "\n",
      "\n",
      "A value is trying to be set on a copy of a slice from a DataFrame.\n",
      "Try using .loc[row_indexer,col_indexer] = value instead\n",
      "\n",
      "See the caveats in the documentation: https://pandas.pydata.org/pandas-docs/stable/user_guide/indexing.html#returning-a-view-versus-a-copy\n",
      "\n",
      "C:\\Users\\Administrator\\AppData\\Local\\Temp\\ipykernel_58616\\3660197409.py:9: SettingWithCopyWarning:\n",
      "\n",
      "\n",
      "A value is trying to be set on a copy of a slice from a DataFrame.\n",
      "Try using .loc[row_indexer,col_indexer] = value instead\n",
      "\n",
      "See the caveats in the documentation: https://pandas.pydata.org/pandas-docs/stable/user_guide/indexing.html#returning-a-view-versus-a-copy\n",
      "\n",
      "C:\\Users\\Administrator\\AppData\\Local\\Temp\\ipykernel_58616\\3660197409.py:9: SettingWithCopyWarning:\n",
      "\n",
      "\n",
      "A value is trying to be set on a copy of a slice from a DataFrame.\n",
      "Try using .loc[row_indexer,col_indexer] = value instead\n",
      "\n",
      "See the caveats in the documentation: https://pandas.pydata.org/pandas-docs/stable/user_guide/indexing.html#returning-a-view-versus-a-copy\n",
      "\n",
      "C:\\Users\\Administrator\\AppData\\Local\\Temp\\ipykernel_58616\\3660197409.py:9: SettingWithCopyWarning:\n",
      "\n",
      "\n",
      "A value is trying to be set on a copy of a slice from a DataFrame.\n",
      "Try using .loc[row_indexer,col_indexer] = value instead\n",
      "\n",
      "See the caveats in the documentation: https://pandas.pydata.org/pandas-docs/stable/user_guide/indexing.html#returning-a-view-versus-a-copy\n",
      "\n",
      "C:\\Users\\Administrator\\AppData\\Local\\Temp\\ipykernel_58616\\3660197409.py:9: SettingWithCopyWarning:\n",
      "\n",
      "\n",
      "A value is trying to be set on a copy of a slice from a DataFrame.\n",
      "Try using .loc[row_indexer,col_indexer] = value instead\n",
      "\n",
      "See the caveats in the documentation: https://pandas.pydata.org/pandas-docs/stable/user_guide/indexing.html#returning-a-view-versus-a-copy\n",
      "\n",
      "C:\\Users\\Administrator\\AppData\\Local\\Temp\\ipykernel_58616\\3660197409.py:9: SettingWithCopyWarning:\n",
      "\n",
      "\n",
      "A value is trying to be set on a copy of a slice from a DataFrame.\n",
      "Try using .loc[row_indexer,col_indexer] = value instead\n",
      "\n",
      "See the caveats in the documentation: https://pandas.pydata.org/pandas-docs/stable/user_guide/indexing.html#returning-a-view-versus-a-copy\n",
      "\n",
      "C:\\Users\\Administrator\\AppData\\Local\\Temp\\ipykernel_58616\\3660197409.py:9: SettingWithCopyWarning:\n",
      "\n",
      "\n",
      "A value is trying to be set on a copy of a slice from a DataFrame.\n",
      "Try using .loc[row_indexer,col_indexer] = value instead\n",
      "\n",
      "See the caveats in the documentation: https://pandas.pydata.org/pandas-docs/stable/user_guide/indexing.html#returning-a-view-versus-a-copy\n",
      "\n",
      "C:\\Users\\Administrator\\AppData\\Local\\Temp\\ipykernel_58616\\3660197409.py:9: SettingWithCopyWarning:\n",
      "\n",
      "\n",
      "A value is trying to be set on a copy of a slice from a DataFrame.\n",
      "Try using .loc[row_indexer,col_indexer] = value instead\n",
      "\n",
      "See the caveats in the documentation: https://pandas.pydata.org/pandas-docs/stable/user_guide/indexing.html#returning-a-view-versus-a-copy\n",
      "\n",
      "C:\\Users\\Administrator\\AppData\\Local\\Temp\\ipykernel_58616\\3660197409.py:9: SettingWithCopyWarning:\n",
      "\n",
      "\n",
      "A value is trying to be set on a copy of a slice from a DataFrame.\n",
      "Try using .loc[row_indexer,col_indexer] = value instead\n",
      "\n",
      "See the caveats in the documentation: https://pandas.pydata.org/pandas-docs/stable/user_guide/indexing.html#returning-a-view-versus-a-copy\n",
      "\n",
      "C:\\Users\\Administrator\\AppData\\Local\\Temp\\ipykernel_58616\\3660197409.py:9: SettingWithCopyWarning:\n",
      "\n",
      "\n",
      "A value is trying to be set on a copy of a slice from a DataFrame.\n",
      "Try using .loc[row_indexer,col_indexer] = value instead\n",
      "\n",
      "See the caveats in the documentation: https://pandas.pydata.org/pandas-docs/stable/user_guide/indexing.html#returning-a-view-versus-a-copy\n",
      "\n",
      "C:\\Users\\Administrator\\AppData\\Local\\Temp\\ipykernel_58616\\3660197409.py:9: SettingWithCopyWarning:\n",
      "\n",
      "\n",
      "A value is trying to be set on a copy of a slice from a DataFrame.\n",
      "Try using .loc[row_indexer,col_indexer] = value instead\n",
      "\n",
      "See the caveats in the documentation: https://pandas.pydata.org/pandas-docs/stable/user_guide/indexing.html#returning-a-view-versus-a-copy\n",
      "\n",
      "C:\\Users\\Administrator\\AppData\\Local\\Temp\\ipykernel_58616\\3660197409.py:9: SettingWithCopyWarning:\n",
      "\n",
      "\n",
      "A value is trying to be set on a copy of a slice from a DataFrame.\n",
      "Try using .loc[row_indexer,col_indexer] = value instead\n",
      "\n",
      "See the caveats in the documentation: https://pandas.pydata.org/pandas-docs/stable/user_guide/indexing.html#returning-a-view-versus-a-copy\n",
      "\n",
      "C:\\Users\\Administrator\\AppData\\Local\\Temp\\ipykernel_58616\\3660197409.py:9: SettingWithCopyWarning:\n",
      "\n",
      "\n",
      "A value is trying to be set on a copy of a slice from a DataFrame.\n",
      "Try using .loc[row_indexer,col_indexer] = value instead\n",
      "\n",
      "See the caveats in the documentation: https://pandas.pydata.org/pandas-docs/stable/user_guide/indexing.html#returning-a-view-versus-a-copy\n",
      "\n",
      "C:\\Users\\Administrator\\AppData\\Local\\Temp\\ipykernel_58616\\3660197409.py:9: SettingWithCopyWarning:\n",
      "\n",
      "\n",
      "A value is trying to be set on a copy of a slice from a DataFrame.\n",
      "Try using .loc[row_indexer,col_indexer] = value instead\n",
      "\n",
      "See the caveats in the documentation: https://pandas.pydata.org/pandas-docs/stable/user_guide/indexing.html#returning-a-view-versus-a-copy\n",
      "\n",
      "C:\\Users\\Administrator\\AppData\\Local\\Temp\\ipykernel_58616\\3660197409.py:9: SettingWithCopyWarning:\n",
      "\n",
      "\n",
      "A value is trying to be set on a copy of a slice from a DataFrame.\n",
      "Try using .loc[row_indexer,col_indexer] = value instead\n",
      "\n",
      "See the caveats in the documentation: https://pandas.pydata.org/pandas-docs/stable/user_guide/indexing.html#returning-a-view-versus-a-copy\n",
      "\n",
      "C:\\Users\\Administrator\\AppData\\Local\\Temp\\ipykernel_58616\\3660197409.py:9: SettingWithCopyWarning:\n",
      "\n",
      "\n",
      "A value is trying to be set on a copy of a slice from a DataFrame.\n",
      "Try using .loc[row_indexer,col_indexer] = value instead\n",
      "\n",
      "See the caveats in the documentation: https://pandas.pydata.org/pandas-docs/stable/user_guide/indexing.html#returning-a-view-versus-a-copy\n",
      "\n",
      "C:\\Users\\Administrator\\AppData\\Local\\Temp\\ipykernel_58616\\3660197409.py:9: SettingWithCopyWarning:\n",
      "\n",
      "\n",
      "A value is trying to be set on a copy of a slice from a DataFrame.\n",
      "Try using .loc[row_indexer,col_indexer] = value instead\n",
      "\n",
      "See the caveats in the documentation: https://pandas.pydata.org/pandas-docs/stable/user_guide/indexing.html#returning-a-view-versus-a-copy\n",
      "\n",
      "C:\\Users\\Administrator\\AppData\\Local\\Temp\\ipykernel_58616\\3660197409.py:9: SettingWithCopyWarning:\n",
      "\n",
      "\n",
      "A value is trying to be set on a copy of a slice from a DataFrame.\n",
      "Try using .loc[row_indexer,col_indexer] = value instead\n",
      "\n",
      "See the caveats in the documentation: https://pandas.pydata.org/pandas-docs/stable/user_guide/indexing.html#returning-a-view-versus-a-copy\n",
      "\n",
      "C:\\Users\\Administrator\\AppData\\Local\\Temp\\ipykernel_58616\\3660197409.py:9: SettingWithCopyWarning:\n",
      "\n",
      "\n",
      "A value is trying to be set on a copy of a slice from a DataFrame.\n",
      "Try using .loc[row_indexer,col_indexer] = value instead\n",
      "\n",
      "See the caveats in the documentation: https://pandas.pydata.org/pandas-docs/stable/user_guide/indexing.html#returning-a-view-versus-a-copy\n",
      "\n",
      "C:\\Users\\Administrator\\AppData\\Local\\Temp\\ipykernel_58616\\3660197409.py:9: SettingWithCopyWarning:\n",
      "\n",
      "\n",
      "A value is trying to be set on a copy of a slice from a DataFrame.\n",
      "Try using .loc[row_indexer,col_indexer] = value instead\n",
      "\n",
      "See the caveats in the documentation: https://pandas.pydata.org/pandas-docs/stable/user_guide/indexing.html#returning-a-view-versus-a-copy\n",
      "\n",
      "C:\\Users\\Administrator\\AppData\\Local\\Temp\\ipykernel_58616\\3660197409.py:9: SettingWithCopyWarning:\n",
      "\n",
      "\n",
      "A value is trying to be set on a copy of a slice from a DataFrame.\n",
      "Try using .loc[row_indexer,col_indexer] = value instead\n",
      "\n",
      "See the caveats in the documentation: https://pandas.pydata.org/pandas-docs/stable/user_guide/indexing.html#returning-a-view-versus-a-copy\n",
      "\n",
      "C:\\Users\\Administrator\\AppData\\Local\\Temp\\ipykernel_58616\\3660197409.py:9: SettingWithCopyWarning:\n",
      "\n",
      "\n",
      "A value is trying to be set on a copy of a slice from a DataFrame.\n",
      "Try using .loc[row_indexer,col_indexer] = value instead\n",
      "\n",
      "See the caveats in the documentation: https://pandas.pydata.org/pandas-docs/stable/user_guide/indexing.html#returning-a-view-versus-a-copy\n",
      "\n",
      "C:\\Users\\Administrator\\AppData\\Local\\Temp\\ipykernel_58616\\3660197409.py:9: SettingWithCopyWarning:\n",
      "\n",
      "\n",
      "A value is trying to be set on a copy of a slice from a DataFrame.\n",
      "Try using .loc[row_indexer,col_indexer] = value instead\n",
      "\n",
      "See the caveats in the documentation: https://pandas.pydata.org/pandas-docs/stable/user_guide/indexing.html#returning-a-view-versus-a-copy\n",
      "\n",
      "C:\\Users\\Administrator\\AppData\\Local\\Temp\\ipykernel_58616\\3660197409.py:9: SettingWithCopyWarning:\n",
      "\n",
      "\n",
      "A value is trying to be set on a copy of a slice from a DataFrame.\n",
      "Try using .loc[row_indexer,col_indexer] = value instead\n",
      "\n",
      "See the caveats in the documentation: https://pandas.pydata.org/pandas-docs/stable/user_guide/indexing.html#returning-a-view-versus-a-copy\n",
      "\n",
      "C:\\Users\\Administrator\\AppData\\Local\\Temp\\ipykernel_58616\\3660197409.py:9: SettingWithCopyWarning:\n",
      "\n",
      "\n",
      "A value is trying to be set on a copy of a slice from a DataFrame.\n",
      "Try using .loc[row_indexer,col_indexer] = value instead\n",
      "\n",
      "See the caveats in the documentation: https://pandas.pydata.org/pandas-docs/stable/user_guide/indexing.html#returning-a-view-versus-a-copy\n",
      "\n",
      "C:\\Users\\Administrator\\AppData\\Local\\Temp\\ipykernel_58616\\3660197409.py:9: SettingWithCopyWarning:\n",
      "\n",
      "\n",
      "A value is trying to be set on a copy of a slice from a DataFrame.\n",
      "Try using .loc[row_indexer,col_indexer] = value instead\n",
      "\n",
      "See the caveats in the documentation: https://pandas.pydata.org/pandas-docs/stable/user_guide/indexing.html#returning-a-view-versus-a-copy\n",
      "\n",
      "C:\\Users\\Administrator\\AppData\\Local\\Temp\\ipykernel_58616\\3660197409.py:9: SettingWithCopyWarning:\n",
      "\n",
      "\n",
      "A value is trying to be set on a copy of a slice from a DataFrame.\n",
      "Try using .loc[row_indexer,col_indexer] = value instead\n",
      "\n",
      "See the caveats in the documentation: https://pandas.pydata.org/pandas-docs/stable/user_guide/indexing.html#returning-a-view-versus-a-copy\n",
      "\n",
      "C:\\Users\\Administrator\\AppData\\Local\\Temp\\ipykernel_58616\\3660197409.py:9: SettingWithCopyWarning:\n",
      "\n",
      "\n",
      "A value is trying to be set on a copy of a slice from a DataFrame.\n",
      "Try using .loc[row_indexer,col_indexer] = value instead\n",
      "\n",
      "See the caveats in the documentation: https://pandas.pydata.org/pandas-docs/stable/user_guide/indexing.html#returning-a-view-versus-a-copy\n",
      "\n",
      "C:\\Users\\Administrator\\AppData\\Local\\Temp\\ipykernel_58616\\3660197409.py:9: SettingWithCopyWarning:\n",
      "\n",
      "\n",
      "A value is trying to be set on a copy of a slice from a DataFrame.\n",
      "Try using .loc[row_indexer,col_indexer] = value instead\n",
      "\n",
      "See the caveats in the documentation: https://pandas.pydata.org/pandas-docs/stable/user_guide/indexing.html#returning-a-view-versus-a-copy\n",
      "\n",
      "C:\\Users\\Administrator\\AppData\\Local\\Temp\\ipykernel_58616\\3660197409.py:9: SettingWithCopyWarning:\n",
      "\n",
      "\n",
      "A value is trying to be set on a copy of a slice from a DataFrame.\n",
      "Try using .loc[row_indexer,col_indexer] = value instead\n",
      "\n",
      "See the caveats in the documentation: https://pandas.pydata.org/pandas-docs/stable/user_guide/indexing.html#returning-a-view-versus-a-copy\n",
      "\n",
      "C:\\Users\\Administrator\\AppData\\Local\\Temp\\ipykernel_58616\\3660197409.py:9: SettingWithCopyWarning:\n",
      "\n",
      "\n",
      "A value is trying to be set on a copy of a slice from a DataFrame.\n",
      "Try using .loc[row_indexer,col_indexer] = value instead\n",
      "\n",
      "See the caveats in the documentation: https://pandas.pydata.org/pandas-docs/stable/user_guide/indexing.html#returning-a-view-versus-a-copy\n",
      "\n",
      "C:\\Users\\Administrator\\AppData\\Local\\Temp\\ipykernel_58616\\3660197409.py:9: SettingWithCopyWarning:\n",
      "\n",
      "\n",
      "A value is trying to be set on a copy of a slice from a DataFrame.\n",
      "Try using .loc[row_indexer,col_indexer] = value instead\n",
      "\n",
      "See the caveats in the documentation: https://pandas.pydata.org/pandas-docs/stable/user_guide/indexing.html#returning-a-view-versus-a-copy\n",
      "\n",
      "C:\\Users\\Administrator\\AppData\\Local\\Temp\\ipykernel_58616\\3660197409.py:9: SettingWithCopyWarning:\n",
      "\n",
      "\n",
      "A value is trying to be set on a copy of a slice from a DataFrame.\n",
      "Try using .loc[row_indexer,col_indexer] = value instead\n",
      "\n",
      "See the caveats in the documentation: https://pandas.pydata.org/pandas-docs/stable/user_guide/indexing.html#returning-a-view-versus-a-copy\n",
      "\n",
      "C:\\Users\\Administrator\\AppData\\Local\\Temp\\ipykernel_58616\\3660197409.py:9: SettingWithCopyWarning:\n",
      "\n",
      "\n",
      "A value is trying to be set on a copy of a slice from a DataFrame.\n",
      "Try using .loc[row_indexer,col_indexer] = value instead\n",
      "\n",
      "See the caveats in the documentation: https://pandas.pydata.org/pandas-docs/stable/user_guide/indexing.html#returning-a-view-versus-a-copy\n",
      "\n",
      "C:\\Users\\Administrator\\AppData\\Local\\Temp\\ipykernel_58616\\3660197409.py:9: SettingWithCopyWarning:\n",
      "\n",
      "\n",
      "A value is trying to be set on a copy of a slice from a DataFrame.\n",
      "Try using .loc[row_indexer,col_indexer] = value instead\n",
      "\n",
      "See the caveats in the documentation: https://pandas.pydata.org/pandas-docs/stable/user_guide/indexing.html#returning-a-view-versus-a-copy\n",
      "\n",
      "C:\\Users\\Administrator\\AppData\\Local\\Temp\\ipykernel_58616\\3660197409.py:9: SettingWithCopyWarning:\n",
      "\n",
      "\n",
      "A value is trying to be set on a copy of a slice from a DataFrame.\n",
      "Try using .loc[row_indexer,col_indexer] = value instead\n",
      "\n",
      "See the caveats in the documentation: https://pandas.pydata.org/pandas-docs/stable/user_guide/indexing.html#returning-a-view-versus-a-copy\n",
      "\n",
      "C:\\Users\\Administrator\\AppData\\Local\\Temp\\ipykernel_58616\\3660197409.py:9: SettingWithCopyWarning:\n",
      "\n",
      "\n",
      "A value is trying to be set on a copy of a slice from a DataFrame.\n",
      "Try using .loc[row_indexer,col_indexer] = value instead\n",
      "\n",
      "See the caveats in the documentation: https://pandas.pydata.org/pandas-docs/stable/user_guide/indexing.html#returning-a-view-versus-a-copy\n",
      "\n",
      "C:\\Users\\Administrator\\AppData\\Local\\Temp\\ipykernel_58616\\3660197409.py:9: SettingWithCopyWarning:\n",
      "\n",
      "\n",
      "A value is trying to be set on a copy of a slice from a DataFrame.\n",
      "Try using .loc[row_indexer,col_indexer] = value instead\n",
      "\n",
      "See the caveats in the documentation: https://pandas.pydata.org/pandas-docs/stable/user_guide/indexing.html#returning-a-view-versus-a-copy\n",
      "\n",
      "C:\\Users\\Administrator\\AppData\\Local\\Temp\\ipykernel_58616\\3660197409.py:9: SettingWithCopyWarning:\n",
      "\n",
      "\n",
      "A value is trying to be set on a copy of a slice from a DataFrame.\n",
      "Try using .loc[row_indexer,col_indexer] = value instead\n",
      "\n",
      "See the caveats in the documentation: https://pandas.pydata.org/pandas-docs/stable/user_guide/indexing.html#returning-a-view-versus-a-copy\n",
      "\n",
      "C:\\Users\\Administrator\\AppData\\Local\\Temp\\ipykernel_58616\\3660197409.py:9: SettingWithCopyWarning:\n",
      "\n",
      "\n",
      "A value is trying to be set on a copy of a slice from a DataFrame.\n",
      "Try using .loc[row_indexer,col_indexer] = value instead\n",
      "\n",
      "See the caveats in the documentation: https://pandas.pydata.org/pandas-docs/stable/user_guide/indexing.html#returning-a-view-versus-a-copy\n",
      "\n",
      "C:\\Users\\Administrator\\AppData\\Local\\Temp\\ipykernel_58616\\3660197409.py:9: SettingWithCopyWarning:\n",
      "\n",
      "\n",
      "A value is trying to be set on a copy of a slice from a DataFrame.\n",
      "Try using .loc[row_indexer,col_indexer] = value instead\n",
      "\n",
      "See the caveats in the documentation: https://pandas.pydata.org/pandas-docs/stable/user_guide/indexing.html#returning-a-view-versus-a-copy\n",
      "\n",
      "C:\\Users\\Administrator\\AppData\\Local\\Temp\\ipykernel_58616\\3660197409.py:9: SettingWithCopyWarning:\n",
      "\n",
      "\n",
      "A value is trying to be set on a copy of a slice from a DataFrame.\n",
      "Try using .loc[row_indexer,col_indexer] = value instead\n",
      "\n",
      "See the caveats in the documentation: https://pandas.pydata.org/pandas-docs/stable/user_guide/indexing.html#returning-a-view-versus-a-copy\n",
      "\n",
      "C:\\Users\\Administrator\\AppData\\Local\\Temp\\ipykernel_58616\\3660197409.py:9: SettingWithCopyWarning:\n",
      "\n",
      "\n",
      "A value is trying to be set on a copy of a slice from a DataFrame.\n",
      "Try using .loc[row_indexer,col_indexer] = value instead\n",
      "\n",
      "See the caveats in the documentation: https://pandas.pydata.org/pandas-docs/stable/user_guide/indexing.html#returning-a-view-versus-a-copy\n",
      "\n",
      "C:\\Users\\Administrator\\AppData\\Local\\Temp\\ipykernel_58616\\3660197409.py:9: SettingWithCopyWarning:\n",
      "\n",
      "\n",
      "A value is trying to be set on a copy of a slice from a DataFrame.\n",
      "Try using .loc[row_indexer,col_indexer] = value instead\n",
      "\n",
      "See the caveats in the documentation: https://pandas.pydata.org/pandas-docs/stable/user_guide/indexing.html#returning-a-view-versus-a-copy\n",
      "\n",
      "C:\\Users\\Administrator\\AppData\\Local\\Temp\\ipykernel_58616\\3660197409.py:9: SettingWithCopyWarning:\n",
      "\n",
      "\n",
      "A value is trying to be set on a copy of a slice from a DataFrame.\n",
      "Try using .loc[row_indexer,col_indexer] = value instead\n",
      "\n",
      "See the caveats in the documentation: https://pandas.pydata.org/pandas-docs/stable/user_guide/indexing.html#returning-a-view-versus-a-copy\n",
      "\n",
      "C:\\Users\\Administrator\\AppData\\Local\\Temp\\ipykernel_58616\\3660197409.py:9: SettingWithCopyWarning:\n",
      "\n",
      "\n",
      "A value is trying to be set on a copy of a slice from a DataFrame.\n",
      "Try using .loc[row_indexer,col_indexer] = value instead\n",
      "\n",
      "See the caveats in the documentation: https://pandas.pydata.org/pandas-docs/stable/user_guide/indexing.html#returning-a-view-versus-a-copy\n",
      "\n",
      "C:\\Users\\Administrator\\AppData\\Local\\Temp\\ipykernel_58616\\3660197409.py:9: SettingWithCopyWarning:\n",
      "\n",
      "\n",
      "A value is trying to be set on a copy of a slice from a DataFrame.\n",
      "Try using .loc[row_indexer,col_indexer] = value instead\n",
      "\n",
      "See the caveats in the documentation: https://pandas.pydata.org/pandas-docs/stable/user_guide/indexing.html#returning-a-view-versus-a-copy\n",
      "\n",
      "C:\\Users\\Administrator\\AppData\\Local\\Temp\\ipykernel_58616\\3660197409.py:9: SettingWithCopyWarning:\n",
      "\n",
      "\n",
      "A value is trying to be set on a copy of a slice from a DataFrame.\n",
      "Try using .loc[row_indexer,col_indexer] = value instead\n",
      "\n",
      "See the caveats in the documentation: https://pandas.pydata.org/pandas-docs/stable/user_guide/indexing.html#returning-a-view-versus-a-copy\n",
      "\n",
      "C:\\Users\\Administrator\\AppData\\Local\\Temp\\ipykernel_58616\\3660197409.py:9: SettingWithCopyWarning:\n",
      "\n",
      "\n",
      "A value is trying to be set on a copy of a slice from a DataFrame.\n",
      "Try using .loc[row_indexer,col_indexer] = value instead\n",
      "\n",
      "See the caveats in the documentation: https://pandas.pydata.org/pandas-docs/stable/user_guide/indexing.html#returning-a-view-versus-a-copy\n",
      "\n",
      "C:\\Users\\Administrator\\AppData\\Local\\Temp\\ipykernel_58616\\3660197409.py:9: SettingWithCopyWarning:\n",
      "\n",
      "\n",
      "A value is trying to be set on a copy of a slice from a DataFrame.\n",
      "Try using .loc[row_indexer,col_indexer] = value instead\n",
      "\n",
      "See the caveats in the documentation: https://pandas.pydata.org/pandas-docs/stable/user_guide/indexing.html#returning-a-view-versus-a-copy\n",
      "\n",
      "C:\\Users\\Administrator\\AppData\\Local\\Temp\\ipykernel_58616\\3660197409.py:9: SettingWithCopyWarning:\n",
      "\n",
      "\n",
      "A value is trying to be set on a copy of a slice from a DataFrame.\n",
      "Try using .loc[row_indexer,col_indexer] = value instead\n",
      "\n",
      "See the caveats in the documentation: https://pandas.pydata.org/pandas-docs/stable/user_guide/indexing.html#returning-a-view-versus-a-copy\n",
      "\n",
      "C:\\Users\\Administrator\\AppData\\Local\\Temp\\ipykernel_58616\\3660197409.py:9: SettingWithCopyWarning:\n",
      "\n",
      "\n",
      "A value is trying to be set on a copy of a slice from a DataFrame.\n",
      "Try using .loc[row_indexer,col_indexer] = value instead\n",
      "\n",
      "See the caveats in the documentation: https://pandas.pydata.org/pandas-docs/stable/user_guide/indexing.html#returning-a-view-versus-a-copy\n",
      "\n",
      "C:\\Users\\Administrator\\AppData\\Local\\Temp\\ipykernel_58616\\3660197409.py:9: SettingWithCopyWarning:\n",
      "\n",
      "\n",
      "A value is trying to be set on a copy of a slice from a DataFrame.\n",
      "Try using .loc[row_indexer,col_indexer] = value instead\n",
      "\n",
      "See the caveats in the documentation: https://pandas.pydata.org/pandas-docs/stable/user_guide/indexing.html#returning-a-view-versus-a-copy\n",
      "\n",
      "C:\\Users\\Administrator\\AppData\\Local\\Temp\\ipykernel_58616\\3660197409.py:9: SettingWithCopyWarning:\n",
      "\n",
      "\n",
      "A value is trying to be set on a copy of a slice from a DataFrame.\n",
      "Try using .loc[row_indexer,col_indexer] = value instead\n",
      "\n",
      "See the caveats in the documentation: https://pandas.pydata.org/pandas-docs/stable/user_guide/indexing.html#returning-a-view-versus-a-copy\n",
      "\n",
      "C:\\Users\\Administrator\\AppData\\Local\\Temp\\ipykernel_58616\\3660197409.py:9: SettingWithCopyWarning:\n",
      "\n",
      "\n",
      "A value is trying to be set on a copy of a slice from a DataFrame.\n",
      "Try using .loc[row_indexer,col_indexer] = value instead\n",
      "\n",
      "See the caveats in the documentation: https://pandas.pydata.org/pandas-docs/stable/user_guide/indexing.html#returning-a-view-versus-a-copy\n",
      "\n",
      "C:\\Users\\Administrator\\AppData\\Local\\Temp\\ipykernel_58616\\3660197409.py:9: SettingWithCopyWarning:\n",
      "\n",
      "\n",
      "A value is trying to be set on a copy of a slice from a DataFrame.\n",
      "Try using .loc[row_indexer,col_indexer] = value instead\n",
      "\n",
      "See the caveats in the documentation: https://pandas.pydata.org/pandas-docs/stable/user_guide/indexing.html#returning-a-view-versus-a-copy\n",
      "\n",
      "C:\\Users\\Administrator\\AppData\\Local\\Temp\\ipykernel_58616\\3660197409.py:9: SettingWithCopyWarning:\n",
      "\n",
      "\n",
      "A value is trying to be set on a copy of a slice from a DataFrame.\n",
      "Try using .loc[row_indexer,col_indexer] = value instead\n",
      "\n",
      "See the caveats in the documentation: https://pandas.pydata.org/pandas-docs/stable/user_guide/indexing.html#returning-a-view-versus-a-copy\n",
      "\n",
      "C:\\Users\\Administrator\\AppData\\Local\\Temp\\ipykernel_58616\\3660197409.py:9: SettingWithCopyWarning:\n",
      "\n",
      "\n",
      "A value is trying to be set on a copy of a slice from a DataFrame.\n",
      "Try using .loc[row_indexer,col_indexer] = value instead\n",
      "\n",
      "See the caveats in the documentation: https://pandas.pydata.org/pandas-docs/stable/user_guide/indexing.html#returning-a-view-versus-a-copy\n",
      "\n",
      "C:\\Users\\Administrator\\AppData\\Local\\Temp\\ipykernel_58616\\3660197409.py:9: SettingWithCopyWarning:\n",
      "\n",
      "\n",
      "A value is trying to be set on a copy of a slice from a DataFrame.\n",
      "Try using .loc[row_indexer,col_indexer] = value instead\n",
      "\n",
      "See the caveats in the documentation: https://pandas.pydata.org/pandas-docs/stable/user_guide/indexing.html#returning-a-view-versus-a-copy\n",
      "\n",
      "C:\\Users\\Administrator\\AppData\\Local\\Temp\\ipykernel_58616\\3660197409.py:9: SettingWithCopyWarning:\n",
      "\n",
      "\n",
      "A value is trying to be set on a copy of a slice from a DataFrame.\n",
      "Try using .loc[row_indexer,col_indexer] = value instead\n",
      "\n",
      "See the caveats in the documentation: https://pandas.pydata.org/pandas-docs/stable/user_guide/indexing.html#returning-a-view-versus-a-copy\n",
      "\n",
      "C:\\Users\\Administrator\\AppData\\Local\\Temp\\ipykernel_58616\\3660197409.py:9: SettingWithCopyWarning:\n",
      "\n",
      "\n",
      "A value is trying to be set on a copy of a slice from a DataFrame.\n",
      "Try using .loc[row_indexer,col_indexer] = value instead\n",
      "\n",
      "See the caveats in the documentation: https://pandas.pydata.org/pandas-docs/stable/user_guide/indexing.html#returning-a-view-versus-a-copy\n",
      "\n",
      "C:\\Users\\Administrator\\AppData\\Local\\Temp\\ipykernel_58616\\3660197409.py:9: SettingWithCopyWarning:\n",
      "\n",
      "\n",
      "A value is trying to be set on a copy of a slice from a DataFrame.\n",
      "Try using .loc[row_indexer,col_indexer] = value instead\n",
      "\n",
      "See the caveats in the documentation: https://pandas.pydata.org/pandas-docs/stable/user_guide/indexing.html#returning-a-view-versus-a-copy\n",
      "\n",
      "C:\\Users\\Administrator\\AppData\\Local\\Temp\\ipykernel_58616\\3660197409.py:9: SettingWithCopyWarning:\n",
      "\n",
      "\n",
      "A value is trying to be set on a copy of a slice from a DataFrame.\n",
      "Try using .loc[row_indexer,col_indexer] = value instead\n",
      "\n",
      "See the caveats in the documentation: https://pandas.pydata.org/pandas-docs/stable/user_guide/indexing.html#returning-a-view-versus-a-copy\n",
      "\n",
      "C:\\Users\\Administrator\\AppData\\Local\\Temp\\ipykernel_58616\\3660197409.py:9: SettingWithCopyWarning:\n",
      "\n",
      "\n",
      "A value is trying to be set on a copy of a slice from a DataFrame.\n",
      "Try using .loc[row_indexer,col_indexer] = value instead\n",
      "\n",
      "See the caveats in the documentation: https://pandas.pydata.org/pandas-docs/stable/user_guide/indexing.html#returning-a-view-versus-a-copy\n",
      "\n",
      "C:\\Users\\Administrator\\AppData\\Local\\Temp\\ipykernel_58616\\3660197409.py:9: SettingWithCopyWarning:\n",
      "\n",
      "\n",
      "A value is trying to be set on a copy of a slice from a DataFrame.\n",
      "Try using .loc[row_indexer,col_indexer] = value instead\n",
      "\n",
      "See the caveats in the documentation: https://pandas.pydata.org/pandas-docs/stable/user_guide/indexing.html#returning-a-view-versus-a-copy\n",
      "\n",
      "C:\\Users\\Administrator\\AppData\\Local\\Temp\\ipykernel_58616\\3660197409.py:9: SettingWithCopyWarning:\n",
      "\n",
      "\n",
      "A value is trying to be set on a copy of a slice from a DataFrame.\n",
      "Try using .loc[row_indexer,col_indexer] = value instead\n",
      "\n",
      "See the caveats in the documentation: https://pandas.pydata.org/pandas-docs/stable/user_guide/indexing.html#returning-a-view-versus-a-copy\n",
      "\n",
      "C:\\Users\\Administrator\\AppData\\Local\\Temp\\ipykernel_58616\\3660197409.py:9: SettingWithCopyWarning:\n",
      "\n",
      "\n",
      "A value is trying to be set on a copy of a slice from a DataFrame.\n",
      "Try using .loc[row_indexer,col_indexer] = value instead\n",
      "\n",
      "See the caveats in the documentation: https://pandas.pydata.org/pandas-docs/stable/user_guide/indexing.html#returning-a-view-versus-a-copy\n",
      "\n",
      "C:\\Users\\Administrator\\AppData\\Local\\Temp\\ipykernel_58616\\3660197409.py:9: SettingWithCopyWarning:\n",
      "\n",
      "\n",
      "A value is trying to be set on a copy of a slice from a DataFrame.\n",
      "Try using .loc[row_indexer,col_indexer] = value instead\n",
      "\n",
      "See the caveats in the documentation: https://pandas.pydata.org/pandas-docs/stable/user_guide/indexing.html#returning-a-view-versus-a-copy\n",
      "\n",
      "C:\\Users\\Administrator\\AppData\\Local\\Temp\\ipykernel_58616\\3660197409.py:9: SettingWithCopyWarning:\n",
      "\n",
      "\n",
      "A value is trying to be set on a copy of a slice from a DataFrame.\n",
      "Try using .loc[row_indexer,col_indexer] = value instead\n",
      "\n",
      "See the caveats in the documentation: https://pandas.pydata.org/pandas-docs/stable/user_guide/indexing.html#returning-a-view-versus-a-copy\n",
      "\n",
      "C:\\Users\\Administrator\\AppData\\Local\\Temp\\ipykernel_58616\\3660197409.py:9: SettingWithCopyWarning:\n",
      "\n",
      "\n",
      "A value is trying to be set on a copy of a slice from a DataFrame.\n",
      "Try using .loc[row_indexer,col_indexer] = value instead\n",
      "\n",
      "See the caveats in the documentation: https://pandas.pydata.org/pandas-docs/stable/user_guide/indexing.html#returning-a-view-versus-a-copy\n",
      "\n",
      "C:\\Users\\Administrator\\AppData\\Local\\Temp\\ipykernel_58616\\3660197409.py:9: SettingWithCopyWarning:\n",
      "\n",
      "\n",
      "A value is trying to be set on a copy of a slice from a DataFrame.\n",
      "Try using .loc[row_indexer,col_indexer] = value instead\n",
      "\n",
      "See the caveats in the documentation: https://pandas.pydata.org/pandas-docs/stable/user_guide/indexing.html#returning-a-view-versus-a-copy\n",
      "\n",
      "C:\\Users\\Administrator\\AppData\\Local\\Temp\\ipykernel_58616\\3660197409.py:9: SettingWithCopyWarning:\n",
      "\n",
      "\n",
      "A value is trying to be set on a copy of a slice from a DataFrame.\n",
      "Try using .loc[row_indexer,col_indexer] = value instead\n",
      "\n",
      "See the caveats in the documentation: https://pandas.pydata.org/pandas-docs/stable/user_guide/indexing.html#returning-a-view-versus-a-copy\n",
      "\n",
      "C:\\Users\\Administrator\\AppData\\Local\\Temp\\ipykernel_58616\\3660197409.py:9: SettingWithCopyWarning:\n",
      "\n",
      "\n",
      "A value is trying to be set on a copy of a slice from a DataFrame.\n",
      "Try using .loc[row_indexer,col_indexer] = value instead\n",
      "\n",
      "See the caveats in the documentation: https://pandas.pydata.org/pandas-docs/stable/user_guide/indexing.html#returning-a-view-versus-a-copy\n",
      "\n",
      "C:\\Users\\Administrator\\AppData\\Local\\Temp\\ipykernel_58616\\3660197409.py:9: SettingWithCopyWarning:\n",
      "\n",
      "\n",
      "A value is trying to be set on a copy of a slice from a DataFrame.\n",
      "Try using .loc[row_indexer,col_indexer] = value instead\n",
      "\n",
      "See the caveats in the documentation: https://pandas.pydata.org/pandas-docs/stable/user_guide/indexing.html#returning-a-view-versus-a-copy\n",
      "\n",
      "C:\\Users\\Administrator\\AppData\\Local\\Temp\\ipykernel_58616\\3660197409.py:9: SettingWithCopyWarning:\n",
      "\n",
      "\n",
      "A value is trying to be set on a copy of a slice from a DataFrame.\n",
      "Try using .loc[row_indexer,col_indexer] = value instead\n",
      "\n",
      "See the caveats in the documentation: https://pandas.pydata.org/pandas-docs/stable/user_guide/indexing.html#returning-a-view-versus-a-copy\n",
      "\n",
      "C:\\Users\\Administrator\\AppData\\Local\\Temp\\ipykernel_58616\\3660197409.py:9: SettingWithCopyWarning:\n",
      "\n",
      "\n",
      "A value is trying to be set on a copy of a slice from a DataFrame.\n",
      "Try using .loc[row_indexer,col_indexer] = value instead\n",
      "\n",
      "See the caveats in the documentation: https://pandas.pydata.org/pandas-docs/stable/user_guide/indexing.html#returning-a-view-versus-a-copy\n",
      "\n",
      "C:\\Users\\Administrator\\AppData\\Local\\Temp\\ipykernel_58616\\3660197409.py:9: SettingWithCopyWarning:\n",
      "\n",
      "\n",
      "A value is trying to be set on a copy of a slice from a DataFrame.\n",
      "Try using .loc[row_indexer,col_indexer] = value instead\n",
      "\n",
      "See the caveats in the documentation: https://pandas.pydata.org/pandas-docs/stable/user_guide/indexing.html#returning-a-view-versus-a-copy\n",
      "\n",
      "C:\\Users\\Administrator\\AppData\\Local\\Temp\\ipykernel_58616\\3660197409.py:9: SettingWithCopyWarning:\n",
      "\n",
      "\n",
      "A value is trying to be set on a copy of a slice from a DataFrame.\n",
      "Try using .loc[row_indexer,col_indexer] = value instead\n",
      "\n",
      "See the caveats in the documentation: https://pandas.pydata.org/pandas-docs/stable/user_guide/indexing.html#returning-a-view-versus-a-copy\n",
      "\n",
      "C:\\Users\\Administrator\\AppData\\Local\\Temp\\ipykernel_58616\\3660197409.py:9: SettingWithCopyWarning:\n",
      "\n",
      "\n",
      "A value is trying to be set on a copy of a slice from a DataFrame.\n",
      "Try using .loc[row_indexer,col_indexer] = value instead\n",
      "\n",
      "See the caveats in the documentation: https://pandas.pydata.org/pandas-docs/stable/user_guide/indexing.html#returning-a-view-versus-a-copy\n",
      "\n",
      "C:\\Users\\Administrator\\AppData\\Local\\Temp\\ipykernel_58616\\3660197409.py:9: SettingWithCopyWarning:\n",
      "\n",
      "\n",
      "A value is trying to be set on a copy of a slice from a DataFrame.\n",
      "Try using .loc[row_indexer,col_indexer] = value instead\n",
      "\n",
      "See the caveats in the documentation: https://pandas.pydata.org/pandas-docs/stable/user_guide/indexing.html#returning-a-view-versus-a-copy\n",
      "\n",
      "C:\\Users\\Administrator\\AppData\\Local\\Temp\\ipykernel_58616\\3660197409.py:9: SettingWithCopyWarning:\n",
      "\n",
      "\n",
      "A value is trying to be set on a copy of a slice from a DataFrame.\n",
      "Try using .loc[row_indexer,col_indexer] = value instead\n",
      "\n",
      "See the caveats in the documentation: https://pandas.pydata.org/pandas-docs/stable/user_guide/indexing.html#returning-a-view-versus-a-copy\n",
      "\n",
      "C:\\Users\\Administrator\\AppData\\Local\\Temp\\ipykernel_58616\\3660197409.py:9: SettingWithCopyWarning:\n",
      "\n",
      "\n",
      "A value is trying to be set on a copy of a slice from a DataFrame.\n",
      "Try using .loc[row_indexer,col_indexer] = value instead\n",
      "\n",
      "See the caveats in the documentation: https://pandas.pydata.org/pandas-docs/stable/user_guide/indexing.html#returning-a-view-versus-a-copy\n",
      "\n",
      "C:\\Users\\Administrator\\AppData\\Local\\Temp\\ipykernel_58616\\3660197409.py:9: SettingWithCopyWarning:\n",
      "\n",
      "\n",
      "A value is trying to be set on a copy of a slice from a DataFrame.\n",
      "Try using .loc[row_indexer,col_indexer] = value instead\n",
      "\n",
      "See the caveats in the documentation: https://pandas.pydata.org/pandas-docs/stable/user_guide/indexing.html#returning-a-view-versus-a-copy\n",
      "\n",
      "C:\\Users\\Administrator\\AppData\\Local\\Temp\\ipykernel_58616\\3660197409.py:9: SettingWithCopyWarning:\n",
      "\n",
      "\n",
      "A value is trying to be set on a copy of a slice from a DataFrame.\n",
      "Try using .loc[row_indexer,col_indexer] = value instead\n",
      "\n",
      "See the caveats in the documentation: https://pandas.pydata.org/pandas-docs/stable/user_guide/indexing.html#returning-a-view-versus-a-copy\n",
      "\n",
      "C:\\Users\\Administrator\\AppData\\Local\\Temp\\ipykernel_58616\\3660197409.py:9: SettingWithCopyWarning:\n",
      "\n",
      "\n",
      "A value is trying to be set on a copy of a slice from a DataFrame.\n",
      "Try using .loc[row_indexer,col_indexer] = value instead\n",
      "\n",
      "See the caveats in the documentation: https://pandas.pydata.org/pandas-docs/stable/user_guide/indexing.html#returning-a-view-versus-a-copy\n",
      "\n",
      "C:\\Users\\Administrator\\AppData\\Local\\Temp\\ipykernel_58616\\3660197409.py:9: SettingWithCopyWarning:\n",
      "\n",
      "\n",
      "A value is trying to be set on a copy of a slice from a DataFrame.\n",
      "Try using .loc[row_indexer,col_indexer] = value instead\n",
      "\n",
      "See the caveats in the documentation: https://pandas.pydata.org/pandas-docs/stable/user_guide/indexing.html#returning-a-view-versus-a-copy\n",
      "\n",
      "C:\\Users\\Administrator\\AppData\\Local\\Temp\\ipykernel_58616\\3660197409.py:9: SettingWithCopyWarning:\n",
      "\n",
      "\n",
      "A value is trying to be set on a copy of a slice from a DataFrame.\n",
      "Try using .loc[row_indexer,col_indexer] = value instead\n",
      "\n",
      "See the caveats in the documentation: https://pandas.pydata.org/pandas-docs/stable/user_guide/indexing.html#returning-a-view-versus-a-copy\n",
      "\n",
      "C:\\Users\\Administrator\\AppData\\Local\\Temp\\ipykernel_58616\\3660197409.py:9: SettingWithCopyWarning:\n",
      "\n",
      "\n",
      "A value is trying to be set on a copy of a slice from a DataFrame.\n",
      "Try using .loc[row_indexer,col_indexer] = value instead\n",
      "\n",
      "See the caveats in the documentation: https://pandas.pydata.org/pandas-docs/stable/user_guide/indexing.html#returning-a-view-versus-a-copy\n",
      "\n",
      "C:\\Users\\Administrator\\AppData\\Local\\Temp\\ipykernel_58616\\3660197409.py:9: SettingWithCopyWarning:\n",
      "\n",
      "\n",
      "A value is trying to be set on a copy of a slice from a DataFrame.\n",
      "Try using .loc[row_indexer,col_indexer] = value instead\n",
      "\n",
      "See the caveats in the documentation: https://pandas.pydata.org/pandas-docs/stable/user_guide/indexing.html#returning-a-view-versus-a-copy\n",
      "\n",
      "C:\\Users\\Administrator\\AppData\\Local\\Temp\\ipykernel_58616\\3660197409.py:9: SettingWithCopyWarning:\n",
      "\n",
      "\n",
      "A value is trying to be set on a copy of a slice from a DataFrame.\n",
      "Try using .loc[row_indexer,col_indexer] = value instead\n",
      "\n",
      "See the caveats in the documentation: https://pandas.pydata.org/pandas-docs/stable/user_guide/indexing.html#returning-a-view-versus-a-copy\n",
      "\n",
      "C:\\Users\\Administrator\\AppData\\Local\\Temp\\ipykernel_58616\\3660197409.py:9: SettingWithCopyWarning:\n",
      "\n",
      "\n",
      "A value is trying to be set on a copy of a slice from a DataFrame.\n",
      "Try using .loc[row_indexer,col_indexer] = value instead\n",
      "\n",
      "See the caveats in the documentation: https://pandas.pydata.org/pandas-docs/stable/user_guide/indexing.html#returning-a-view-versus-a-copy\n",
      "\n",
      "C:\\Users\\Administrator\\AppData\\Local\\Temp\\ipykernel_58616\\3660197409.py:9: SettingWithCopyWarning:\n",
      "\n",
      "\n",
      "A value is trying to be set on a copy of a slice from a DataFrame.\n",
      "Try using .loc[row_indexer,col_indexer] = value instead\n",
      "\n",
      "See the caveats in the documentation: https://pandas.pydata.org/pandas-docs/stable/user_guide/indexing.html#returning-a-view-versus-a-copy\n",
      "\n",
      "C:\\Users\\Administrator\\AppData\\Local\\Temp\\ipykernel_58616\\3660197409.py:9: SettingWithCopyWarning:\n",
      "\n",
      "\n",
      "A value is trying to be set on a copy of a slice from a DataFrame.\n",
      "Try using .loc[row_indexer,col_indexer] = value instead\n",
      "\n",
      "See the caveats in the documentation: https://pandas.pydata.org/pandas-docs/stable/user_guide/indexing.html#returning-a-view-versus-a-copy\n",
      "\n",
      "C:\\Users\\Administrator\\AppData\\Local\\Temp\\ipykernel_58616\\3660197409.py:9: SettingWithCopyWarning:\n",
      "\n",
      "\n",
      "A value is trying to be set on a copy of a slice from a DataFrame.\n",
      "Try using .loc[row_indexer,col_indexer] = value instead\n",
      "\n",
      "See the caveats in the documentation: https://pandas.pydata.org/pandas-docs/stable/user_guide/indexing.html#returning-a-view-versus-a-copy\n",
      "\n",
      "C:\\Users\\Administrator\\AppData\\Local\\Temp\\ipykernel_58616\\3660197409.py:9: SettingWithCopyWarning:\n",
      "\n",
      "\n",
      "A value is trying to be set on a copy of a slice from a DataFrame.\n",
      "Try using .loc[row_indexer,col_indexer] = value instead\n",
      "\n",
      "See the caveats in the documentation: https://pandas.pydata.org/pandas-docs/stable/user_guide/indexing.html#returning-a-view-versus-a-copy\n",
      "\n",
      "C:\\Users\\Administrator\\AppData\\Local\\Temp\\ipykernel_58616\\3660197409.py:9: SettingWithCopyWarning:\n",
      "\n",
      "\n",
      "A value is trying to be set on a copy of a slice from a DataFrame.\n",
      "Try using .loc[row_indexer,col_indexer] = value instead\n",
      "\n",
      "See the caveats in the documentation: https://pandas.pydata.org/pandas-docs/stable/user_guide/indexing.html#returning-a-view-versus-a-copy\n",
      "\n",
      "C:\\Users\\Administrator\\AppData\\Local\\Temp\\ipykernel_58616\\3660197409.py:9: SettingWithCopyWarning:\n",
      "\n",
      "\n",
      "A value is trying to be set on a copy of a slice from a DataFrame.\n",
      "Try using .loc[row_indexer,col_indexer] = value instead\n",
      "\n",
      "See the caveats in the documentation: https://pandas.pydata.org/pandas-docs/stable/user_guide/indexing.html#returning-a-view-versus-a-copy\n",
      "\n",
      "C:\\Users\\Administrator\\AppData\\Local\\Temp\\ipykernel_58616\\3660197409.py:9: SettingWithCopyWarning:\n",
      "\n",
      "\n",
      "A value is trying to be set on a copy of a slice from a DataFrame.\n",
      "Try using .loc[row_indexer,col_indexer] = value instead\n",
      "\n",
      "See the caveats in the documentation: https://pandas.pydata.org/pandas-docs/stable/user_guide/indexing.html#returning-a-view-versus-a-copy\n",
      "\n",
      "C:\\Users\\Administrator\\AppData\\Local\\Temp\\ipykernel_58616\\3660197409.py:9: SettingWithCopyWarning:\n",
      "\n",
      "\n",
      "A value is trying to be set on a copy of a slice from a DataFrame.\n",
      "Try using .loc[row_indexer,col_indexer] = value instead\n",
      "\n",
      "See the caveats in the documentation: https://pandas.pydata.org/pandas-docs/stable/user_guide/indexing.html#returning-a-view-versus-a-copy\n",
      "\n",
      "C:\\Users\\Administrator\\AppData\\Local\\Temp\\ipykernel_58616\\3660197409.py:9: SettingWithCopyWarning:\n",
      "\n",
      "\n",
      "A value is trying to be set on a copy of a slice from a DataFrame.\n",
      "Try using .loc[row_indexer,col_indexer] = value instead\n",
      "\n",
      "See the caveats in the documentation: https://pandas.pydata.org/pandas-docs/stable/user_guide/indexing.html#returning-a-view-versus-a-copy\n",
      "\n",
      "C:\\Users\\Administrator\\AppData\\Local\\Temp\\ipykernel_58616\\3660197409.py:9: SettingWithCopyWarning:\n",
      "\n",
      "\n",
      "A value is trying to be set on a copy of a slice from a DataFrame.\n",
      "Try using .loc[row_indexer,col_indexer] = value instead\n",
      "\n",
      "See the caveats in the documentation: https://pandas.pydata.org/pandas-docs/stable/user_guide/indexing.html#returning-a-view-versus-a-copy\n",
      "\n",
      "C:\\Users\\Administrator\\AppData\\Local\\Temp\\ipykernel_58616\\3660197409.py:9: SettingWithCopyWarning:\n",
      "\n",
      "\n",
      "A value is trying to be set on a copy of a slice from a DataFrame.\n",
      "Try using .loc[row_indexer,col_indexer] = value instead\n",
      "\n",
      "See the caveats in the documentation: https://pandas.pydata.org/pandas-docs/stable/user_guide/indexing.html#returning-a-view-versus-a-copy\n",
      "\n",
      "C:\\Users\\Administrator\\AppData\\Local\\Temp\\ipykernel_58616\\3660197409.py:9: SettingWithCopyWarning:\n",
      "\n",
      "\n",
      "A value is trying to be set on a copy of a slice from a DataFrame.\n",
      "Try using .loc[row_indexer,col_indexer] = value instead\n",
      "\n",
      "See the caveats in the documentation: https://pandas.pydata.org/pandas-docs/stable/user_guide/indexing.html#returning-a-view-versus-a-copy\n",
      "\n",
      "C:\\Users\\Administrator\\AppData\\Local\\Temp\\ipykernel_58616\\3660197409.py:9: SettingWithCopyWarning:\n",
      "\n",
      "\n",
      "A value is trying to be set on a copy of a slice from a DataFrame.\n",
      "Try using .loc[row_indexer,col_indexer] = value instead\n",
      "\n",
      "See the caveats in the documentation: https://pandas.pydata.org/pandas-docs/stable/user_guide/indexing.html#returning-a-view-versus-a-copy\n",
      "\n",
      "C:\\Users\\Administrator\\AppData\\Local\\Temp\\ipykernel_58616\\3660197409.py:9: SettingWithCopyWarning:\n",
      "\n",
      "\n",
      "A value is trying to be set on a copy of a slice from a DataFrame.\n",
      "Try using .loc[row_indexer,col_indexer] = value instead\n",
      "\n",
      "See the caveats in the documentation: https://pandas.pydata.org/pandas-docs/stable/user_guide/indexing.html#returning-a-view-versus-a-copy\n",
      "\n",
      "C:\\Users\\Administrator\\AppData\\Local\\Temp\\ipykernel_58616\\3660197409.py:9: SettingWithCopyWarning:\n",
      "\n",
      "\n",
      "A value is trying to be set on a copy of a slice from a DataFrame.\n",
      "Try using .loc[row_indexer,col_indexer] = value instead\n",
      "\n",
      "See the caveats in the documentation: https://pandas.pydata.org/pandas-docs/stable/user_guide/indexing.html#returning-a-view-versus-a-copy\n",
      "\n",
      "C:\\Users\\Administrator\\AppData\\Local\\Temp\\ipykernel_58616\\3660197409.py:9: SettingWithCopyWarning:\n",
      "\n",
      "\n",
      "A value is trying to be set on a copy of a slice from a DataFrame.\n",
      "Try using .loc[row_indexer,col_indexer] = value instead\n",
      "\n",
      "See the caveats in the documentation: https://pandas.pydata.org/pandas-docs/stable/user_guide/indexing.html#returning-a-view-versus-a-copy\n",
      "\n",
      "C:\\Users\\Administrator\\AppData\\Local\\Temp\\ipykernel_58616\\3660197409.py:9: SettingWithCopyWarning:\n",
      "\n",
      "\n",
      "A value is trying to be set on a copy of a slice from a DataFrame.\n",
      "Try using .loc[row_indexer,col_indexer] = value instead\n",
      "\n",
      "See the caveats in the documentation: https://pandas.pydata.org/pandas-docs/stable/user_guide/indexing.html#returning-a-view-versus-a-copy\n",
      "\n",
      "C:\\Users\\Administrator\\AppData\\Local\\Temp\\ipykernel_58616\\3660197409.py:9: SettingWithCopyWarning:\n",
      "\n",
      "\n",
      "A value is trying to be set on a copy of a slice from a DataFrame.\n",
      "Try using .loc[row_indexer,col_indexer] = value instead\n",
      "\n",
      "See the caveats in the documentation: https://pandas.pydata.org/pandas-docs/stable/user_guide/indexing.html#returning-a-view-versus-a-copy\n",
      "\n",
      "C:\\Users\\Administrator\\AppData\\Local\\Temp\\ipykernel_58616\\3660197409.py:9: SettingWithCopyWarning:\n",
      "\n",
      "\n",
      "A value is trying to be set on a copy of a slice from a DataFrame.\n",
      "Try using .loc[row_indexer,col_indexer] = value instead\n",
      "\n",
      "See the caveats in the documentation: https://pandas.pydata.org/pandas-docs/stable/user_guide/indexing.html#returning-a-view-versus-a-copy\n",
      "\n",
      "C:\\Users\\Administrator\\AppData\\Local\\Temp\\ipykernel_58616\\3660197409.py:9: SettingWithCopyWarning:\n",
      "\n",
      "\n",
      "A value is trying to be set on a copy of a slice from a DataFrame.\n",
      "Try using .loc[row_indexer,col_indexer] = value instead\n",
      "\n",
      "See the caveats in the documentation: https://pandas.pydata.org/pandas-docs/stable/user_guide/indexing.html#returning-a-view-versus-a-copy\n",
      "\n",
      "C:\\Users\\Administrator\\AppData\\Local\\Temp\\ipykernel_58616\\3660197409.py:9: SettingWithCopyWarning:\n",
      "\n",
      "\n",
      "A value is trying to be set on a copy of a slice from a DataFrame.\n",
      "Try using .loc[row_indexer,col_indexer] = value instead\n",
      "\n",
      "See the caveats in the documentation: https://pandas.pydata.org/pandas-docs/stable/user_guide/indexing.html#returning-a-view-versus-a-copy\n",
      "\n",
      "C:\\Users\\Administrator\\AppData\\Local\\Temp\\ipykernel_58616\\3660197409.py:9: SettingWithCopyWarning:\n",
      "\n",
      "\n",
      "A value is trying to be set on a copy of a slice from a DataFrame.\n",
      "Try using .loc[row_indexer,col_indexer] = value instead\n",
      "\n",
      "See the caveats in the documentation: https://pandas.pydata.org/pandas-docs/stable/user_guide/indexing.html#returning-a-view-versus-a-copy\n",
      "\n",
      "C:\\Users\\Administrator\\AppData\\Local\\Temp\\ipykernel_58616\\3660197409.py:9: SettingWithCopyWarning:\n",
      "\n",
      "\n",
      "A value is trying to be set on a copy of a slice from a DataFrame.\n",
      "Try using .loc[row_indexer,col_indexer] = value instead\n",
      "\n",
      "See the caveats in the documentation: https://pandas.pydata.org/pandas-docs/stable/user_guide/indexing.html#returning-a-view-versus-a-copy\n",
      "\n",
      "C:\\Users\\Administrator\\AppData\\Local\\Temp\\ipykernel_58616\\3660197409.py:9: SettingWithCopyWarning:\n",
      "\n",
      "\n",
      "A value is trying to be set on a copy of a slice from a DataFrame.\n",
      "Try using .loc[row_indexer,col_indexer] = value instead\n",
      "\n",
      "See the caveats in the documentation: https://pandas.pydata.org/pandas-docs/stable/user_guide/indexing.html#returning-a-view-versus-a-copy\n",
      "\n",
      "C:\\Users\\Administrator\\AppData\\Local\\Temp\\ipykernel_58616\\3660197409.py:9: SettingWithCopyWarning:\n",
      "\n",
      "\n",
      "A value is trying to be set on a copy of a slice from a DataFrame.\n",
      "Try using .loc[row_indexer,col_indexer] = value instead\n",
      "\n",
      "See the caveats in the documentation: https://pandas.pydata.org/pandas-docs/stable/user_guide/indexing.html#returning-a-view-versus-a-copy\n",
      "\n",
      "C:\\Users\\Administrator\\AppData\\Local\\Temp\\ipykernel_58616\\3660197409.py:9: SettingWithCopyWarning:\n",
      "\n",
      "\n",
      "A value is trying to be set on a copy of a slice from a DataFrame.\n",
      "Try using .loc[row_indexer,col_indexer] = value instead\n",
      "\n",
      "See the caveats in the documentation: https://pandas.pydata.org/pandas-docs/stable/user_guide/indexing.html#returning-a-view-versus-a-copy\n",
      "\n",
      "C:\\Users\\Administrator\\AppData\\Local\\Temp\\ipykernel_58616\\3660197409.py:9: SettingWithCopyWarning:\n",
      "\n",
      "\n",
      "A value is trying to be set on a copy of a slice from a DataFrame.\n",
      "Try using .loc[row_indexer,col_indexer] = value instead\n",
      "\n",
      "See the caveats in the documentation: https://pandas.pydata.org/pandas-docs/stable/user_guide/indexing.html#returning-a-view-versus-a-copy\n",
      "\n",
      "C:\\Users\\Administrator\\AppData\\Local\\Temp\\ipykernel_58616\\3660197409.py:9: SettingWithCopyWarning:\n",
      "\n",
      "\n",
      "A value is trying to be set on a copy of a slice from a DataFrame.\n",
      "Try using .loc[row_indexer,col_indexer] = value instead\n",
      "\n",
      "See the caveats in the documentation: https://pandas.pydata.org/pandas-docs/stable/user_guide/indexing.html#returning-a-view-versus-a-copy\n",
      "\n",
      "C:\\Users\\Administrator\\AppData\\Local\\Temp\\ipykernel_58616\\3660197409.py:9: SettingWithCopyWarning:\n",
      "\n",
      "\n",
      "A value is trying to be set on a copy of a slice from a DataFrame.\n",
      "Try using .loc[row_indexer,col_indexer] = value instead\n",
      "\n",
      "See the caveats in the documentation: https://pandas.pydata.org/pandas-docs/stable/user_guide/indexing.html#returning-a-view-versus-a-copy\n",
      "\n",
      "C:\\Users\\Administrator\\AppData\\Local\\Temp\\ipykernel_58616\\3660197409.py:9: SettingWithCopyWarning:\n",
      "\n",
      "\n",
      "A value is trying to be set on a copy of a slice from a DataFrame.\n",
      "Try using .loc[row_indexer,col_indexer] = value instead\n",
      "\n",
      "See the caveats in the documentation: https://pandas.pydata.org/pandas-docs/stable/user_guide/indexing.html#returning-a-view-versus-a-copy\n",
      "\n",
      "C:\\Users\\Administrator\\AppData\\Local\\Temp\\ipykernel_58616\\3660197409.py:9: SettingWithCopyWarning:\n",
      "\n",
      "\n",
      "A value is trying to be set on a copy of a slice from a DataFrame.\n",
      "Try using .loc[row_indexer,col_indexer] = value instead\n",
      "\n",
      "See the caveats in the documentation: https://pandas.pydata.org/pandas-docs/stable/user_guide/indexing.html#returning-a-view-versus-a-copy\n",
      "\n",
      "C:\\Users\\Administrator\\AppData\\Local\\Temp\\ipykernel_58616\\3660197409.py:9: SettingWithCopyWarning:\n",
      "\n",
      "\n",
      "A value is trying to be set on a copy of a slice from a DataFrame.\n",
      "Try using .loc[row_indexer,col_indexer] = value instead\n",
      "\n",
      "See the caveats in the documentation: https://pandas.pydata.org/pandas-docs/stable/user_guide/indexing.html#returning-a-view-versus-a-copy\n",
      "\n",
      "C:\\Users\\Administrator\\AppData\\Local\\Temp\\ipykernel_58616\\3660197409.py:9: SettingWithCopyWarning:\n",
      "\n",
      "\n",
      "A value is trying to be set on a copy of a slice from a DataFrame.\n",
      "Try using .loc[row_indexer,col_indexer] = value instead\n",
      "\n",
      "See the caveats in the documentation: https://pandas.pydata.org/pandas-docs/stable/user_guide/indexing.html#returning-a-view-versus-a-copy\n",
      "\n",
      "C:\\Users\\Administrator\\AppData\\Local\\Temp\\ipykernel_58616\\3660197409.py:9: SettingWithCopyWarning:\n",
      "\n",
      "\n",
      "A value is trying to be set on a copy of a slice from a DataFrame.\n",
      "Try using .loc[row_indexer,col_indexer] = value instead\n",
      "\n",
      "See the caveats in the documentation: https://pandas.pydata.org/pandas-docs/stable/user_guide/indexing.html#returning-a-view-versus-a-copy\n",
      "\n",
      "C:\\Users\\Administrator\\AppData\\Local\\Temp\\ipykernel_58616\\3660197409.py:9: SettingWithCopyWarning:\n",
      "\n",
      "\n",
      "A value is trying to be set on a copy of a slice from a DataFrame.\n",
      "Try using .loc[row_indexer,col_indexer] = value instead\n",
      "\n",
      "See the caveats in the documentation: https://pandas.pydata.org/pandas-docs/stable/user_guide/indexing.html#returning-a-view-versus-a-copy\n",
      "\n",
      "C:\\Users\\Administrator\\AppData\\Local\\Temp\\ipykernel_58616\\3660197409.py:9: SettingWithCopyWarning:\n",
      "\n",
      "\n",
      "A value is trying to be set on a copy of a slice from a DataFrame.\n",
      "Try using .loc[row_indexer,col_indexer] = value instead\n",
      "\n",
      "See the caveats in the documentation: https://pandas.pydata.org/pandas-docs/stable/user_guide/indexing.html#returning-a-view-versus-a-copy\n",
      "\n",
      "C:\\Users\\Administrator\\AppData\\Local\\Temp\\ipykernel_58616\\3660197409.py:9: SettingWithCopyWarning:\n",
      "\n",
      "\n",
      "A value is trying to be set on a copy of a slice from a DataFrame.\n",
      "Try using .loc[row_indexer,col_indexer] = value instead\n",
      "\n",
      "See the caveats in the documentation: https://pandas.pydata.org/pandas-docs/stable/user_guide/indexing.html#returning-a-view-versus-a-copy\n",
      "\n",
      "C:\\Users\\Administrator\\AppData\\Local\\Temp\\ipykernel_58616\\3660197409.py:9: SettingWithCopyWarning:\n",
      "\n",
      "\n",
      "A value is trying to be set on a copy of a slice from a DataFrame.\n",
      "Try using .loc[row_indexer,col_indexer] = value instead\n",
      "\n",
      "See the caveats in the documentation: https://pandas.pydata.org/pandas-docs/stable/user_guide/indexing.html#returning-a-view-versus-a-copy\n",
      "\n",
      "C:\\Users\\Administrator\\AppData\\Local\\Temp\\ipykernel_58616\\3660197409.py:9: SettingWithCopyWarning:\n",
      "\n",
      "\n",
      "A value is trying to be set on a copy of a slice from a DataFrame.\n",
      "Try using .loc[row_indexer,col_indexer] = value instead\n",
      "\n",
      "See the caveats in the documentation: https://pandas.pydata.org/pandas-docs/stable/user_guide/indexing.html#returning-a-view-versus-a-copy\n",
      "\n",
      "C:\\Users\\Administrator\\AppData\\Local\\Temp\\ipykernel_58616\\3660197409.py:9: SettingWithCopyWarning:\n",
      "\n",
      "\n",
      "A value is trying to be set on a copy of a slice from a DataFrame.\n",
      "Try using .loc[row_indexer,col_indexer] = value instead\n",
      "\n",
      "See the caveats in the documentation: https://pandas.pydata.org/pandas-docs/stable/user_guide/indexing.html#returning-a-view-versus-a-copy\n",
      "\n",
      "C:\\Users\\Administrator\\AppData\\Local\\Temp\\ipykernel_58616\\3660197409.py:9: SettingWithCopyWarning:\n",
      "\n",
      "\n",
      "A value is trying to be set on a copy of a slice from a DataFrame.\n",
      "Try using .loc[row_indexer,col_indexer] = value instead\n",
      "\n",
      "See the caveats in the documentation: https://pandas.pydata.org/pandas-docs/stable/user_guide/indexing.html#returning-a-view-versus-a-copy\n",
      "\n",
      "C:\\Users\\Administrator\\AppData\\Local\\Temp\\ipykernel_58616\\3660197409.py:9: SettingWithCopyWarning:\n",
      "\n",
      "\n",
      "A value is trying to be set on a copy of a slice from a DataFrame.\n",
      "Try using .loc[row_indexer,col_indexer] = value instead\n",
      "\n",
      "See the caveats in the documentation: https://pandas.pydata.org/pandas-docs/stable/user_guide/indexing.html#returning-a-view-versus-a-copy\n",
      "\n",
      "C:\\Users\\Administrator\\AppData\\Local\\Temp\\ipykernel_58616\\3660197409.py:9: SettingWithCopyWarning:\n",
      "\n",
      "\n",
      "A value is trying to be set on a copy of a slice from a DataFrame.\n",
      "Try using .loc[row_indexer,col_indexer] = value instead\n",
      "\n",
      "See the caveats in the documentation: https://pandas.pydata.org/pandas-docs/stable/user_guide/indexing.html#returning-a-view-versus-a-copy\n",
      "\n",
      "C:\\Users\\Administrator\\AppData\\Local\\Temp\\ipykernel_58616\\3660197409.py:9: SettingWithCopyWarning:\n",
      "\n",
      "\n",
      "A value is trying to be set on a copy of a slice from a DataFrame.\n",
      "Try using .loc[row_indexer,col_indexer] = value instead\n",
      "\n",
      "See the caveats in the documentation: https://pandas.pydata.org/pandas-docs/stable/user_guide/indexing.html#returning-a-view-versus-a-copy\n",
      "\n",
      "C:\\Users\\Administrator\\AppData\\Local\\Temp\\ipykernel_58616\\3660197409.py:9: SettingWithCopyWarning:\n",
      "\n",
      "\n",
      "A value is trying to be set on a copy of a slice from a DataFrame.\n",
      "Try using .loc[row_indexer,col_indexer] = value instead\n",
      "\n",
      "See the caveats in the documentation: https://pandas.pydata.org/pandas-docs/stable/user_guide/indexing.html#returning-a-view-versus-a-copy\n",
      "\n",
      "C:\\Users\\Administrator\\AppData\\Local\\Temp\\ipykernel_58616\\3660197409.py:9: SettingWithCopyWarning:\n",
      "\n",
      "\n",
      "A value is trying to be set on a copy of a slice from a DataFrame.\n",
      "Try using .loc[row_indexer,col_indexer] = value instead\n",
      "\n",
      "See the caveats in the documentation: https://pandas.pydata.org/pandas-docs/stable/user_guide/indexing.html#returning-a-view-versus-a-copy\n",
      "\n",
      "C:\\Users\\Administrator\\AppData\\Local\\Temp\\ipykernel_58616\\3660197409.py:9: SettingWithCopyWarning:\n",
      "\n",
      "\n",
      "A value is trying to be set on a copy of a slice from a DataFrame.\n",
      "Try using .loc[row_indexer,col_indexer] = value instead\n",
      "\n",
      "See the caveats in the documentation: https://pandas.pydata.org/pandas-docs/stable/user_guide/indexing.html#returning-a-view-versus-a-copy\n",
      "\n",
      "C:\\Users\\Administrator\\AppData\\Local\\Temp\\ipykernel_58616\\3660197409.py:9: SettingWithCopyWarning:\n",
      "\n",
      "\n",
      "A value is trying to be set on a copy of a slice from a DataFrame.\n",
      "Try using .loc[row_indexer,col_indexer] = value instead\n",
      "\n",
      "See the caveats in the documentation: https://pandas.pydata.org/pandas-docs/stable/user_guide/indexing.html#returning-a-view-versus-a-copy\n",
      "\n",
      "C:\\Users\\Administrator\\AppData\\Local\\Temp\\ipykernel_58616\\3660197409.py:9: SettingWithCopyWarning:\n",
      "\n",
      "\n",
      "A value is trying to be set on a copy of a slice from a DataFrame.\n",
      "Try using .loc[row_indexer,col_indexer] = value instead\n",
      "\n",
      "See the caveats in the documentation: https://pandas.pydata.org/pandas-docs/stable/user_guide/indexing.html#returning-a-view-versus-a-copy\n",
      "\n",
      "C:\\Users\\Administrator\\AppData\\Local\\Temp\\ipykernel_58616\\3660197409.py:9: SettingWithCopyWarning:\n",
      "\n",
      "\n",
      "A value is trying to be set on a copy of a slice from a DataFrame.\n",
      "Try using .loc[row_indexer,col_indexer] = value instead\n",
      "\n",
      "See the caveats in the documentation: https://pandas.pydata.org/pandas-docs/stable/user_guide/indexing.html#returning-a-view-versus-a-copy\n",
      "\n",
      "C:\\Users\\Administrator\\AppData\\Local\\Temp\\ipykernel_58616\\3660197409.py:9: SettingWithCopyWarning:\n",
      "\n",
      "\n",
      "A value is trying to be set on a copy of a slice from a DataFrame.\n",
      "Try using .loc[row_indexer,col_indexer] = value instead\n",
      "\n",
      "See the caveats in the documentation: https://pandas.pydata.org/pandas-docs/stable/user_guide/indexing.html#returning-a-view-versus-a-copy\n",
      "\n",
      "C:\\Users\\Administrator\\AppData\\Local\\Temp\\ipykernel_58616\\3660197409.py:9: SettingWithCopyWarning:\n",
      "\n",
      "\n",
      "A value is trying to be set on a copy of a slice from a DataFrame.\n",
      "Try using .loc[row_indexer,col_indexer] = value instead\n",
      "\n",
      "See the caveats in the documentation: https://pandas.pydata.org/pandas-docs/stable/user_guide/indexing.html#returning-a-view-versus-a-copy\n",
      "\n",
      "C:\\Users\\Administrator\\AppData\\Local\\Temp\\ipykernel_58616\\3660197409.py:9: SettingWithCopyWarning:\n",
      "\n",
      "\n",
      "A value is trying to be set on a copy of a slice from a DataFrame.\n",
      "Try using .loc[row_indexer,col_indexer] = value instead\n",
      "\n",
      "See the caveats in the documentation: https://pandas.pydata.org/pandas-docs/stable/user_guide/indexing.html#returning-a-view-versus-a-copy\n",
      "\n",
      "C:\\Users\\Administrator\\AppData\\Local\\Temp\\ipykernel_58616\\3660197409.py:9: SettingWithCopyWarning:\n",
      "\n",
      "\n",
      "A value is trying to be set on a copy of a slice from a DataFrame.\n",
      "Try using .loc[row_indexer,col_indexer] = value instead\n",
      "\n",
      "See the caveats in the documentation: https://pandas.pydata.org/pandas-docs/stable/user_guide/indexing.html#returning-a-view-versus-a-copy\n",
      "\n",
      "C:\\Users\\Administrator\\AppData\\Local\\Temp\\ipykernel_58616\\3660197409.py:9: SettingWithCopyWarning:\n",
      "\n",
      "\n",
      "A value is trying to be set on a copy of a slice from a DataFrame.\n",
      "Try using .loc[row_indexer,col_indexer] = value instead\n",
      "\n",
      "See the caveats in the documentation: https://pandas.pydata.org/pandas-docs/stable/user_guide/indexing.html#returning-a-view-versus-a-copy\n",
      "\n",
      "C:\\Users\\Administrator\\AppData\\Local\\Temp\\ipykernel_58616\\3660197409.py:9: SettingWithCopyWarning:\n",
      "\n",
      "\n",
      "A value is trying to be set on a copy of a slice from a DataFrame.\n",
      "Try using .loc[row_indexer,col_indexer] = value instead\n",
      "\n",
      "See the caveats in the documentation: https://pandas.pydata.org/pandas-docs/stable/user_guide/indexing.html#returning-a-view-versus-a-copy\n",
      "\n",
      "C:\\Users\\Administrator\\AppData\\Local\\Temp\\ipykernel_58616\\3660197409.py:9: SettingWithCopyWarning:\n",
      "\n",
      "\n",
      "A value is trying to be set on a copy of a slice from a DataFrame.\n",
      "Try using .loc[row_indexer,col_indexer] = value instead\n",
      "\n",
      "See the caveats in the documentation: https://pandas.pydata.org/pandas-docs/stable/user_guide/indexing.html#returning-a-view-versus-a-copy\n",
      "\n",
      "C:\\Users\\Administrator\\AppData\\Local\\Temp\\ipykernel_58616\\3660197409.py:9: SettingWithCopyWarning:\n",
      "\n",
      "\n",
      "A value is trying to be set on a copy of a slice from a DataFrame.\n",
      "Try using .loc[row_indexer,col_indexer] = value instead\n",
      "\n",
      "See the caveats in the documentation: https://pandas.pydata.org/pandas-docs/stable/user_guide/indexing.html#returning-a-view-versus-a-copy\n",
      "\n",
      "C:\\Users\\Administrator\\AppData\\Local\\Temp\\ipykernel_58616\\3660197409.py:9: SettingWithCopyWarning:\n",
      "\n",
      "\n",
      "A value is trying to be set on a copy of a slice from a DataFrame.\n",
      "Try using .loc[row_indexer,col_indexer] = value instead\n",
      "\n",
      "See the caveats in the documentation: https://pandas.pydata.org/pandas-docs/stable/user_guide/indexing.html#returning-a-view-versus-a-copy\n",
      "\n",
      "C:\\Users\\Administrator\\AppData\\Local\\Temp\\ipykernel_58616\\3660197409.py:9: SettingWithCopyWarning:\n",
      "\n",
      "\n",
      "A value is trying to be set on a copy of a slice from a DataFrame.\n",
      "Try using .loc[row_indexer,col_indexer] = value instead\n",
      "\n",
      "See the caveats in the documentation: https://pandas.pydata.org/pandas-docs/stable/user_guide/indexing.html#returning-a-view-versus-a-copy\n",
      "\n"
     ]
    }
   ],
   "source": [
    "# 一个国家一个国家地补全数据\n",
    "df_country_list = []\n",
    "for countryname in countryname_list:\n",
    "    df_country = df_all_1.loc[df_all_1['Country name']\n",
    "                              == countryname]\n",
    "    # df_country.iloc[:,0].size是这个df的行数\n",
    "    df_country.index = range(0, df_country.iloc[:,0].size)\n",
    "    for factor in factors[2:]:\n",
    "        df_country[factor] = df_country[factor].fillna(\n",
    "            df_country[factor].mean())\n",
    "    globals()[f\"df_{countryname}\"] = df_country\n",
    "    df_country_list.append(df_country)\n",
    "    df_country.to_csv(f\"data_groupby_country/df_{countryname}.csv\")\n",
    "\n",
    "df_all_2 = pd.concat(df_country_list)\n",
    "df_all_2.index=range(0,df_all_2.iloc[:,0].size)\n",
    "df_all_2.to_csv(\"df_all_2.csv\")\n"
   ]
  },
  {
   "cell_type": "code",
   "execution_count": 56,
   "metadata": {},
   "outputs": [
    {
     "data": {
      "text/html": [
       "<div>\n",
       "<style scoped>\n",
       "    .dataframe tbody tr th:only-of-type {\n",
       "        vertical-align: middle;\n",
       "    }\n",
       "\n",
       "    .dataframe tbody tr th {\n",
       "        vertical-align: top;\n",
       "    }\n",
       "\n",
       "    .dataframe thead th {\n",
       "        text-align: right;\n",
       "    }\n",
       "</style>\n",
       "<table border=\"1\" class=\"dataframe\">\n",
       "  <thead>\n",
       "    <tr style=\"text-align: right;\">\n",
       "      <th></th>\n",
       "      <th>Country name</th>\n",
       "      <th>year</th>\n",
       "      <th>Life Ladder</th>\n",
       "      <th>Log GDP per capita</th>\n",
       "      <th>Social support</th>\n",
       "      <th>Healthy life expectancy at birth</th>\n",
       "      <th>Freedom to make life choices</th>\n",
       "      <th>Generosity</th>\n",
       "      <th>Perceptions of corruption</th>\n",
       "      <th>Positive affect</th>\n",
       "      <th>Negative affect</th>\n",
       "      <th>Confidence in national government</th>\n",
       "    </tr>\n",
       "  </thead>\n",
       "  <tbody>\n",
       "    <tr>\n",
       "      <th>0</th>\n",
       "      <td>Afghanistan</td>\n",
       "      <td>2008</td>\n",
       "      <td>3.723590</td>\n",
       "      <td>7.302574</td>\n",
       "      <td>0.450662</td>\n",
       "      <td>50.500000</td>\n",
       "      <td>0.718114</td>\n",
       "      <td>0.173169</td>\n",
       "      <td>0.881686</td>\n",
       "      <td>0.414297</td>\n",
       "      <td>0.258195</td>\n",
       "      <td>0.612072</td>\n",
       "    </tr>\n",
       "    <tr>\n",
       "      <th>1</th>\n",
       "      <td>Afghanistan</td>\n",
       "      <td>2009</td>\n",
       "      <td>4.401778</td>\n",
       "      <td>7.472446</td>\n",
       "      <td>0.552308</td>\n",
       "      <td>50.799999</td>\n",
       "      <td>0.678896</td>\n",
       "      <td>0.195469</td>\n",
       "      <td>0.850035</td>\n",
       "      <td>0.481421</td>\n",
       "      <td>0.237092</td>\n",
       "      <td>0.611545</td>\n",
       "    </tr>\n",
       "    <tr>\n",
       "      <th>2</th>\n",
       "      <td>Afghanistan</td>\n",
       "      <td>2010</td>\n",
       "      <td>4.758381</td>\n",
       "      <td>7.579183</td>\n",
       "      <td>0.539075</td>\n",
       "      <td>51.099998</td>\n",
       "      <td>0.600127</td>\n",
       "      <td>0.125859</td>\n",
       "      <td>0.706766</td>\n",
       "      <td>0.516907</td>\n",
       "      <td>0.275324</td>\n",
       "      <td>0.299357</td>\n",
       "    </tr>\n",
       "    <tr>\n",
       "      <th>3</th>\n",
       "      <td>Afghanistan</td>\n",
       "      <td>2011</td>\n",
       "      <td>3.831719</td>\n",
       "      <td>7.552006</td>\n",
       "      <td>0.521104</td>\n",
       "      <td>51.400002</td>\n",
       "      <td>0.495901</td>\n",
       "      <td>0.167723</td>\n",
       "      <td>0.731109</td>\n",
       "      <td>0.479835</td>\n",
       "      <td>0.267175</td>\n",
       "      <td>0.307386</td>\n",
       "    </tr>\n",
       "    <tr>\n",
       "      <th>4</th>\n",
       "      <td>Afghanistan</td>\n",
       "      <td>2012</td>\n",
       "      <td>3.782938</td>\n",
       "      <td>7.637953</td>\n",
       "      <td>0.520637</td>\n",
       "      <td>51.700001</td>\n",
       "      <td>0.530935</td>\n",
       "      <td>0.241247</td>\n",
       "      <td>0.775620</td>\n",
       "      <td>0.613513</td>\n",
       "      <td>0.267919</td>\n",
       "      <td>0.435440</td>\n",
       "    </tr>\n",
       "    <tr>\n",
       "      <th>...</th>\n",
       "      <td>...</td>\n",
       "      <td>...</td>\n",
       "      <td>...</td>\n",
       "      <td>...</td>\n",
       "      <td>...</td>\n",
       "      <td>...</td>\n",
       "      <td>...</td>\n",
       "      <td>...</td>\n",
       "      <td>...</td>\n",
       "      <td>...</td>\n",
       "      <td>...</td>\n",
       "      <td>...</td>\n",
       "    </tr>\n",
       "    <tr>\n",
       "      <th>2084</th>\n",
       "      <td>Zimbabwe</td>\n",
       "      <td>2017</td>\n",
       "      <td>3.638300</td>\n",
       "      <td>8.241609</td>\n",
       "      <td>0.754147</td>\n",
       "      <td>52.150002</td>\n",
       "      <td>0.752826</td>\n",
       "      <td>-0.113937</td>\n",
       "      <td>0.751208</td>\n",
       "      <td>0.733641</td>\n",
       "      <td>0.224051</td>\n",
       "      <td>0.682647</td>\n",
       "    </tr>\n",
       "    <tr>\n",
       "      <th>2085</th>\n",
       "      <td>Zimbabwe</td>\n",
       "      <td>2018</td>\n",
       "      <td>3.616480</td>\n",
       "      <td>8.274620</td>\n",
       "      <td>0.775388</td>\n",
       "      <td>52.625000</td>\n",
       "      <td>0.762675</td>\n",
       "      <td>-0.084747</td>\n",
       "      <td>0.844209</td>\n",
       "      <td>0.657524</td>\n",
       "      <td>0.211726</td>\n",
       "      <td>0.550508</td>\n",
       "    </tr>\n",
       "    <tr>\n",
       "      <th>2086</th>\n",
       "      <td>Zimbabwe</td>\n",
       "      <td>2019</td>\n",
       "      <td>2.693523</td>\n",
       "      <td>8.196998</td>\n",
       "      <td>0.759162</td>\n",
       "      <td>53.099998</td>\n",
       "      <td>0.631908</td>\n",
       "      <td>-0.081540</td>\n",
       "      <td>0.830652</td>\n",
       "      <td>0.658434</td>\n",
       "      <td>0.235354</td>\n",
       "      <td>0.456455</td>\n",
       "    </tr>\n",
       "    <tr>\n",
       "      <th>2087</th>\n",
       "      <td>Zimbabwe</td>\n",
       "      <td>2020</td>\n",
       "      <td>3.159802</td>\n",
       "      <td>8.117733</td>\n",
       "      <td>0.717243</td>\n",
       "      <td>53.575001</td>\n",
       "      <td>0.643303</td>\n",
       "      <td>-0.029376</td>\n",
       "      <td>0.788523</td>\n",
       "      <td>0.660658</td>\n",
       "      <td>0.345736</td>\n",
       "      <td>0.577302</td>\n",
       "    </tr>\n",
       "    <tr>\n",
       "      <th>2088</th>\n",
       "      <td>Zimbabwe</td>\n",
       "      <td>2021</td>\n",
       "      <td>3.154578</td>\n",
       "      <td>8.153248</td>\n",
       "      <td>0.685151</td>\n",
       "      <td>54.049999</td>\n",
       "      <td>0.667636</td>\n",
       "      <td>-0.109439</td>\n",
       "      <td>0.756945</td>\n",
       "      <td>0.609917</td>\n",
       "      <td>0.241682</td>\n",
       "      <td>0.665703</td>\n",
       "    </tr>\n",
       "  </tbody>\n",
       "</table>\n",
       "<p>2089 rows × 12 columns</p>\n",
       "</div>"
      ],
      "text/plain": [
       "     Country name  year  Life Ladder  Log GDP per capita  Social support  \\\n",
       "0     Afghanistan  2008     3.723590            7.302574        0.450662   \n",
       "1     Afghanistan  2009     4.401778            7.472446        0.552308   \n",
       "2     Afghanistan  2010     4.758381            7.579183        0.539075   \n",
       "3     Afghanistan  2011     3.831719            7.552006        0.521104   \n",
       "4     Afghanistan  2012     3.782938            7.637953        0.520637   \n",
       "...           ...   ...          ...                 ...             ...   \n",
       "2084     Zimbabwe  2017     3.638300            8.241609        0.754147   \n",
       "2085     Zimbabwe  2018     3.616480            8.274620        0.775388   \n",
       "2086     Zimbabwe  2019     2.693523            8.196998        0.759162   \n",
       "2087     Zimbabwe  2020     3.159802            8.117733        0.717243   \n",
       "2088     Zimbabwe  2021     3.154578            8.153248        0.685151   \n",
       "\n",
       "      Healthy life expectancy at birth  Freedom to make life choices  \\\n",
       "0                            50.500000                      0.718114   \n",
       "1                            50.799999                      0.678896   \n",
       "2                            51.099998                      0.600127   \n",
       "3                            51.400002                      0.495901   \n",
       "4                            51.700001                      0.530935   \n",
       "...                                ...                           ...   \n",
       "2084                         52.150002                      0.752826   \n",
       "2085                         52.625000                      0.762675   \n",
       "2086                         53.099998                      0.631908   \n",
       "2087                         53.575001                      0.643303   \n",
       "2088                         54.049999                      0.667636   \n",
       "\n",
       "      Generosity  Perceptions of corruption  Positive affect  Negative affect  \\\n",
       "0       0.173169                   0.881686         0.414297         0.258195   \n",
       "1       0.195469                   0.850035         0.481421         0.237092   \n",
       "2       0.125859                   0.706766         0.516907         0.275324   \n",
       "3       0.167723                   0.731109         0.479835         0.267175   \n",
       "4       0.241247                   0.775620         0.613513         0.267919   \n",
       "...          ...                        ...              ...              ...   \n",
       "2084   -0.113937                   0.751208         0.733641         0.224051   \n",
       "2085   -0.084747                   0.844209         0.657524         0.211726   \n",
       "2086   -0.081540                   0.830652         0.658434         0.235354   \n",
       "2087   -0.029376                   0.788523         0.660658         0.345736   \n",
       "2088   -0.109439                   0.756945         0.609917         0.241682   \n",
       "\n",
       "      Confidence in national government  \n",
       "0                              0.612072  \n",
       "1                              0.611545  \n",
       "2                              0.299357  \n",
       "3                              0.307386  \n",
       "4                              0.435440  \n",
       "...                                 ...  \n",
       "2084                           0.682647  \n",
       "2085                           0.550508  \n",
       "2086                           0.456455  \n",
       "2087                           0.577302  \n",
       "2088                           0.665703  \n",
       "\n",
       "[2089 rows x 12 columns]"
      ]
     },
     "execution_count": 56,
     "metadata": {},
     "output_type": "execute_result"
    }
   ],
   "source": [
    "df_all_2"
   ]
  },
  {
   "attachments": {},
   "cell_type": "markdown",
   "metadata": {},
   "source": [
    "处理完全缺失"
   ]
  },
  {
   "cell_type": "code",
   "execution_count": 57,
   "metadata": {},
   "outputs": [],
   "source": [
    "# 有些国家的有些指标一个数据也没有，所以上面一遍操作后也没被补全\n",
    "# 再整个用平均值补全\n",
    "df_all_3 = df_all_2.copy()\n",
    "for factor in factors[2:]:\n",
    "    df_all_3[factor] = df_all_3[factor].fillna(df_all_3[factor].mean())\n",
    "df_all_3.index=range(0,df_all_3.iloc[:,0].size)\n",
    "df_all_3.to_csv(\"df_all_3.csv\")\n"
   ]
  },
  {
   "cell_type": "code",
   "execution_count": 58,
   "metadata": {},
   "outputs": [
    {
     "data": {
      "text/html": [
       "<div>\n",
       "<style scoped>\n",
       "    .dataframe tbody tr th:only-of-type {\n",
       "        vertical-align: middle;\n",
       "    }\n",
       "\n",
       "    .dataframe tbody tr th {\n",
       "        vertical-align: top;\n",
       "    }\n",
       "\n",
       "    .dataframe thead th {\n",
       "        text-align: right;\n",
       "    }\n",
       "</style>\n",
       "<table border=\"1\" class=\"dataframe\">\n",
       "  <thead>\n",
       "    <tr style=\"text-align: right;\">\n",
       "      <th></th>\n",
       "      <th>Country name</th>\n",
       "      <th>year</th>\n",
       "      <th>Life Ladder</th>\n",
       "      <th>Log GDP per capita</th>\n",
       "      <th>Social support</th>\n",
       "      <th>Healthy life expectancy at birth</th>\n",
       "      <th>Freedom to make life choices</th>\n",
       "      <th>Generosity</th>\n",
       "      <th>Perceptions of corruption</th>\n",
       "      <th>Positive affect</th>\n",
       "      <th>Negative affect</th>\n",
       "      <th>Confidence in national government</th>\n",
       "    </tr>\n",
       "  </thead>\n",
       "  <tbody>\n",
       "    <tr>\n",
       "      <th>0</th>\n",
       "      <td>Afghanistan</td>\n",
       "      <td>2008</td>\n",
       "      <td>3.723590</td>\n",
       "      <td>7.302574</td>\n",
       "      <td>0.450662</td>\n",
       "      <td>50.500000</td>\n",
       "      <td>0.718114</td>\n",
       "      <td>0.173169</td>\n",
       "      <td>0.881686</td>\n",
       "      <td>0.414297</td>\n",
       "      <td>0.258195</td>\n",
       "      <td>0.612072</td>\n",
       "    </tr>\n",
       "    <tr>\n",
       "      <th>1</th>\n",
       "      <td>Afghanistan</td>\n",
       "      <td>2009</td>\n",
       "      <td>4.401778</td>\n",
       "      <td>7.472446</td>\n",
       "      <td>0.552308</td>\n",
       "      <td>50.799999</td>\n",
       "      <td>0.678896</td>\n",
       "      <td>0.195469</td>\n",
       "      <td>0.850035</td>\n",
       "      <td>0.481421</td>\n",
       "      <td>0.237092</td>\n",
       "      <td>0.611545</td>\n",
       "    </tr>\n",
       "    <tr>\n",
       "      <th>2</th>\n",
       "      <td>Afghanistan</td>\n",
       "      <td>2010</td>\n",
       "      <td>4.758381</td>\n",
       "      <td>7.579183</td>\n",
       "      <td>0.539075</td>\n",
       "      <td>51.099998</td>\n",
       "      <td>0.600127</td>\n",
       "      <td>0.125859</td>\n",
       "      <td>0.706766</td>\n",
       "      <td>0.516907</td>\n",
       "      <td>0.275324</td>\n",
       "      <td>0.299357</td>\n",
       "    </tr>\n",
       "    <tr>\n",
       "      <th>3</th>\n",
       "      <td>Afghanistan</td>\n",
       "      <td>2011</td>\n",
       "      <td>3.831719</td>\n",
       "      <td>7.552006</td>\n",
       "      <td>0.521104</td>\n",
       "      <td>51.400002</td>\n",
       "      <td>0.495901</td>\n",
       "      <td>0.167723</td>\n",
       "      <td>0.731109</td>\n",
       "      <td>0.479835</td>\n",
       "      <td>0.267175</td>\n",
       "      <td>0.307386</td>\n",
       "    </tr>\n",
       "    <tr>\n",
       "      <th>4</th>\n",
       "      <td>Afghanistan</td>\n",
       "      <td>2012</td>\n",
       "      <td>3.782938</td>\n",
       "      <td>7.637953</td>\n",
       "      <td>0.520637</td>\n",
       "      <td>51.700001</td>\n",
       "      <td>0.530935</td>\n",
       "      <td>0.241247</td>\n",
       "      <td>0.775620</td>\n",
       "      <td>0.613513</td>\n",
       "      <td>0.267919</td>\n",
       "      <td>0.435440</td>\n",
       "    </tr>\n",
       "    <tr>\n",
       "      <th>...</th>\n",
       "      <td>...</td>\n",
       "      <td>...</td>\n",
       "      <td>...</td>\n",
       "      <td>...</td>\n",
       "      <td>...</td>\n",
       "      <td>...</td>\n",
       "      <td>...</td>\n",
       "      <td>...</td>\n",
       "      <td>...</td>\n",
       "      <td>...</td>\n",
       "      <td>...</td>\n",
       "      <td>...</td>\n",
       "    </tr>\n",
       "    <tr>\n",
       "      <th>2084</th>\n",
       "      <td>Zimbabwe</td>\n",
       "      <td>2017</td>\n",
       "      <td>3.638300</td>\n",
       "      <td>8.241609</td>\n",
       "      <td>0.754147</td>\n",
       "      <td>52.150002</td>\n",
       "      <td>0.752826</td>\n",
       "      <td>-0.113937</td>\n",
       "      <td>0.751208</td>\n",
       "      <td>0.733641</td>\n",
       "      <td>0.224051</td>\n",
       "      <td>0.682647</td>\n",
       "    </tr>\n",
       "    <tr>\n",
       "      <th>2085</th>\n",
       "      <td>Zimbabwe</td>\n",
       "      <td>2018</td>\n",
       "      <td>3.616480</td>\n",
       "      <td>8.274620</td>\n",
       "      <td>0.775388</td>\n",
       "      <td>52.625000</td>\n",
       "      <td>0.762675</td>\n",
       "      <td>-0.084747</td>\n",
       "      <td>0.844209</td>\n",
       "      <td>0.657524</td>\n",
       "      <td>0.211726</td>\n",
       "      <td>0.550508</td>\n",
       "    </tr>\n",
       "    <tr>\n",
       "      <th>2086</th>\n",
       "      <td>Zimbabwe</td>\n",
       "      <td>2019</td>\n",
       "      <td>2.693523</td>\n",
       "      <td>8.196998</td>\n",
       "      <td>0.759162</td>\n",
       "      <td>53.099998</td>\n",
       "      <td>0.631908</td>\n",
       "      <td>-0.081540</td>\n",
       "      <td>0.830652</td>\n",
       "      <td>0.658434</td>\n",
       "      <td>0.235354</td>\n",
       "      <td>0.456455</td>\n",
       "    </tr>\n",
       "    <tr>\n",
       "      <th>2087</th>\n",
       "      <td>Zimbabwe</td>\n",
       "      <td>2020</td>\n",
       "      <td>3.159802</td>\n",
       "      <td>8.117733</td>\n",
       "      <td>0.717243</td>\n",
       "      <td>53.575001</td>\n",
       "      <td>0.643303</td>\n",
       "      <td>-0.029376</td>\n",
       "      <td>0.788523</td>\n",
       "      <td>0.660658</td>\n",
       "      <td>0.345736</td>\n",
       "      <td>0.577302</td>\n",
       "    </tr>\n",
       "    <tr>\n",
       "      <th>2088</th>\n",
       "      <td>Zimbabwe</td>\n",
       "      <td>2021</td>\n",
       "      <td>3.154578</td>\n",
       "      <td>8.153248</td>\n",
       "      <td>0.685151</td>\n",
       "      <td>54.049999</td>\n",
       "      <td>0.667636</td>\n",
       "      <td>-0.109439</td>\n",
       "      <td>0.756945</td>\n",
       "      <td>0.609917</td>\n",
       "      <td>0.241682</td>\n",
       "      <td>0.665703</td>\n",
       "    </tr>\n",
       "  </tbody>\n",
       "</table>\n",
       "<p>2089 rows × 12 columns</p>\n",
       "</div>"
      ],
      "text/plain": [
       "     Country name  year  Life Ladder  Log GDP per capita  Social support  \\\n",
       "0     Afghanistan  2008     3.723590            7.302574        0.450662   \n",
       "1     Afghanistan  2009     4.401778            7.472446        0.552308   \n",
       "2     Afghanistan  2010     4.758381            7.579183        0.539075   \n",
       "3     Afghanistan  2011     3.831719            7.552006        0.521104   \n",
       "4     Afghanistan  2012     3.782938            7.637953        0.520637   \n",
       "...           ...   ...          ...                 ...             ...   \n",
       "2084     Zimbabwe  2017     3.638300            8.241609        0.754147   \n",
       "2085     Zimbabwe  2018     3.616480            8.274620        0.775388   \n",
       "2086     Zimbabwe  2019     2.693523            8.196998        0.759162   \n",
       "2087     Zimbabwe  2020     3.159802            8.117733        0.717243   \n",
       "2088     Zimbabwe  2021     3.154578            8.153248        0.685151   \n",
       "\n",
       "      Healthy life expectancy at birth  Freedom to make life choices  \\\n",
       "0                            50.500000                      0.718114   \n",
       "1                            50.799999                      0.678896   \n",
       "2                            51.099998                      0.600127   \n",
       "3                            51.400002                      0.495901   \n",
       "4                            51.700001                      0.530935   \n",
       "...                                ...                           ...   \n",
       "2084                         52.150002                      0.752826   \n",
       "2085                         52.625000                      0.762675   \n",
       "2086                         53.099998                      0.631908   \n",
       "2087                         53.575001                      0.643303   \n",
       "2088                         54.049999                      0.667636   \n",
       "\n",
       "      Generosity  Perceptions of corruption  Positive affect  Negative affect  \\\n",
       "0       0.173169                   0.881686         0.414297         0.258195   \n",
       "1       0.195469                   0.850035         0.481421         0.237092   \n",
       "2       0.125859                   0.706766         0.516907         0.275324   \n",
       "3       0.167723                   0.731109         0.479835         0.267175   \n",
       "4       0.241247                   0.775620         0.613513         0.267919   \n",
       "...          ...                        ...              ...              ...   \n",
       "2084   -0.113937                   0.751208         0.733641         0.224051   \n",
       "2085   -0.084747                   0.844209         0.657524         0.211726   \n",
       "2086   -0.081540                   0.830652         0.658434         0.235354   \n",
       "2087   -0.029376                   0.788523         0.660658         0.345736   \n",
       "2088   -0.109439                   0.756945         0.609917         0.241682   \n",
       "\n",
       "      Confidence in national government  \n",
       "0                              0.612072  \n",
       "1                              0.611545  \n",
       "2                              0.299357  \n",
       "3                              0.307386  \n",
       "4                              0.435440  \n",
       "...                                 ...  \n",
       "2084                           0.682647  \n",
       "2085                           0.550508  \n",
       "2086                           0.456455  \n",
       "2087                           0.577302  \n",
       "2088                           0.665703  \n",
       "\n",
       "[2089 rows x 12 columns]"
      ]
     },
     "execution_count": 58,
     "metadata": {},
     "output_type": "execute_result"
    }
   ],
   "source": [
    "df_all_3"
   ]
  },
  {
   "attachments": {},
   "cell_type": "markdown",
   "metadata": {},
   "source": [
    "### 4. 数据转换\n",
    "把不同的国家名转换成数字以便后续分析国家这个变量与其它变量的相关性"
   ]
  },
  {
   "cell_type": "code",
   "execution_count": 59,
   "metadata": {},
   "outputs": [
    {
     "name": "stdout",
     "output_type": "stream",
     "text": [
      "<class 'pandas.core.frame.DataFrame'>\n",
      "RangeIndex: 2089 entries, 0 to 2088\n",
      "Data columns (total 12 columns):\n",
      " #   Column                             Non-Null Count  Dtype  \n",
      "---  ------                             --------------  -----  \n",
      " 0   Country name                       2089 non-null   object \n",
      " 1   year                               2089 non-null   int64  \n",
      " 2   Life Ladder                        2089 non-null   float64\n",
      " 3   Log GDP per capita                 2089 non-null   float64\n",
      " 4   Social support                     2089 non-null   float64\n",
      " 5   Healthy life expectancy at birth   2089 non-null   float64\n",
      " 6   Freedom to make life choices       2089 non-null   float64\n",
      " 7   Generosity                         2089 non-null   float64\n",
      " 8   Perceptions of corruption          2089 non-null   float64\n",
      " 9   Positive affect                    2089 non-null   float64\n",
      " 10  Negative affect                    2089 non-null   float64\n",
      " 11  Confidence in national government  2089 non-null   float64\n",
      "dtypes: float64(10), int64(1), object(1)\n",
      "memory usage: 196.0+ KB\n"
     ]
    }
   ],
   "source": [
    "df_all_4=df_all_3.copy()\n",
    "i=1\n",
    "for countryname in countryname_list:\n",
    "    df_all_4.loc[df_all_4['Country name']==countryname,'Country name']=i \n",
    "    i+=1\n",
    "df_all_4.info() #得知Country name类型为object,需要转换\n",
    "df_all_4['Country name']=df_all_4['Country name'].astype('int')"
   ]
  },
  {
   "attachments": {},
   "cell_type": "markdown",
   "metadata": {},
   "source": [
    "## 数据分析与可视化"
   ]
  },
  {
   "attachments": {},
   "cell_type": "markdown",
   "metadata": {},
   "source": [
    "### 1.各变量间相关性分析"
   ]
  },
  {
   "cell_type": "code",
   "execution_count": 60,
   "metadata": {},
   "outputs": [],
   "source": [
    "factors1 = ['Life Ladder',\n",
    "            'Country name',\n",
    "            'year',\n",
    "            'Log GDP per capita',\n",
    "            'Social support',\n",
    "            'Healthy life expectancy at birth',\n",
    "            'Freedom to make life choices',\n",
    "            'Generosity',\n",
    "            'Perceptions of corruption',\n",
    "            'Positive affect',\n",
    "            'Negative affect']\n",
    "#sns.pairplot(df_all_4,vars=factors1,kind='reg',diag_kind='hist')\n",
    "#plt.savefig(\"./画图/pairplot1.png\")"
   ]
  },
  {
   "cell_type": "code",
   "execution_count": 61,
   "metadata": {},
   "outputs": [
    {
     "data": {
      "image/png": "[encoded data removed]",
      "text/plain": [
       "<Figure size 576x396 with 2 Axes>"
      ]
     },
     "metadata": {},
     "output_type": "display_data"
    }
   ],
   "source": [
    "sns.heatmap(df_all_4.corr(), annot=True, cmap=\"YlGnBu\");\n",
    "plt.savefig(\"./画图/heatmap.png\")"
   ]
  },
  {
   "attachments": {},
   "cell_type": "markdown",
   "metadata": {},
   "source": [
    "(相关系数：0.8以上高度相关； 0.5-0.8 中度相关； 0.3-0.5 低度相关； 小于0.3 极弱，可视为不相关。)"
   ]
  },
  {
   "attachments": {},
   "cell_type": "markdown",
   "metadata": {},
   "source": [
    "从上面两个图(尤其是相关系数表那幅)中我们可以看出：\\\n",
    "1.年份与除了自身外的因素的相关系数均小于0.3，可以认为年份对Life Ladder等指标几乎没影响，所以不需要分年份来进行分析\\\n",
    "2.Country name与除了自身外的因素均远远小于0.3，认为Country name对Life Ladder等指标没影响，所以不需要分国家来进行分析\\\n",
    "3.Life Ladder(幸福度)与Log GDP per capita,Social support,Healthy life expectancy at birth高度正相关，与Freedom to make life choices,Positive affect中度正相关，与Perceptions of corruption,Negative affect中度负相关，与year,Country name,Generosity,Confidence in national government几乎无关\\\n",
    "4.Life Ladder,Log GDP per capita,Social support,Healthy life expectancy at birth这几个指标两两间的相关性都很高"
   ]
  },
  {
   "attachments": {},
   "cell_type": "markdown",
   "metadata": {},
   "source": [
    "### 2.用线性回归模型拟合数据"
   ]
  },
  {
   "cell_type": "code",
   "execution_count": 62,
   "metadata": {},
   "outputs": [],
   "source": [
    "#回归模型\n",
    "from sklearn.linear_model import LinearRegression\n",
    "from sklearn.metrics import mean_squared_error\n",
    "from sklearn.metrics import r2_score\n",
    "from sklearn.model_selection import train_test_split\n",
    "\n"
   ]
  },
  {
   "cell_type": "code",
   "execution_count": 63,
   "metadata": {},
   "outputs": [
    {
     "name": "stdout",
     "output_type": "stream",
     "text": [
      "全体数据量： 2089\n",
      "训练集数据量： 1671\n",
      "测试集数据量： 418\n"
     ]
    }
   ],
   "source": [
    "x = df_all_4[[column for column in ['Log GDP per capita',\n",
    "                                    'Social support',\n",
    "                                    'Healthy life expectancy at birth',\n",
    "                                    'Freedom to make life choices',\n",
    "                                    'Perceptions of corruption',\n",
    "                                    'Positive affect',\n",
    "                                    'Negative affect',\n",
    "                                    ]]]\n",
    "#既然Life Ladder(幸福度)与year,Country name,Generosity,Confidence in national government几乎无关，那么预测模型里不用这几个参数\n",
    "y = df_all_4['Life Ladder']\n",
    "x_train, x_test, y_train, y_test = train_test_split(\n",
    "    x, y, test_size=0.2, shuffle=True)  # shuffle参数用于“洗牌”，打乱原始的数据行排列顺序\n",
    "print('全体数据量：', len(x))\n",
    "print('训练集数据量：', len(x_train))\n",
    "print('测试集数据量：', len(x_test))\n"
   ]
  },
  {
   "cell_type": "code",
   "execution_count": 64,
   "metadata": {},
   "outputs": [
    {
     "name": "stdout",
     "output_type": "stream",
     "text": [
      "0.29\n"
     ]
    }
   ],
   "source": [
    "model=LinearRegression()\n",
    "model.fit(x_train,y_train)\n",
    "y_test_predict=model.predict(x_test)\n",
    "mse=mean_squared_error(y_test,y_test_predict)\n",
    "print(\"%0.2f\"%mse)"
   ]
  },
  {
   "attachments": {},
   "cell_type": "markdown",
   "metadata": {},
   "source": [
    "拟合出的线性回归模型时mse较小，但mse与数据取值范围相关，不能单凭mse判断模型的准确程度"
   ]
  },
  {
   "cell_type": "code",
   "execution_count": 65,
   "metadata": {},
   "outputs": [
    {
     "name": "stdout",
     "output_type": "stream",
     "text": [
      "0.7700766885150759\n"
     ]
    }
   ],
   "source": [
    "r2=r2_score(y_test,y_test_predict)\n",
    "print(r2)"
   ]
  },
  {
   "attachments": {},
   "cell_type": "markdown",
   "metadata": {},
   "source": [
    "我们采用判定系数来衡量模型的准确度，此处判定系数接近0.8，表明模型的准确度高，可以用于预测幸福度"
   ]
  },
  {
   "cell_type": "code",
   "execution_count": 66,
   "metadata": {},
   "outputs": [
    {
     "data": {
      "text/plain": [
       "array([ 0.37544935,  1.87352459,  0.02849311,  0.53045315, -0.60620074,\n",
       "        2.24988852, -0.12408741])"
      ]
     },
     "execution_count": 66,
     "metadata": {},
     "output_type": "execute_result"
    }
   ],
   "source": [
    "model.coef_"
   ]
  },
  {
   "cell_type": "code",
   "execution_count": 67,
   "metadata": {},
   "outputs": [
    {
     "data": {
      "text/plain": [
       "-2.744711029852029"
      ]
     },
     "execution_count": 67,
     "metadata": {},
     "output_type": "execute_result"
    }
   ],
   "source": [
    "model.intercept_"
   ]
  },
  {
   "attachments": {},
   "cell_type": "markdown",
   "metadata": {},
   "source": [
    "最后得出的拟合公式为：\\\n",
    "$\n",
    "Life\\ Ladder=0.37544935*Log\\ GDP\\ per\\ capita+1.87352459*Social\\ support+\n",
    "0.02849311*Healthy\\ life\\ expectancy\\ at\\ birth+0.53045315*Freedom\\ to\\ make\\ life\\ choices-0.60620074*Perceptions\\ of\\ corruption+ 2.24988852*Positive\\ affect-0.12408741*Negative\\ affect-2.744711029852029\n",
    "$"
   ]
  },
  {
   "attachments": {},
   "cell_type": "markdown",
   "metadata": {},
   "source": [
    "###  3.画出2021年世界幸福度地图"
   ]
  },
  {
   "attachments": {},
   "cell_type": "markdown",
   "metadata": {},
   "source": [
    "#### 1.得到2005-2021的分年份dataframe"
   ]
  },
  {
   "attachments": {},
   "cell_type": "markdown",
   "metadata": {},
   "source": [
    "1. 方一"
   ]
  },
  {
   "cell_type": "code",
   "execution_count": 68,
   "metadata": {},
   "outputs": [],
   "source": [
    "# for year in range(2005,2022):\n",
    "#     df='df_'+str(year)\n",
    "#     df=df_all.loc[df_all['year']==year].reset_index()\n",
    "#     df.to_csv(f\"df_{year}.csv\")"
   ]
  },
  {
   "attachments": {},
   "cell_type": "markdown",
   "metadata": {},
   "source": [
    "2. 方二"
   ]
  },
  {
   "cell_type": "code",
   "execution_count": 69,
   "metadata": {},
   "outputs": [
    {
     "name": "stdout",
     "output_type": "stream",
     "text": [
      "['df_2005', 'df_2006', 'df_2007', 'df_2008', 'df_2009', 'df_2010', 'df_2011', 'df_2012', 'df_2013', 'df_2014', 'df_2015', 'df_2016', 'df_2017', 'df_2018', 'df_2019', 'df_2020', 'df_2021']\n"
     ]
    }
   ],
   "source": [
    "dfyear_list = []\n",
    "for i in range(2005, 2022):\n",
    "    dfyear_list.append('df_'+ str(i))\n",
    "print(dfyear_list)"
   ]
  },
  {
   "cell_type": "code",
   "execution_count": 70,
   "metadata": {},
   "outputs": [],
   "source": [
    "for i in range(2005, 2022):\n",
    "    #exec函数能执行函数中\" \"内的操作\n",
    "    exec(\"%s = df_all_3.loc[df_all_3['year']==%d]\" %(dfyear_list[i-2005],i))\n",
    "    exec(\"%s.index=range(0,%s.iloc[:,0].size)\"%(dfyear_list[i-2005],dfyear_list[i-2005]))\n",
    "    exec(\"%s.to_csv('data_groupby_year/%s')\"%(dfyear_list[i-2005], 'df_'+str(i)+'.csv'))"
   ]
  },
  {
   "cell_type": "code",
   "execution_count": 71,
   "metadata": {},
   "outputs": [
    {
     "data": {
      "text/html": [
       "<div>\n",
       "<style scoped>\n",
       "    .dataframe tbody tr th:only-of-type {\n",
       "        vertical-align: middle;\n",
       "    }\n",
       "\n",
       "    .dataframe tbody tr th {\n",
       "        vertical-align: top;\n",
       "    }\n",
       "\n",
       "    .dataframe thead th {\n",
       "        text-align: right;\n",
       "    }\n",
       "</style>\n",
       "<table border=\"1\" class=\"dataframe\">\n",
       "  <thead>\n",
       "    <tr style=\"text-align: right;\">\n",
       "      <th></th>\n",
       "      <th>Country name</th>\n",
       "      <th>year</th>\n",
       "      <th>Life Ladder</th>\n",
       "      <th>Log GDP per capita</th>\n",
       "      <th>Social support</th>\n",
       "      <th>Healthy life expectancy at birth</th>\n",
       "      <th>Freedom to make life choices</th>\n",
       "      <th>Generosity</th>\n",
       "      <th>Perceptions of corruption</th>\n",
       "      <th>Positive affect</th>\n",
       "      <th>Negative affect</th>\n",
       "      <th>Confidence in national government</th>\n",
       "    </tr>\n",
       "  </thead>\n",
       "  <tbody>\n",
       "    <tr>\n",
       "      <th>0</th>\n",
       "      <td>Afghanistan</td>\n",
       "      <td>2021</td>\n",
       "      <td>2.436034</td>\n",
       "      <td>7.583020</td>\n",
       "      <td>0.454175</td>\n",
       "      <td>54.549999</td>\n",
       "      <td>0.394306</td>\n",
       "      <td>0.075328</td>\n",
       "      <td>0.946299</td>\n",
       "      <td>0.178886</td>\n",
       "      <td>0.606713</td>\n",
       "      <td>0.255620</td>\n",
       "    </tr>\n",
       "    <tr>\n",
       "      <th>1</th>\n",
       "      <td>Albania</td>\n",
       "      <td>2021</td>\n",
       "      <td>5.255482</td>\n",
       "      <td>9.562287</td>\n",
       "      <td>0.701883</td>\n",
       "      <td>69.150002</td>\n",
       "      <td>0.827453</td>\n",
       "      <td>0.044742</td>\n",
       "      <td>0.896127</td>\n",
       "      <td>0.553830</td>\n",
       "      <td>0.253654</td>\n",
       "      <td>0.472924</td>\n",
       "    </tr>\n",
       "    <tr>\n",
       "      <th>2</th>\n",
       "      <td>Algeria</td>\n",
       "      <td>2021</td>\n",
       "      <td>5.217018</td>\n",
       "      <td>9.303516</td>\n",
       "      <td>0.840710</td>\n",
       "      <td>66.599998</td>\n",
       "      <td>0.558487</td>\n",
       "      <td>-0.111191</td>\n",
       "      <td>0.711900</td>\n",
       "      <td>0.498022</td>\n",
       "      <td>0.257779</td>\n",
       "      <td>0.494189</td>\n",
       "    </tr>\n",
       "    <tr>\n",
       "      <th>3</th>\n",
       "      <td>Argentina</td>\n",
       "      <td>2021</td>\n",
       "      <td>5.908279</td>\n",
       "      <td>9.955421</td>\n",
       "      <td>0.882305</td>\n",
       "      <td>67.199997</td>\n",
       "      <td>0.819479</td>\n",
       "      <td>-0.008816</td>\n",
       "      <td>0.816257</td>\n",
       "      <td>0.684860</td>\n",
       "      <td>0.345132</td>\n",
       "      <td>0.326574</td>\n",
       "    </tr>\n",
       "    <tr>\n",
       "      <th>4</th>\n",
       "      <td>Armenia</td>\n",
       "      <td>2021</td>\n",
       "      <td>5.300569</td>\n",
       "      <td>9.500485</td>\n",
       "      <td>0.762044</td>\n",
       "      <td>67.650002</td>\n",
       "      <td>0.795170</td>\n",
       "      <td>-0.150132</td>\n",
       "      <td>0.705334</td>\n",
       "      <td>0.565782</td>\n",
       "      <td>0.477540</td>\n",
       "      <td>0.297146</td>\n",
       "    </tr>\n",
       "    <tr>\n",
       "      <th>...</th>\n",
       "      <td>...</td>\n",
       "      <td>...</td>\n",
       "      <td>...</td>\n",
       "      <td>...</td>\n",
       "      <td>...</td>\n",
       "      <td>...</td>\n",
       "      <td>...</td>\n",
       "      <td>...</td>\n",
       "      <td>...</td>\n",
       "      <td>...</td>\n",
       "      <td>...</td>\n",
       "      <td>...</td>\n",
       "    </tr>\n",
       "    <tr>\n",
       "      <th>114</th>\n",
       "      <td>Uzbekistan</td>\n",
       "      <td>2021</td>\n",
       "      <td>6.185308</td>\n",
       "      <td>8.941695</td>\n",
       "      <td>0.895504</td>\n",
       "      <td>65.300003</td>\n",
       "      <td>0.927415</td>\n",
       "      <td>0.188775</td>\n",
       "      <td>0.661562</td>\n",
       "      <td>0.698459</td>\n",
       "      <td>0.232672</td>\n",
       "      <td>0.912673</td>\n",
       "    </tr>\n",
       "    <tr>\n",
       "      <th>115</th>\n",
       "      <td>Venezuela</td>\n",
       "      <td>2021</td>\n",
       "      <td>5.107553</td>\n",
       "      <td>8.588995</td>\n",
       "      <td>0.812418</td>\n",
       "      <td>64.050003</td>\n",
       "      <td>0.595620</td>\n",
       "      <td>-0.096557</td>\n",
       "      <td>0.823898</td>\n",
       "      <td>0.697587</td>\n",
       "      <td>0.389351</td>\n",
       "      <td>0.175912</td>\n",
       "    </tr>\n",
       "    <tr>\n",
       "      <th>116</th>\n",
       "      <td>Vietnam</td>\n",
       "      <td>2021</td>\n",
       "      <td>5.540250</td>\n",
       "      <td>9.028702</td>\n",
       "      <td>0.799494</td>\n",
       "      <td>65.500000</td>\n",
       "      <td>0.896800</td>\n",
       "      <td>0.126362</td>\n",
       "      <td>0.797788</td>\n",
       "      <td>0.650598</td>\n",
       "      <td>0.280437</td>\n",
       "      <td>0.848363</td>\n",
       "    </tr>\n",
       "    <tr>\n",
       "      <th>117</th>\n",
       "      <td>Zambia</td>\n",
       "      <td>2021</td>\n",
       "      <td>3.082155</td>\n",
       "      <td>8.087629</td>\n",
       "      <td>0.619071</td>\n",
       "      <td>55.250000</td>\n",
       "      <td>0.832574</td>\n",
       "      <td>0.142837</td>\n",
       "      <td>0.824031</td>\n",
       "      <td>0.655690</td>\n",
       "      <td>0.348551</td>\n",
       "      <td>0.697678</td>\n",
       "    </tr>\n",
       "    <tr>\n",
       "      <th>118</th>\n",
       "      <td>Zimbabwe</td>\n",
       "      <td>2021</td>\n",
       "      <td>3.154578</td>\n",
       "      <td>8.153248</td>\n",
       "      <td>0.685151</td>\n",
       "      <td>54.049999</td>\n",
       "      <td>0.667636</td>\n",
       "      <td>-0.109439</td>\n",
       "      <td>0.756945</td>\n",
       "      <td>0.609917</td>\n",
       "      <td>0.241682</td>\n",
       "      <td>0.665703</td>\n",
       "    </tr>\n",
       "  </tbody>\n",
       "</table>\n",
       "<p>119 rows × 12 columns</p>\n",
       "</div>"
      ],
      "text/plain": [
       "    Country name  year  Life Ladder  Log GDP per capita  Social support  \\\n",
       "0    Afghanistan  2021     2.436034            7.583020        0.454175   \n",
       "1        Albania  2021     5.255482            9.562287        0.701883   \n",
       "2        Algeria  2021     5.217018            9.303516        0.840710   \n",
       "3      Argentina  2021     5.908279            9.955421        0.882305   \n",
       "4        Armenia  2021     5.300569            9.500485        0.762044   \n",
       "..           ...   ...          ...                 ...             ...   \n",
       "114   Uzbekistan  2021     6.185308            8.941695        0.895504   \n",
       "115    Venezuela  2021     5.107553            8.588995        0.812418   \n",
       "116      Vietnam  2021     5.540250            9.028702        0.799494   \n",
       "117       Zambia  2021     3.082155            8.087629        0.619071   \n",
       "118     Zimbabwe  2021     3.154578            8.153248        0.685151   \n",
       "\n",
       "     Healthy life expectancy at birth  Freedom to make life choices  \\\n",
       "0                           54.549999                      0.394306   \n",
       "1                           69.150002                      0.827453   \n",
       "2                           66.599998                      0.558487   \n",
       "3                           67.199997                      0.819479   \n",
       "4                           67.650002                      0.795170   \n",
       "..                                ...                           ...   \n",
       "114                         65.300003                      0.927415   \n",
       "115                         64.050003                      0.595620   \n",
       "116                         65.500000                      0.896800   \n",
       "117                         55.250000                      0.832574   \n",
       "118                         54.049999                      0.667636   \n",
       "\n",
       "     Generosity  Perceptions of corruption  Positive affect  Negative affect  \\\n",
       "0      0.075328                   0.946299         0.178886         0.606713   \n",
       "1      0.044742                   0.896127         0.553830         0.253654   \n",
       "2     -0.111191                   0.711900         0.498022         0.257779   \n",
       "3     -0.008816                   0.816257         0.684860         0.345132   \n",
       "4     -0.150132                   0.705334         0.565782         0.477540   \n",
       "..          ...                        ...              ...              ...   \n",
       "114    0.188775                   0.661562         0.698459         0.232672   \n",
       "115   -0.096557                   0.823898         0.697587         0.389351   \n",
       "116    0.126362                   0.797788         0.650598         0.280437   \n",
       "117    0.142837                   0.824031         0.655690         0.348551   \n",
       "118   -0.109439                   0.756945         0.609917         0.241682   \n",
       "\n",
       "     Confidence in national government  \n",
       "0                             0.255620  \n",
       "1                             0.472924  \n",
       "2                             0.494189  \n",
       "3                             0.326574  \n",
       "4                             0.297146  \n",
       "..                                 ...  \n",
       "114                           0.912673  \n",
       "115                           0.175912  \n",
       "116                           0.848363  \n",
       "117                           0.697678  \n",
       "118                           0.665703  \n",
       "\n",
       "[119 rows x 12 columns]"
      ]
     },
     "execution_count": 71,
     "metadata": {},
     "output_type": "execute_result"
    }
   ],
   "source": [
    "df_2021 #别在意这个warning"
   ]
  },
  {
   "attachments": {},
   "cell_type": "markdown",
   "metadata": {},
   "source": [
    "3. 方三"
   ]
  },
  {
   "cell_type": "code",
   "execution_count": 72,
   "metadata": {},
   "outputs": [],
   "source": [
    "# #一个一个写\n",
    "# df_2005=df_all.loc[df_all['year']==2005].reset_index()\n",
    "# df_2005.to_csv(\"2005.csv\")\n",
    "\n",
    "# df_2006=df_all.loc[df_all['year']==2006].reset_index()\n",
    "# df_2006.to_csv(\"2006.csv\")\n",
    "\n",
    "# df_2007=df_all.loc[df_all['year']==2007].reset_index()\n",
    "# df_2007.to_csv(\"2007.csv\")"
   ]
  },
  {
   "attachments": {},
   "cell_type": "markdown",
   "metadata": {},
   "source": [
    "4. 方四 "
   ]
  },
  {
   "cell_type": "code",
   "execution_count": 73,
   "metadata": {},
   "outputs": [],
   "source": [
    "# #用globals()[]或者locals()[]\n",
    "# for year in range(2005,2022):\n",
    "#     # Filter the original DataFrame by the current year\n",
    "#     current_df = df_all.loc[df_all['year'] == year].reset_index()\n",
    "\n",
    "#     # Save the current DataFrame with the name \"df_<year>\"\n",
    "#     globals()[f\"global_{year}\"] = current_df\n",
    "    \n",
    "#     # Save the result in csv\n",
    "#     current_df.to_csv(f\"global_{year}.csv\")\n",
    "# global_2005"
   ]
  },
  {
   "cell_type": "code",
   "execution_count": 74,
   "metadata": {},
   "outputs": [],
   "source": [
    "# #用globals()[]或者locals()[]\n",
    "# for year in range(2005,2022):\n",
    "#     # Filter the original DataFrame by the current year\n",
    "#     current_df = df_all.loc[df_all['year'] == year].reset_index()\n",
    "\n",
    "#     # Save the current DataFrame with the name \"df_<year>\"\n",
    "#     locals()[f\"local_{year}\"] = current_df\n",
    "    \n",
    "#     # Save the result in csv\n",
    "#     current_df.to_csv(f\"local_{year}.csv\")\n",
    "# local_2005"
   ]
  },
  {
   "attachments": {},
   "cell_type": "markdown",
   "metadata": {},
   "source": [
    "#### 2.画出幸福度世界地图"
   ]
  },
  {
   "cell_type": "code",
   "execution_count": 75,
   "metadata": {},
   "outputs": [],
   "source": [
    "data = dict(type = 'choropleth', \n",
    "           locations = df_2021['Country name'],\n",
    "           locationmode = 'country names',\n",
    "           colorscale = 'RdYlGn',\n",
    "           z = df_2021['Life Ladder'], \n",
    "           text = df_2021['Country name'],\n",
    "           colorbar = {'title':'happiness'})\n",
    "\n",
    "layout = dict(title = 'Geographical Visualization of Happiness Score in 2021', \n",
    "              geo = dict(showframe = False))\n",
    "\n",
    "choromap3 = go.Figure(data = [data], layout=layout)\n",
    "#plot(choromap3, filename='画图/世界幸福度地图.html')"
   ]
  },
  {
   "attachments": {},
   "cell_type": "markdown",
   "metadata": {},
   "source": [
    "可以看出:\\\n",
    "1.北欧的幸福度最高；欧洲，北美洲，大洋洲的幸福度普遍很高\\\n",
    "2.西亚(除开阿拉伯半岛)、南亚地区，非洲地区(除开靠近好望角的南非)的幸福度普遍偏低\\\n",
    "3.中亚，东亚，北亚，东南亚，以及南美洲幸福度良好"
   ]
  },
  {
   "attachments": {},
   "cell_type": "markdown",
   "metadata": {},
   "source": [
    "### 4.幸福度排名最靠前与最靠后的国家"
   ]
  },
  {
   "attachments": {},
   "cell_type": "markdown",
   "metadata": {},
   "source": [
    "#### 4.1幸福度排名最靠前国家"
   ]
  },
  {
   "attachments": {},
   "cell_type": "markdown",
   "metadata": {},
   "source": [
    "2021年幸福度排名前十位"
   ]
  },
  {
   "cell_type": "code",
   "execution_count": 76,
   "metadata": {},
   "outputs": [
    {
     "data": {
      "text/html": [
       "<div>\n",
       "<style scoped>\n",
       "    .dataframe tbody tr th:only-of-type {\n",
       "        vertical-align: middle;\n",
       "    }\n",
       "\n",
       "    .dataframe tbody tr th {\n",
       "        vertical-align: top;\n",
       "    }\n",
       "\n",
       "    .dataframe thead th {\n",
       "        text-align: right;\n",
       "    }\n",
       "</style>\n",
       "<table border=\"1\" class=\"dataframe\">\n",
       "  <thead>\n",
       "    <tr style=\"text-align: right;\">\n",
       "      <th></th>\n",
       "      <th>Country name</th>\n",
       "      <th>Life Ladder</th>\n",
       "    </tr>\n",
       "  </thead>\n",
       "  <tbody>\n",
       "    <tr>\n",
       "      <th>1</th>\n",
       "      <td>Finland</td>\n",
       "      <td>7.794378</td>\n",
       "    </tr>\n",
       "    <tr>\n",
       "      <th>2</th>\n",
       "      <td>Denmark</td>\n",
       "      <td>7.698747</td>\n",
       "    </tr>\n",
       "    <tr>\n",
       "      <th>3</th>\n",
       "      <td>Israel</td>\n",
       "      <td>7.577528</td>\n",
       "    </tr>\n",
       "    <tr>\n",
       "      <th>4</th>\n",
       "      <td>Iceland</td>\n",
       "      <td>7.564625</td>\n",
       "    </tr>\n",
       "    <tr>\n",
       "      <th>5</th>\n",
       "      <td>Sweden</td>\n",
       "      <td>7.439280</td>\n",
       "    </tr>\n",
       "    <tr>\n",
       "      <th>6</th>\n",
       "      <td>Norway</td>\n",
       "      <td>7.361574</td>\n",
       "    </tr>\n",
       "    <tr>\n",
       "      <th>7</th>\n",
       "      <td>Switzerland</td>\n",
       "      <td>7.327672</td>\n",
       "    </tr>\n",
       "    <tr>\n",
       "      <th>8</th>\n",
       "      <td>Netherlands</td>\n",
       "      <td>7.314151</td>\n",
       "    </tr>\n",
       "    <tr>\n",
       "      <th>9</th>\n",
       "      <td>New Zealand</td>\n",
       "      <td>7.136701</td>\n",
       "    </tr>\n",
       "    <tr>\n",
       "      <th>10</th>\n",
       "      <td>Australia</td>\n",
       "      <td>7.111599</td>\n",
       "    </tr>\n",
       "  </tbody>\n",
       "</table>\n",
       "</div>"
      ],
      "text/plain": [
       "   Country name  Life Ladder\n",
       "1       Finland     7.794378\n",
       "2       Denmark     7.698747\n",
       "3        Israel     7.577528\n",
       "4       Iceland     7.564625\n",
       "5        Sweden     7.439280\n",
       "6        Norway     7.361574\n",
       "7   Switzerland     7.327672\n",
       "8   Netherlands     7.314151\n",
       "9   New Zealand     7.136701\n",
       "10    Australia     7.111599"
      ]
     },
     "execution_count": 76,
     "metadata": {},
     "output_type": "execute_result"
    }
   ],
   "source": [
    "df_2021_sorted=df_2021.sort_values(by='Life Ladder',ascending=False)\n",
    "top10=df_2021_sorted.head(10)[['Country name','Life Ladder']] \n",
    "top10.index=range(1,top10.iloc[:,0].size+1)\n",
    "top10\n",
    " "
   ]
  },
  {
   "cell_type": "code",
   "execution_count": 77,
   "metadata": {},
   "outputs": [
    {
     "data": {
      "application/vnd.plotly.v1+json": {
       "config": {
        "plotlyServerURL": "https://plot.ly"
       },
       "data": [
        {
         "alignmentgroup": "True",
         "hovertemplate": "Country name=%{x}<br>Life Ladder=%{y}<extra></extra>",
         "legendgroup": "Finland",
         "marker": {
          "color": "#636efa",
          "pattern": {
           "shape": ""
          }
         },
         "name": "Finland",
         "offsetgroup": "Finland",
         "orientation": "v",
         "showlegend": true,
         "textposition": "auto",
         "type": "bar",
         "x": [
          "Finland"
         ],
         "xaxis": "x",
         "y": [
          7.794377804
         ],
         "yaxis": "y"
        },
        {
         "alignmentgroup": "True",
         "hovertemplate": "Country name=%{x}<br>Life Ladder=%{y}<extra></extra>",
         "legendgroup": "Denmark",
         "marker": {
          "color": "#EF553B",
          "pattern": {
           "shape": ""
          }
         },
         "name": "Denmark",
         "offsetgroup": "Denmark",
         "orientation": "v",
         "showlegend": true,
         "textposition": "auto",
         "type": "bar",
         "x": [
          "Denmark"
         ],
         "xaxis": "x",
         "y": [
          7.698747158
         ],
         "yaxis": "y"
        },
        {
         "alignmentgroup": "True",
         "hovertemplate": "Country name=%{x}<br>Life Ladder=%{y}<extra></extra>",
         "legendgroup": "Israel",
         "marker": {
          "color": "#00cc96",
          "pattern": {
           "shape": ""
          }
         },
         "name": "Israel",
         "offsetgroup": "Israel",
         "orientation": "v",
         "showlegend": true,
         "textposition": "auto",
         "type": "bar",
         "x": [
          "Israel"
         ],
         "xaxis": "x",
         "y": [
          7.577528
         ],
         "yaxis": "y"
        },
        {
         "alignmentgroup": "True",
         "hovertemplate": "Country name=%{x}<br>Life Ladder=%{y}<extra></extra>",
         "legendgroup": "Iceland",
         "marker": {
          "color": "#ab63fa",
          "pattern": {
           "shape": ""
          }
         },
         "name": "Iceland",
         "offsetgroup": "Iceland",
         "orientation": "v",
         "showlegend": true,
         "textposition": "auto",
         "type": "bar",
         "x": [
          "Iceland"
         ],
         "xaxis": "x",
         "y": [
          7.564624786
         ],
         "yaxis": "y"
        },
        {
         "alignmentgroup": "True",
         "hovertemplate": "Country name=%{x}<br>Life Ladder=%{y}<extra></extra>",
         "legendgroup": "Sweden",
         "marker": {
          "color": "#FFA15A",
          "pattern": {
           "shape": ""
          }
         },
         "name": "Sweden",
         "offsetgroup": "Sweden",
         "orientation": "v",
         "showlegend": true,
         "textposition": "auto",
         "type": "bar",
         "x": [
          "Sweden"
         ],
         "xaxis": "x",
         "y": [
          7.439280033
         ],
         "yaxis": "y"
        },
        {
         "alignmentgroup": "True",
         "hovertemplate": "Country name=%{x}<br>Life Ladder=%{y}<extra></extra>",
         "legendgroup": "Norway",
         "marker": {
          "color": "#19d3f3",
          "pattern": {
           "shape": ""
          }
         },
         "name": "Norway",
         "offsetgroup": "Norway",
         "orientation": "v",
         "showlegend": true,
         "textposition": "auto",
         "type": "bar",
         "x": [
          "Norway"
         ],
         "xaxis": "x",
         "y": [
          7.361573696
         ],
         "yaxis": "y"
        },
        {
         "alignmentgroup": "True",
         "hovertemplate": "Country name=%{x}<br>Life Ladder=%{y}<extra></extra>",
         "legendgroup": "Switzerland",
         "marker": {
          "color": "#FF6692",
          "pattern": {
           "shape": ""
          }
         },
         "name": "Switzerland",
         "offsetgroup": "Switzerland",
         "orientation": "v",
         "showlegend": true,
         "textposition": "auto",
         "type": "bar",
         "x": [
          "Switzerland"
         ],
         "xaxis": "x",
         "y": [
          7.327672482
         ],
         "yaxis": "y"
        },
        {
         "alignmentgroup": "True",
         "hovertemplate": "Country name=%{x}<br>Life Ladder=%{y}<extra></extra>",
         "legendgroup": "Netherlands",
         "marker": {
          "color": "#B6E880",
          "pattern": {
           "shape": ""
          }
         },
         "name": "Netherlands",
         "offsetgroup": "Netherlands",
         "orientation": "v",
         "showlegend": true,
         "textposition": "auto",
         "type": "bar",
         "x": [
          "Netherlands"
         ],
         "xaxis": "x",
         "y": [
          7.314151287
         ],
         "yaxis": "y"
        },
        {
         "alignmentgroup": "True",
         "hovertemplate": "Country name=%{x}<br>Life Ladder=%{y}<extra></extra>",
         "legendgroup": "New Zealand",
         "marker": {
          "color": "#FF97FF",
          "pattern": {
           "shape": ""
          }
         },
         "name": "New Zealand",
         "offsetgroup": "New Zealand",
         "orientation": "v",
         "showlegend": true,
         "textposition": "auto",
         "type": "bar",
         "x": [
          "New Zealand"
         ],
         "xaxis": "x",
         "y": [
          7.13670063
         ],
         "yaxis": "y"
        },
        {
         "alignmentgroup": "True",
         "hovertemplate": "Country name=%{x}<br>Life Ladder=%{y}<extra></extra>",
         "legendgroup": "Australia",
         "marker": {
          "color": "#FECB52",
          "pattern": {
           "shape": ""
          }
         },
         "name": "Australia",
         "offsetgroup": "Australia",
         "orientation": "v",
         "showlegend": true,
         "textposition": "auto",
         "type": "bar",
         "x": [
          "Australia"
         ],
         "xaxis": "x",
         "y": [
          7.111598969
         ],
         "yaxis": "y"
        }
       ],
       "layout": {
        "barmode": "relative",
        "legend": {
         "title": {
          "text": "Country name"
         },
         "tracegroupgap": 0
        },
        "template": {
         "data": {
          "bar": [
           {
            "error_x": {
             "color": "#2a3f5f"
            },
            "error_y": {
             "color": "#2a3f5f"
            },
            "marker": {
             "line": {
              "color": "#E5ECF6",
              "width": 0.5
             },
             "pattern": {
              "fillmode": "overlay",
              "size": 10,
              "solidity": 0.2
             }
            },
            "type": "bar"
           }
          ],
          "barpolar": [
           {
            "marker": {
             "line": {
              "color": "#E5ECF6",
              "width": 0.5
             },
             "pattern": {
              "fillmode": "overlay",
              "size": 10,
              "solidity": 0.2
             }
            },
            "type": "barpolar"
           }
          ],
          "carpet": [
           {
            "aaxis": {
             "endlinecolor": "#2a3f5f",
             "gridcolor": "white",
             "linecolor": "white",
             "minorgridcolor": "white",
             "startlinecolor": "#2a3f5f"
            },
            "baxis": {
             "endlinecolor": "#2a3f5f",
             "gridcolor": "white",
             "linecolor": "white",
             "minorgridcolor": "white",
             "startlinecolor": "#2a3f5f"
            },
            "type": "carpet"
           }
          ],
          "choropleth": [
           {
            "colorbar": {
             "outlinewidth": 0,
             "ticks": ""
            },
            "type": "choropleth"
           }
          ],
          "contour": [
           {
            "colorbar": {
             "outlinewidth": 0,
             "ticks": ""
            },
            "colorscale": [
             [
              0,
              "#0d0887"
             ],
             [
              0.1111111111111111,
              "#46039f"
             ],
             [
              0.2222222222222222,
              "#7201a8"
             ],
             [
              0.3333333333333333,
              "#9c179e"
             ],
             [
              0.4444444444444444,
              "#bd3786"
             ],
             [
              0.5555555555555556,
              "#d8576b"
             ],
             [
              0.6666666666666666,
              "#ed7953"
             ],
             [
              0.7777777777777778,
              "#fb9f3a"
             ],
             [
              0.8888888888888888,
              "#fdca26"
             ],
             [
              1,
              "#f0f921"
             ]
            ],
            "type": "contour"
           }
          ],
          "contourcarpet": [
           {
            "colorbar": {
             "outlinewidth": 0,
             "ticks": ""
            },
            "type": "contourcarpet"
           }
          ],
          "heatmap": [
           {
            "colorbar": {
             "outlinewidth": 0,
             "ticks": ""
            },
            "colorscale": [
             [
              0,
              "#0d0887"
             ],
             [
              0.1111111111111111,
              "#46039f"
             ],
             [
              0.2222222222222222,
              "#7201a8"
             ],
             [
              0.3333333333333333,
              "#9c179e"
             ],
             [
              0.4444444444444444,
              "#bd3786"
             ],
             [
              0.5555555555555556,
              "#d8576b"
             ],
             [
              0.6666666666666666,
              "#ed7953"
             ],
             [
              0.7777777777777778,
              "#fb9f3a"
             ],
             [
              0.8888888888888888,
              "#fdca26"
             ],
             [
              1,
              "#f0f921"
             ]
            ],
            "type": "heatmap"
           }
          ],
          "heatmapgl": [
           {
            "colorbar": {
             "outlinewidth": 0,
             "ticks": ""
            },
            "colorscale": [
             [
              0,
              "#0d0887"
             ],
             [
              0.1111111111111111,
              "#46039f"
             ],
             [
              0.2222222222222222,
              "#7201a8"
             ],
             [
              0.3333333333333333,
              "#9c179e"
             ],
             [
              0.4444444444444444,
              "#bd3786"
             ],
             [
              0.5555555555555556,
              "#d8576b"
             ],
             [
              0.6666666666666666,
              "#ed7953"
             ],
             [
              0.7777777777777778,
              "#fb9f3a"
             ],
             [
              0.8888888888888888,
              "#fdca26"
             ],
             [
              1,
              "#f0f921"
             ]
            ],
            "type": "heatmapgl"
           }
          ],
          "histogram": [
           {
            "marker": {
             "pattern": {
              "fillmode": "overlay",
              "size": 10,
              "solidity": 0.2
             }
            },
            "type": "histogram"
           }
          ],
          "histogram2d": [
           {
            "colorbar": {
             "outlinewidth": 0,
             "ticks": ""
            },
            "colorscale": [
             [
              0,
              "#0d0887"
             ],
             [
              0.1111111111111111,
              "#46039f"
             ],
             [
              0.2222222222222222,
              "#7201a8"
             ],
             [
              0.3333333333333333,
              "#9c179e"
             ],
             [
              0.4444444444444444,
              "#bd3786"
             ],
             [
              0.5555555555555556,
              "#d8576b"
             ],
             [
              0.6666666666666666,
              "#ed7953"
             ],
             [
              0.7777777777777778,
              "#fb9f3a"
             ],
             [
              0.8888888888888888,
              "#fdca26"
             ],
             [
              1,
              "#f0f921"
             ]
            ],
            "type": "histogram2d"
           }
          ],
          "histogram2dcontour": [
           {
            "colorbar": {
             "outlinewidth": 0,
             "ticks": ""
            },
            "colorscale": [
             [
              0,
              "#0d0887"
             ],
             [
              0.1111111111111111,
              "#46039f"
             ],
             [
              0.2222222222222222,
              "#7201a8"
             ],
             [
              0.3333333333333333,
              "#9c179e"
             ],
             [
              0.4444444444444444,
              "#bd3786"
             ],
             [
              0.5555555555555556,
              "#d8576b"
             ],
             [
              0.6666666666666666,
              "#ed7953"
             ],
             [
              0.7777777777777778,
              "#fb9f3a"
             ],
             [
              0.8888888888888888,
              "#fdca26"
             ],
             [
              1,
              "#f0f921"
             ]
            ],
            "type": "histogram2dcontour"
           }
          ],
          "mesh3d": [
           {
            "colorbar": {
             "outlinewidth": 0,
             "ticks": ""
            },
            "type": "mesh3d"
           }
          ],
          "parcoords": [
           {
            "line": {
             "colorbar": {
              "outlinewidth": 0,
              "ticks": ""
             }
            },
            "type": "parcoords"
           }
          ],
          "pie": [
           {
            "automargin": true,
            "type": "pie"
           }
          ],
          "scatter": [
           {
            "fillpattern": {
             "fillmode": "overlay",
             "size": 10,
             "solidity": 0.2
            },
            "type": "scatter"
           }
          ],
          "scatter3d": [
           {
            "line": {
             "colorbar": {
              "outlinewidth": 0,
              "ticks": ""
             }
            },
            "marker": {
             "colorbar": {
              "outlinewidth": 0,
              "ticks": ""
             }
            },
            "type": "scatter3d"
           }
          ],
          "scattercarpet": [
           {
            "marker": {
             "colorbar": {
              "outlinewidth": 0,
              "ticks": ""
             }
            },
            "type": "scattercarpet"
           }
          ],
          "scattergeo": [
           {
            "marker": {
             "colorbar": {
              "outlinewidth": 0,
              "ticks": ""
             }
            },
            "type": "scattergeo"
           }
          ],
          "scattergl": [
           {
            "marker": {
             "colorbar": {
              "outlinewidth": 0,
              "ticks": ""
             }
            },
            "type": "scattergl"
           }
          ],
          "scattermapbox": [
           {
            "marker": {
             "colorbar": {
              "outlinewidth": 0,
              "ticks": ""
             }
            },
            "type": "scattermapbox"
           }
          ],
          "scatterpolar": [
           {
            "marker": {
             "colorbar": {
              "outlinewidth": 0,
              "ticks": ""
             }
            },
            "type": "scatterpolar"
           }
          ],
          "scatterpolargl": [
           {
            "marker": {
             "colorbar": {
              "outlinewidth": 0,
              "ticks": ""
             }
            },
            "type": "scatterpolargl"
           }
          ],
          "scatterternary": [
           {
            "marker": {
             "colorbar": {
              "outlinewidth": 0,
              "ticks": ""
             }
            },
            "type": "scatterternary"
           }
          ],
          "surface": [
           {
            "colorbar": {
             "outlinewidth": 0,
             "ticks": ""
            },
            "colorscale": [
             [
              0,
              "#0d0887"
             ],
             [
              0.1111111111111111,
              "#46039f"
             ],
             [
              0.2222222222222222,
              "#7201a8"
             ],
             [
              0.3333333333333333,
              "#9c179e"
             ],
             [
              0.4444444444444444,
              "#bd3786"
             ],
             [
              0.5555555555555556,
              "#d8576b"
             ],
             [
              0.6666666666666666,
              "#ed7953"
             ],
             [
              0.7777777777777778,
              "#fb9f3a"
             ],
             [
              0.8888888888888888,
              "#fdca26"
             ],
             [
              1,
              "#f0f921"
             ]
            ],
            "type": "surface"
           }
          ],
          "table": [
           {
            "cells": {
             "fill": {
              "color": "#EBF0F8"
             },
             "line": {
              "color": "white"
             }
            },
            "header": {
             "fill": {
              "color": "#C8D4E3"
             },
             "line": {
              "color": "white"
             }
            },
            "type": "table"
           }
          ]
         },
         "layout": {
          "annotationdefaults": {
           "arrowcolor": "#2a3f5f",
           "arrowhead": 0,
           "arrowwidth": 1
          },
          "autotypenumbers": "strict",
          "coloraxis": {
           "colorbar": {
            "outlinewidth": 0,
            "ticks": ""
           }
          },
          "colorscale": {
           "diverging": [
            [
             0,
             "#8e0152"
            ],
            [
             0.1,
             "#c51b7d"
            ],
            [
             0.2,
             "#de77ae"
            ],
            [
             0.3,
             "#f1b6da"
            ],
            [
             0.4,
             "#fde0ef"
            ],
            [
             0.5,
             "#f7f7f7"
            ],
            [
             0.6,
             "#e6f5d0"
            ],
            [
             0.7,
             "#b8e186"
            ],
            [
             0.8,
             "#7fbc41"
            ],
            [
             0.9,
             "#4d9221"
            ],
            [
             1,
             "#276419"
            ]
           ],
           "sequential": [
            [
             0,
             "#0d0887"
            ],
            [
             0.1111111111111111,
             "#46039f"
            ],
            [
             0.2222222222222222,
             "#7201a8"
            ],
            [
             0.3333333333333333,
             "#9c179e"
            ],
            [
             0.4444444444444444,
             "#bd3786"
            ],
            [
             0.5555555555555556,
             "#d8576b"
            ],
            [
             0.6666666666666666,
             "#ed7953"
            ],
            [
             0.7777777777777778,
             "#fb9f3a"
            ],
            [
             0.8888888888888888,
             "#fdca26"
            ],
            [
             1,
             "#f0f921"
            ]
           ],
           "sequentialminus": [
            [
             0,
             "#0d0887"
            ],
            [
             0.1111111111111111,
             "#46039f"
            ],
            [
             0.2222222222222222,
             "#7201a8"
            ],
            [
             0.3333333333333333,
             "#9c179e"
            ],
            [
             0.4444444444444444,
             "#bd3786"
            ],
            [
             0.5555555555555556,
             "#d8576b"
            ],
            [
             0.6666666666666666,
             "#ed7953"
            ],
            [
             0.7777777777777778,
             "#fb9f3a"
            ],
            [
             0.8888888888888888,
             "#fdca26"
            ],
            [
             1,
             "#f0f921"
            ]
           ]
          },
          "colorway": [
           "#636efa",
           "#EF553B",
           "#00cc96",
           "#ab63fa",
           "#FFA15A",
           "#19d3f3",
           "#FF6692",
           "#B6E880",
           "#FF97FF",
           "#FECB52"
          ],
          "font": {
           "color": "#2a3f5f"
          },
          "geo": {
           "bgcolor": "white",
           "lakecolor": "white",
           "landcolor": "#E5ECF6",
           "showlakes": true,
           "showland": true,
           "subunitcolor": "white"
          },
          "hoverlabel": {
           "align": "left"
          },
          "hovermode": "closest",
          "mapbox": {
           "style": "light"
          },
          "paper_bgcolor": "white",
          "plot_bgcolor": "#E5ECF6",
          "polar": {
           "angularaxis": {
            "gridcolor": "white",
            "linecolor": "white",
            "ticks": ""
           },
           "bgcolor": "#E5ECF6",
           "radialaxis": {
            "gridcolor": "white",
            "linecolor": "white",
            "ticks": ""
           }
          },
          "scene": {
           "xaxis": {
            "backgroundcolor": "#E5ECF6",
            "gridcolor": "white",
            "gridwidth": 2,
            "linecolor": "white",
            "showbackground": true,
            "ticks": "",
            "zerolinecolor": "white"
           },
           "yaxis": {
            "backgroundcolor": "#E5ECF6",
            "gridcolor": "white",
            "gridwidth": 2,
            "linecolor": "white",
            "showbackground": true,
            "ticks": "",
            "zerolinecolor": "white"
           },
           "zaxis": {
            "backgroundcolor": "#E5ECF6",
            "gridcolor": "white",
            "gridwidth": 2,
            "linecolor": "white",
            "showbackground": true,
            "ticks": "",
            "zerolinecolor": "white"
           }
          },
          "shapedefaults": {
           "line": {
            "color": "#2a3f5f"
           }
          },
          "ternary": {
           "aaxis": {
            "gridcolor": "white",
            "linecolor": "white",
            "ticks": ""
           },
           "baxis": {
            "gridcolor": "white",
            "linecolor": "white",
            "ticks": ""
           },
           "bgcolor": "#E5ECF6",
           "caxis": {
            "gridcolor": "white",
            "linecolor": "white",
            "ticks": ""
           }
          },
          "title": {
           "x": 0.05
          },
          "xaxis": {
           "automargin": true,
           "gridcolor": "white",
           "linecolor": "white",
           "ticks": "",
           "title": {
            "standoff": 15
           },
           "zerolinecolor": "white",
           "zerolinewidth": 2
          },
          "yaxis": {
           "automargin": true,
           "gridcolor": "white",
           "linecolor": "white",
           "ticks": "",
           "title": {
            "standoff": 15
           },
           "zerolinecolor": "white",
           "zerolinewidth": 2
          }
         }
        },
        "title": {
         "text": "World's happiest countries in 2021"
        },
        "xaxis": {
         "anchor": "y",
         "categoryarray": [
          "Finland",
          "Denmark",
          "Israel",
          "Iceland",
          "Sweden",
          "Norway",
          "Switzerland",
          "Netherlands",
          "New Zealand",
          "Australia"
         ],
         "categoryorder": "array",
         "domain": [
          0,
          1
         ],
         "title": {
          "text": "Country name"
         }
        },
        "yaxis": {
         "anchor": "x",
         "domain": [
          0,
          1
         ],
         "title": {
          "text": "Life Ladder"
         }
        }
       }
      },
      "text/html": [
       "<div>                            <div id=\"f38b4030-fd5c-4bd3-b6e0-8a0798b5068f\" class=\"plotly-graph-div\" style=\"height:525px; width:100%;\"></div>            <script type=\"text/javascript\">                require([\"plotly\"], function(Plotly) {                    window.PLOTLYENV=window.PLOTLYENV || {};                                    if (document.getElementById(\"f38b4030-fd5c-4bd3-b6e0-8a0798b5068f\")) {                    Plotly.newPlot(                        \"f38b4030-fd5c-4bd3-b6e0-8a0798b5068f\",                        [{\"alignmentgroup\":\"True\",\"hovertemplate\":\"Country name=%{x}<br>Life Ladder=%{y}<extra></extra>\",\"legendgroup\":\"Finland\",\"marker\":{\"color\":\"#636efa\",\"pattern\":{\"shape\":\"\"}},\"name\":\"Finland\",\"offsetgroup\":\"Finland\",\"orientation\":\"v\",\"showlegend\":true,\"textposition\":\"auto\",\"x\":[\"Finland\"],\"xaxis\":\"x\",\"y\":[7.794377804],\"yaxis\":\"y\",\"type\":\"bar\"},{\"alignmentgroup\":\"True\",\"hovertemplate\":\"Country name=%{x}<br>Life Ladder=%{y}<extra></extra>\",\"legendgroup\":\"Denmark\",\"marker\":{\"color\":\"#EF553B\",\"pattern\":{\"shape\":\"\"}},\"name\":\"Denmark\",\"offsetgroup\":\"Denmark\",\"orientation\":\"v\",\"showlegend\":true,\"textposition\":\"auto\",\"x\":[\"Denmark\"],\"xaxis\":\"x\",\"y\":[7.698747158],\"yaxis\":\"y\",\"type\":\"bar\"},{\"alignmentgroup\":\"True\",\"hovertemplate\":\"Country name=%{x}<br>Life Ladder=%{y}<extra></extra>\",\"legendgroup\":\"Israel\",\"marker\":{\"color\":\"#00cc96\",\"pattern\":{\"shape\":\"\"}},\"name\":\"Israel\",\"offsetgroup\":\"Israel\",\"orientation\":\"v\",\"showlegend\":true,\"textposition\":\"auto\",\"x\":[\"Israel\"],\"xaxis\":\"x\",\"y\":[7.577528],\"yaxis\":\"y\",\"type\":\"bar\"},{\"alignmentgroup\":\"True\",\"hovertemplate\":\"Country name=%{x}<br>Life Ladder=%{y}<extra></extra>\",\"legendgroup\":\"Iceland\",\"marker\":{\"color\":\"#ab63fa\",\"pattern\":{\"shape\":\"\"}},\"name\":\"Iceland\",\"offsetgroup\":\"Iceland\",\"orientation\":\"v\",\"showlegend\":true,\"textposition\":\"auto\",\"x\":[\"Iceland\"],\"xaxis\":\"x\",\"y\":[7.564624786],\"yaxis\":\"y\",\"type\":\"bar\"},{\"alignmentgroup\":\"True\",\"hovertemplate\":\"Country name=%{x}<br>Life Ladder=%{y}<extra></extra>\",\"legendgroup\":\"Sweden\",\"marker\":{\"color\":\"#FFA15A\",\"pattern\":{\"shape\":\"\"}},\"name\":\"Sweden\",\"offsetgroup\":\"Sweden\",\"orientation\":\"v\",\"showlegend\":true,\"textposition\":\"auto\",\"x\":[\"Sweden\"],\"xaxis\":\"x\",\"y\":[7.439280033],\"yaxis\":\"y\",\"type\":\"bar\"},{\"alignmentgroup\":\"True\",\"hovertemplate\":\"Country name=%{x}<br>Life Ladder=%{y}<extra></extra>\",\"legendgroup\":\"Norway\",\"marker\":{\"color\":\"#19d3f3\",\"pattern\":{\"shape\":\"\"}},\"name\":\"Norway\",\"offsetgroup\":\"Norway\",\"orientation\":\"v\",\"showlegend\":true,\"textposition\":\"auto\",\"x\":[\"Norway\"],\"xaxis\":\"x\",\"y\":[7.361573696],\"yaxis\":\"y\",\"type\":\"bar\"},{\"alignmentgroup\":\"True\",\"hovertemplate\":\"Country name=%{x}<br>Life Ladder=%{y}<extra></extra>\",\"legendgroup\":\"Switzerland\",\"marker\":{\"color\":\"#FF6692\",\"pattern\":{\"shape\":\"\"}},\"name\":\"Switzerland\",\"offsetgroup\":\"Switzerland\",\"orientation\":\"v\",\"showlegend\":true,\"textposition\":\"auto\",\"x\":[\"Switzerland\"],\"xaxis\":\"x\",\"y\":[7.327672482],\"yaxis\":\"y\",\"type\":\"bar\"},{\"alignmentgroup\":\"True\",\"hovertemplate\":\"Country name=%{x}<br>Life Ladder=%{y}<extra></extra>\",\"legendgroup\":\"Netherlands\",\"marker\":{\"color\":\"#B6E880\",\"pattern\":{\"shape\":\"\"}},\"name\":\"Netherlands\",\"offsetgroup\":\"Netherlands\",\"orientation\":\"v\",\"showlegend\":true,\"textposition\":\"auto\",\"x\":[\"Netherlands\"],\"xaxis\":\"x\",\"y\":[7.314151287],\"yaxis\":\"y\",\"type\":\"bar\"},{\"alignmentgroup\":\"True\",\"hovertemplate\":\"Country name=%{x}<br>Life Ladder=%{y}<extra></extra>\",\"legendgroup\":\"New Zealand\",\"marker\":{\"color\":\"#FF97FF\",\"pattern\":{\"shape\":\"\"}},\"name\":\"New Zealand\",\"offsetgroup\":\"New Zealand\",\"orientation\":\"v\",\"showlegend\":true,\"textposition\":\"auto\",\"x\":[\"New Zealand\"],\"xaxis\":\"x\",\"y\":[7.13670063],\"yaxis\":\"y\",\"type\":\"bar\"},{\"alignmentgroup\":\"True\",\"hovertemplate\":\"Country name=%{x}<br>Life Ladder=%{y}<extra></extra>\",\"legendgroup\":\"Australia\",\"marker\":{\"color\":\"#FECB52\",\"pattern\":{\"shape\":\"\"}},\"name\":\"Australia\",\"offsetgroup\":\"Australia\",\"orientation\":\"v\",\"showlegend\":true,\"textposition\":\"auto\",\"x\":[\"Australia\"],\"xaxis\":\"x\",\"y\":[7.111598969],\"yaxis\":\"y\",\"type\":\"bar\"}],                        {\"template\":{\"data\":{\"histogram2dcontour\":[{\"type\":\"histogram2dcontour\",\"colorbar\":{\"outlinewidth\":0,\"ticks\":\"\"},\"colorscale\":[[0.0,\"#0d0887\"],[0.1111111111111111,\"#46039f\"],[0.2222222222222222,\"#7201a8\"],[0.3333333333333333,\"#9c179e\"],[0.4444444444444444,\"#bd3786\"],[0.5555555555555556,\"#d8576b\"],[0.6666666666666666,\"#ed7953\"],[0.7777777777777778,\"#fb9f3a\"],[0.8888888888888888,\"#fdca26\"],[1.0,\"#f0f921\"]]}],\"choropleth\":[{\"type\":\"choropleth\",\"colorbar\":{\"outlinewidth\":0,\"ticks\":\"\"}}],\"histogram2d\":[{\"type\":\"histogram2d\",\"colorbar\":{\"outlinewidth\":0,\"ticks\":\"\"},\"colorscale\":[[0.0,\"#0d0887\"],[0.1111111111111111,\"#46039f\"],[0.2222222222222222,\"#7201a8\"],[0.3333333333333333,\"#9c179e\"],[0.4444444444444444,\"#bd3786\"],[0.5555555555555556,\"#d8576b\"],[0.6666666666666666,\"#ed7953\"],[0.7777777777777778,\"#fb9f3a\"],[0.8888888888888888,\"#fdca26\"],[1.0,\"#f0f921\"]]}],\"heatmap\":[{\"type\":\"heatmap\",\"colorbar\":{\"outlinewidth\":0,\"ticks\":\"\"},\"colorscale\":[[0.0,\"#0d0887\"],[0.1111111111111111,\"#46039f\"],[0.2222222222222222,\"#7201a8\"],[0.3333333333333333,\"#9c179e\"],[0.4444444444444444,\"#bd3786\"],[0.5555555555555556,\"#d8576b\"],[0.6666666666666666,\"#ed7953\"],[0.7777777777777778,\"#fb9f3a\"],[0.8888888888888888,\"#fdca26\"],[1.0,\"#f0f921\"]]}],\"heatmapgl\":[{\"type\":\"heatmapgl\",\"colorbar\":{\"outlinewidth\":0,\"ticks\":\"\"},\"colorscale\":[[0.0,\"#0d0887\"],[0.1111111111111111,\"#46039f\"],[0.2222222222222222,\"#7201a8\"],[0.3333333333333333,\"#9c179e\"],[0.4444444444444444,\"#bd3786\"],[0.5555555555555556,\"#d8576b\"],[0.6666666666666666,\"#ed7953\"],[0.7777777777777778,\"#fb9f3a\"],[0.8888888888888888,\"#fdca26\"],[1.0,\"#f0f921\"]]}],\"contourcarpet\":[{\"type\":\"contourcarpet\",\"colorbar\":{\"outlinewidth\":0,\"ticks\":\"\"}}],\"contour\":[{\"type\":\"contour\",\"colorbar\":{\"outlinewidth\":0,\"ticks\":\"\"},\"colorscale\":[[0.0,\"#0d0887\"],[0.1111111111111111,\"#46039f\"],[0.2222222222222222,\"#7201a8\"],[0.3333333333333333,\"#9c179e\"],[0.4444444444444444,\"#bd3786\"],[0.5555555555555556,\"#d8576b\"],[0.6666666666666666,\"#ed7953\"],[0.7777777777777778,\"#fb9f3a\"],[0.8888888888888888,\"#fdca26\"],[1.0,\"#f0f921\"]]}],\"surface\":[{\"type\":\"surface\",\"colorbar\":{\"outlinewidth\":0,\"ticks\":\"\"},\"colorscale\":[[0.0,\"#0d0887\"],[0.1111111111111111,\"#46039f\"],[0.2222222222222222,\"#7201a8\"],[0.3333333333333333,\"#9c179e\"],[0.4444444444444444,\"#bd3786\"],[0.5555555555555556,\"#d8576b\"],[0.6666666666666666,\"#ed7953\"],[0.7777777777777778,\"#fb9f3a\"],[0.8888888888888888,\"#fdca26\"],[1.0,\"#f0f921\"]]}],\"mesh3d\":[{\"type\":\"mesh3d\",\"colorbar\":{\"outlinewidth\":0,\"ticks\":\"\"}}],\"scatter\":[{\"fillpattern\":{\"fillmode\":\"overlay\",\"size\":10,\"solidity\":0.2},\"type\":\"scatter\"}],\"parcoords\":[{\"type\":\"parcoords\",\"line\":{\"colorbar\":{\"outlinewidth\":0,\"ticks\":\"\"}}}],\"scatterpolargl\":[{\"type\":\"scatterpolargl\",\"marker\":{\"colorbar\":{\"outlinewidth\":0,\"ticks\":\"\"}}}],\"bar\":[{\"error_x\":{\"color\":\"#2a3f5f\"},\"error_y\":{\"color\":\"#2a3f5f\"},\"marker\":{\"line\":{\"color\":\"#E5ECF6\",\"width\":0.5},\"pattern\":{\"fillmode\":\"overlay\",\"size\":10,\"solidity\":0.2}},\"type\":\"bar\"}],\"scattergeo\":[{\"type\":\"scattergeo\",\"marker\":{\"colorbar\":{\"outlinewidth\":0,\"ticks\":\"\"}}}],\"scatterpolar\":[{\"type\":\"scatterpolar\",\"marker\":{\"colorbar\":{\"outlinewidth\":0,\"ticks\":\"\"}}}],\"histogram\":[{\"marker\":{\"pattern\":{\"fillmode\":\"overlay\",\"size\":10,\"solidity\":0.2}},\"type\":\"histogram\"}],\"scattergl\":[{\"type\":\"scattergl\",\"marker\":{\"colorbar\":{\"outlinewidth\":0,\"ticks\":\"\"}}}],\"scatter3d\":[{\"type\":\"scatter3d\",\"line\":{\"colorbar\":{\"outlinewidth\":0,\"ticks\":\"\"}},\"marker\":{\"colorbar\":{\"outlinewidth\":0,\"ticks\":\"\"}}}],\"scattermapbox\":[{\"type\":\"scattermapbox\",\"marker\":{\"colorbar\":{\"outlinewidth\":0,\"ticks\":\"\"}}}],\"scatterternary\":[{\"type\":\"scatterternary\",\"marker\":{\"colorbar\":{\"outlinewidth\":0,\"ticks\":\"\"}}}],\"scattercarpet\":[{\"type\":\"scattercarpet\",\"marker\":{\"colorbar\":{\"outlinewidth\":0,\"ticks\":\"\"}}}],\"carpet\":[{\"aaxis\":{\"endlinecolor\":\"#2a3f5f\",\"gridcolor\":\"white\",\"linecolor\":\"white\",\"minorgridcolor\":\"white\",\"startlinecolor\":\"#2a3f5f\"},\"baxis\":{\"endlinecolor\":\"#2a3f5f\",\"gridcolor\":\"white\",\"linecolor\":\"white\",\"minorgridcolor\":\"white\",\"startlinecolor\":\"#2a3f5f\"},\"type\":\"carpet\"}],\"table\":[{\"cells\":{\"fill\":{\"color\":\"#EBF0F8\"},\"line\":{\"color\":\"white\"}},\"header\":{\"fill\":{\"color\":\"#C8D4E3\"},\"line\":{\"color\":\"white\"}},\"type\":\"table\"}],\"barpolar\":[{\"marker\":{\"line\":{\"color\":\"#E5ECF6\",\"width\":0.5},\"pattern\":{\"fillmode\":\"overlay\",\"size\":10,\"solidity\":0.2}},\"type\":\"barpolar\"}],\"pie\":[{\"automargin\":true,\"type\":\"pie\"}]},\"layout\":{\"autotypenumbers\":\"strict\",\"colorway\":[\"#636efa\",\"#EF553B\",\"#00cc96\",\"#ab63fa\",\"#FFA15A\",\"#19d3f3\",\"#FF6692\",\"#B6E880\",\"#FF97FF\",\"#FECB52\"],\"font\":{\"color\":\"#2a3f5f\"},\"hovermode\":\"closest\",\"hoverlabel\":{\"align\":\"left\"},\"paper_bgcolor\":\"white\",\"plot_bgcolor\":\"#E5ECF6\",\"polar\":{\"bgcolor\":\"#E5ECF6\",\"angularaxis\":{\"gridcolor\":\"white\",\"linecolor\":\"white\",\"ticks\":\"\"},\"radialaxis\":{\"gridcolor\":\"white\",\"linecolor\":\"white\",\"ticks\":\"\"}},\"ternary\":{\"bgcolor\":\"#E5ECF6\",\"aaxis\":{\"gridcolor\":\"white\",\"linecolor\":\"white\",\"ticks\":\"\"},\"baxis\":{\"gridcolor\":\"white\",\"linecolor\":\"white\",\"ticks\":\"\"},\"caxis\":{\"gridcolor\":\"white\",\"linecolor\":\"white\",\"ticks\":\"\"}},\"coloraxis\":{\"colorbar\":{\"outlinewidth\":0,\"ticks\":\"\"}},\"colorscale\":{\"sequential\":[[0.0,\"#0d0887\"],[0.1111111111111111,\"#46039f\"],[0.2222222222222222,\"#7201a8\"],[0.3333333333333333,\"#9c179e\"],[0.4444444444444444,\"#bd3786\"],[0.5555555555555556,\"#d8576b\"],[0.6666666666666666,\"#ed7953\"],[0.7777777777777778,\"#fb9f3a\"],[0.8888888888888888,\"#fdca26\"],[1.0,\"#f0f921\"]],\"sequentialminus\":[[0.0,\"#0d0887\"],[0.1111111111111111,\"#46039f\"],[0.2222222222222222,\"#7201a8\"],[0.3333333333333333,\"#9c179e\"],[0.4444444444444444,\"#bd3786\"],[0.5555555555555556,\"#d8576b\"],[0.6666666666666666,\"#ed7953\"],[0.7777777777777778,\"#fb9f3a\"],[0.8888888888888888,\"#fdca26\"],[1.0,\"#f0f921\"]],\"diverging\":[[0,\"#8e0152\"],[0.1,\"#c51b7d\"],[0.2,\"#de77ae\"],[0.3,\"#f1b6da\"],[0.4,\"#fde0ef\"],[0.5,\"#f7f7f7\"],[0.6,\"#e6f5d0\"],[0.7,\"#b8e186\"],[0.8,\"#7fbc41\"],[0.9,\"#4d9221\"],[1,\"#276419\"]]},\"xaxis\":{\"gridcolor\":\"white\",\"linecolor\":\"white\",\"ticks\":\"\",\"title\":{\"standoff\":15},\"zerolinecolor\":\"white\",\"automargin\":true,\"zerolinewidth\":2},\"yaxis\":{\"gridcolor\":\"white\",\"linecolor\":\"white\",\"ticks\":\"\",\"title\":{\"standoff\":15},\"zerolinecolor\":\"white\",\"automargin\":true,\"zerolinewidth\":2},\"scene\":{\"xaxis\":{\"backgroundcolor\":\"#E5ECF6\",\"gridcolor\":\"white\",\"linecolor\":\"white\",\"showbackground\":true,\"ticks\":\"\",\"zerolinecolor\":\"white\",\"gridwidth\":2},\"yaxis\":{\"backgroundcolor\":\"#E5ECF6\",\"gridcolor\":\"white\",\"linecolor\":\"white\",\"showbackground\":true,\"ticks\":\"\",\"zerolinecolor\":\"white\",\"gridwidth\":2},\"zaxis\":{\"backgroundcolor\":\"#E5ECF6\",\"gridcolor\":\"white\",\"linecolor\":\"white\",\"showbackground\":true,\"ticks\":\"\",\"zerolinecolor\":\"white\",\"gridwidth\":2}},\"shapedefaults\":{\"line\":{\"color\":\"#2a3f5f\"}},\"annotationdefaults\":{\"arrowcolor\":\"#2a3f5f\",\"arrowhead\":0,\"arrowwidth\":1},\"geo\":{\"bgcolor\":\"white\",\"landcolor\":\"#E5ECF6\",\"subunitcolor\":\"white\",\"showland\":true,\"showlakes\":true,\"lakecolor\":\"white\"},\"title\":{\"x\":0.05},\"mapbox\":{\"style\":\"light\"}}},\"xaxis\":{\"anchor\":\"y\",\"domain\":[0.0,1.0],\"title\":{\"text\":\"Country name\"},\"categoryorder\":\"array\",\"categoryarray\":[\"Finland\",\"Denmark\",\"Israel\",\"Iceland\",\"Sweden\",\"Norway\",\"Switzerland\",\"Netherlands\",\"New Zealand\",\"Australia\"]},\"yaxis\":{\"anchor\":\"x\",\"domain\":[0.0,1.0],\"title\":{\"text\":\"Life Ladder\"}},\"legend\":{\"title\":{\"text\":\"Country name\"},\"tracegroupgap\":0},\"title\":{\"text\":\"World's happiest countries in 2021\"},\"barmode\":\"relative\"},                        {\"responsive\": true}                    ).then(function(){\n",
       "                            \n",
       "var gd = document.getElementById('f38b4030-fd5c-4bd3-b6e0-8a0798b5068f');\n",
       "var x = new MutationObserver(function (mutations, observer) {{\n",
       "        var display = window.getComputedStyle(gd).display;\n",
       "        if (!display || display === 'none') {{\n",
       "            console.log([gd, 'removed!']);\n",
       "            Plotly.purge(gd);\n",
       "            observer.disconnect();\n",
       "        }}\n",
       "}});\n",
       "\n",
       "// Listen for the removal of the full notebook cells\n",
       "var notebookContainer = gd.closest('#notebook-container');\n",
       "if (notebookContainer) {{\n",
       "    x.observe(notebookContainer, {childList: true});\n",
       "}}\n",
       "\n",
       "// Listen for the clearing of the current output cell\n",
       "var outputEl = gd.closest('.output');\n",
       "if (outputEl) {{\n",
       "    x.observe(outputEl, {childList: true});\n",
       "}}\n",
       "\n",
       "                        })                };                });            </script>        </div>"
      ]
     },
     "metadata": {},
     "output_type": "display_data"
    }
   ],
   "source": [
    "fig = px.bar(top10, \n",
    "             x=\"Country name\", \n",
    "             y=\"Life Ladder\", \n",
    "             color=\"Country name\", \n",
    "             title=\"World's happiest countries in 2021\")\n",
    "fig.show()"
   ]
  },
  {
   "attachments": {},
   "cell_type": "markdown",
   "metadata": {},
   "source": [
    "2005-2021幸福度排名榜首的国家"
   ]
  },
  {
   "cell_type": "code",
   "execution_count": 78,
   "metadata": {},
   "outputs": [],
   "source": [
    "top_country_list = []\n",
    "for i in range(2005, 2022):\n",
    "    # exec函数能执行函数中\" \"内的操作\n",
    "    exec(\"top_country=%s.sort_values(by=['Life Ladder'],ascending=False)\"%dfyear_list[i-2005])\n",
    "    exec(\"top_country=top_country.iloc[0,0:3]\")\n",
    "    top_country_list.append(top_country)\n",
    "\n",
    "df_topcountry = pd.DataFrame(top_country_list)"
   ]
  },
  {
   "cell_type": "code",
   "execution_count": 79,
   "metadata": {},
   "outputs": [
    {
     "data": {
      "text/html": [
       "<div>\n",
       "<style scoped>\n",
       "    .dataframe tbody tr th:only-of-type {\n",
       "        vertical-align: middle;\n",
       "    }\n",
       "\n",
       "    .dataframe tbody tr th {\n",
       "        vertical-align: top;\n",
       "    }\n",
       "\n",
       "    .dataframe thead th {\n",
       "        text-align: right;\n",
       "    }\n",
       "</style>\n",
       "<table border=\"1\" class=\"dataframe\">\n",
       "  <thead>\n",
       "    <tr style=\"text-align: right;\">\n",
       "      <th></th>\n",
       "      <th>Country name</th>\n",
       "      <th>year</th>\n",
       "      <th>Life Ladder</th>\n",
       "    </tr>\n",
       "  </thead>\n",
       "  <tbody>\n",
       "    <tr>\n",
       "      <th>0</th>\n",
       "      <td>Denmark</td>\n",
       "      <td>2005</td>\n",
       "      <td>8.018934</td>\n",
       "    </tr>\n",
       "    <tr>\n",
       "      <th>1</th>\n",
       "      <td>Finland</td>\n",
       "      <td>2006</td>\n",
       "      <td>7.672449</td>\n",
       "    </tr>\n",
       "    <tr>\n",
       "      <th>2</th>\n",
       "      <td>Denmark</td>\n",
       "      <td>2007</td>\n",
       "      <td>7.834233</td>\n",
       "    </tr>\n",
       "    <tr>\n",
       "      <th>3</th>\n",
       "      <td>Denmark</td>\n",
       "      <td>2008</td>\n",
       "      <td>7.970892</td>\n",
       "    </tr>\n",
       "    <tr>\n",
       "      <th>4</th>\n",
       "      <td>Denmark</td>\n",
       "      <td>2009</td>\n",
       "      <td>7.683359</td>\n",
       "    </tr>\n",
       "    <tr>\n",
       "      <th>5</th>\n",
       "      <td>Denmark</td>\n",
       "      <td>2010</td>\n",
       "      <td>7.770515</td>\n",
       "    </tr>\n",
       "    <tr>\n",
       "      <th>6</th>\n",
       "      <td>Denmark</td>\n",
       "      <td>2011</td>\n",
       "      <td>7.788232</td>\n",
       "    </tr>\n",
       "    <tr>\n",
       "      <th>7</th>\n",
       "      <td>Switzerland</td>\n",
       "      <td>2012</td>\n",
       "      <td>7.776209</td>\n",
       "    </tr>\n",
       "    <tr>\n",
       "      <th>8</th>\n",
       "      <td>Canada</td>\n",
       "      <td>2013</td>\n",
       "      <td>7.593794</td>\n",
       "    </tr>\n",
       "    <tr>\n",
       "      <th>9</th>\n",
       "      <td>Denmark</td>\n",
       "      <td>2014</td>\n",
       "      <td>7.507559</td>\n",
       "    </tr>\n",
       "    <tr>\n",
       "      <th>10</th>\n",
       "      <td>Norway</td>\n",
       "      <td>2015</td>\n",
       "      <td>7.603434</td>\n",
       "    </tr>\n",
       "    <tr>\n",
       "      <th>11</th>\n",
       "      <td>Finland</td>\n",
       "      <td>2016</td>\n",
       "      <td>7.659843</td>\n",
       "    </tr>\n",
       "    <tr>\n",
       "      <th>12</th>\n",
       "      <td>Finland</td>\n",
       "      <td>2017</td>\n",
       "      <td>7.788252</td>\n",
       "    </tr>\n",
       "    <tr>\n",
       "      <th>13</th>\n",
       "      <td>Finland</td>\n",
       "      <td>2018</td>\n",
       "      <td>7.858107</td>\n",
       "    </tr>\n",
       "    <tr>\n",
       "      <th>14</th>\n",
       "      <td>Finland</td>\n",
       "      <td>2019</td>\n",
       "      <td>7.780348</td>\n",
       "    </tr>\n",
       "    <tr>\n",
       "      <th>15</th>\n",
       "      <td>Finland</td>\n",
       "      <td>2020</td>\n",
       "      <td>7.889350</td>\n",
       "    </tr>\n",
       "    <tr>\n",
       "      <th>16</th>\n",
       "      <td>Finland</td>\n",
       "      <td>2021</td>\n",
       "      <td>7.794378</td>\n",
       "    </tr>\n",
       "  </tbody>\n",
       "</table>\n",
       "</div>"
      ],
      "text/plain": [
       "   Country name  year  Life Ladder\n",
       "0       Denmark  2005     8.018934\n",
       "1       Finland  2006     7.672449\n",
       "2       Denmark  2007     7.834233\n",
       "3       Denmark  2008     7.970892\n",
       "4       Denmark  2009     7.683359\n",
       "5       Denmark  2010     7.770515\n",
       "6       Denmark  2011     7.788232\n",
       "7   Switzerland  2012     7.776209\n",
       "8        Canada  2013     7.593794\n",
       "9       Denmark  2014     7.507559\n",
       "10       Norway  2015     7.603434\n",
       "11      Finland  2016     7.659843\n",
       "12      Finland  2017     7.788252\n",
       "13      Finland  2018     7.858107\n",
       "14      Finland  2019     7.780348\n",
       "15      Finland  2020     7.889350\n",
       "16      Finland  2021     7.794378"
      ]
     },
     "execution_count": 79,
     "metadata": {},
     "output_type": "execute_result"
    }
   ],
   "source": [
    "df_topcountry.index = range(0, df_topcountry.iloc[:,0].size)\n",
    "df_topcountry"
   ]
  },
  {
   "attachments": {},
   "cell_type": "markdown",
   "metadata": {},
   "source": [
    "可以看出Finland与Denmark各当过7次第一"
   ]
  },
  {
   "attachments": {},
   "cell_type": "markdown",
   "metadata": {},
   "source": [
    "2005-2021平均幸福度最高的国家"
   ]
  },
  {
   "cell_type": "code",
   "execution_count": 80,
   "metadata": {},
   "outputs": [
    {
     "name": "stdout",
     "output_type": "stream",
     "text": [
      "世界各国的幸福度平均值从高到低排列：\n"
     ]
    },
    {
     "data": {
      "text/plain": [
       "Country name\n",
       "Denmark                     7.681457\n",
       "Finland                     7.611299\n",
       "Switzerland                 7.528177\n",
       "Norway                      7.498840\n",
       "Iceland                     7.459697\n",
       "                              ...   \n",
       "Togo                        3.603208\n",
       "Burundi                     3.548124\n",
       "Central African Republic    3.514954\n",
       "Afghanistan                 3.505506\n",
       "South Sudan                 3.401875\n",
       "Name: Life Ladder, Length: 166, dtype: float64"
      ]
     },
     "execution_count": 80,
     "metadata": {},
     "output_type": "execute_result"
    }
   ],
   "source": [
    "print(\"世界各国的幸福度平均值从高到低排列：\")\n",
    "df_all_1.groupby('Country name')['Life Ladder'].mean().sort_values(ascending=False)"
   ]
  },
  {
   "attachments": {},
   "cell_type": "markdown",
   "metadata": {},
   "source": [
    "可以看出2005-2021平均幸福度最高的国家是Denmark，最低的是South Sudan"
   ]
  },
  {
   "attachments": {},
   "cell_type": "markdown",
   "metadata": {},
   "source": [
    "#### 4.2幸福度排名最靠后国家"
   ]
  },
  {
   "attachments": {},
   "cell_type": "markdown",
   "metadata": {},
   "source": [
    "2021年幸福度倒数前10的国家"
   ]
  },
  {
   "cell_type": "code",
   "execution_count": 81,
   "metadata": {},
   "outputs": [
    {
     "data": {
      "text/html": [
       "<div>\n",
       "<style scoped>\n",
       "    .dataframe tbody tr th:only-of-type {\n",
       "        vertical-align: middle;\n",
       "    }\n",
       "\n",
       "    .dataframe tbody tr th {\n",
       "        vertical-align: top;\n",
       "    }\n",
       "\n",
       "    .dataframe thead th {\n",
       "        text-align: right;\n",
       "    }\n",
       "</style>\n",
       "<table border=\"1\" class=\"dataframe\">\n",
       "  <thead>\n",
       "    <tr style=\"text-align: right;\">\n",
       "      <th></th>\n",
       "      <th>Country name</th>\n",
       "      <th>Life Ladder</th>\n",
       "    </tr>\n",
       "  </thead>\n",
       "  <tbody>\n",
       "    <tr>\n",
       "      <th>1</th>\n",
       "      <td>Lebanon</td>\n",
       "      <td>2.178809</td>\n",
       "    </tr>\n",
       "    <tr>\n",
       "      <th>2</th>\n",
       "      <td>Afghanistan</td>\n",
       "      <td>2.436034</td>\n",
       "    </tr>\n",
       "    <tr>\n",
       "      <th>3</th>\n",
       "      <td>Zambia</td>\n",
       "      <td>3.082155</td>\n",
       "    </tr>\n",
       "    <tr>\n",
       "      <th>4</th>\n",
       "      <td>Zimbabwe</td>\n",
       "      <td>3.154578</td>\n",
       "    </tr>\n",
       "    <tr>\n",
       "      <th>5</th>\n",
       "      <td>India</td>\n",
       "      <td>3.558254</td>\n",
       "    </tr>\n",
       "    <tr>\n",
       "      <th>6</th>\n",
       "      <td>Malawi</td>\n",
       "      <td>3.635283</td>\n",
       "    </tr>\n",
       "    <tr>\n",
       "      <th>7</th>\n",
       "      <td>Tanzania</td>\n",
       "      <td>3.680568</td>\n",
       "    </tr>\n",
       "    <tr>\n",
       "      <th>8</th>\n",
       "      <td>Sierra Leone</td>\n",
       "      <td>3.714294</td>\n",
       "    </tr>\n",
       "    <tr>\n",
       "      <th>9</th>\n",
       "      <td>Jordan</td>\n",
       "      <td>3.909149</td>\n",
       "    </tr>\n",
       "    <tr>\n",
       "      <th>10</th>\n",
       "      <td>Egypt</td>\n",
       "      <td>4.025748</td>\n",
       "    </tr>\n",
       "  </tbody>\n",
       "</table>\n",
       "</div>"
      ],
      "text/plain": [
       "    Country name  Life Ladder\n",
       "1        Lebanon     2.178809\n",
       "2    Afghanistan     2.436034\n",
       "3         Zambia     3.082155\n",
       "4       Zimbabwe     3.154578\n",
       "5          India     3.558254\n",
       "6         Malawi     3.635283\n",
       "7       Tanzania     3.680568\n",
       "8   Sierra Leone     3.714294\n",
       "9         Jordan     3.909149\n",
       "10         Egypt     4.025748"
      ]
     },
     "execution_count": 81,
     "metadata": {},
     "output_type": "execute_result"
    }
   ],
   "source": [
    "df_2021_sorted=df_2021.sort_values(by='Life Ladder',ascending=True)\n",
    "btm10=df_2021_sorted.head(10)[['Country name','Life Ladder']] #btm是bottom的缩写 \n",
    "btm10.index=range(1,top10.iloc[:,0].size+1)   \n",
    "btm10"
   ]
  },
  {
   "cell_type": "code",
   "execution_count": 82,
   "metadata": {},
   "outputs": [
    {
     "data": {
      "application/vnd.plotly.v1+json": {
       "config": {
        "plotlyServerURL": "https://plot.ly"
       },
       "data": [
        {
         "alignmentgroup": "True",
         "hovertemplate": "Country name=%{x}<br>Life Ladder=%{y}<extra></extra>",
         "legendgroup": "Lebanon",
         "marker": {
          "color": "#636efa",
          "pattern": {
           "shape": ""
          }
         },
         "name": "Lebanon",
         "offsetgroup": "Lebanon",
         "orientation": "v",
         "showlegend": true,
         "textposition": "auto",
         "type": "bar",
         "x": [
          "Lebanon"
         ],
         "xaxis": "x",
         "y": [
          2.178809404
         ],
         "yaxis": "y"
        },
        {
         "alignmentgroup": "True",
         "hovertemplate": "Country name=%{x}<br>Life Ladder=%{y}<extra></extra>",
         "legendgroup": "Afghanistan",
         "marker": {
          "color": "#EF553B",
          "pattern": {
           "shape": ""
          }
         },
         "name": "Afghanistan",
         "offsetgroup": "Afghanistan",
         "orientation": "v",
         "showlegend": true,
         "textposition": "auto",
         "type": "bar",
         "x": [
          "Afghanistan"
         ],
         "xaxis": "x",
         "y": [
          2.436034441
         ],
         "yaxis": "y"
        },
        {
         "alignmentgroup": "True",
         "hovertemplate": "Country name=%{x}<br>Life Ladder=%{y}<extra></extra>",
         "legendgroup": "Zambia",
         "marker": {
          "color": "#00cc96",
          "pattern": {
           "shape": ""
          }
         },
         "name": "Zambia",
         "offsetgroup": "Zambia",
         "orientation": "v",
         "showlegend": true,
         "textposition": "auto",
         "type": "bar",
         "x": [
          "Zambia"
         ],
         "xaxis": "x",
         "y": [
          3.082154989
         ],
         "yaxis": "y"
        },
        {
         "alignmentgroup": "True",
         "hovertemplate": "Country name=%{x}<br>Life Ladder=%{y}<extra></extra>",
         "legendgroup": "Zimbabwe",
         "marker": {
          "color": "#ab63fa",
          "pattern": {
           "shape": ""
          }
         },
         "name": "Zimbabwe",
         "offsetgroup": "Zimbabwe",
         "orientation": "v",
         "showlegend": true,
         "textposition": "auto",
         "type": "bar",
         "x": [
          "Zimbabwe"
         ],
         "xaxis": "x",
         "y": [
          3.154578209
         ],
         "yaxis": "y"
        },
        {
         "alignmentgroup": "True",
         "hovertemplate": "Country name=%{x}<br>Life Ladder=%{y}<extra></extra>",
         "legendgroup": "India",
         "marker": {
          "color": "#FFA15A",
          "pattern": {
           "shape": ""
          }
         },
         "name": "India",
         "offsetgroup": "India",
         "orientation": "v",
         "showlegend": true,
         "textposition": "auto",
         "type": "bar",
         "x": [
          "India"
         ],
         "xaxis": "x",
         "y": [
          3.558253765
         ],
         "yaxis": "y"
        },
        {
         "alignmentgroup": "True",
         "hovertemplate": "Country name=%{x}<br>Life Ladder=%{y}<extra></extra>",
         "legendgroup": "Malawi",
         "marker": {
          "color": "#19d3f3",
          "pattern": {
           "shape": ""
          }
         },
         "name": "Malawi",
         "offsetgroup": "Malawi",
         "orientation": "v",
         "showlegend": true,
         "textposition": "auto",
         "type": "bar",
         "x": [
          "Malawi"
         ],
         "xaxis": "x",
         "y": [
          3.635283232
         ],
         "yaxis": "y"
        },
        {
         "alignmentgroup": "True",
         "hovertemplate": "Country name=%{x}<br>Life Ladder=%{y}<extra></extra>",
         "legendgroup": "Tanzania",
         "marker": {
          "color": "#FF6692",
          "pattern": {
           "shape": ""
          }
         },
         "name": "Tanzania",
         "offsetgroup": "Tanzania",
         "orientation": "v",
         "showlegend": true,
         "textposition": "auto",
         "type": "bar",
         "x": [
          "Tanzania"
         ],
         "xaxis": "x",
         "y": [
          3.68056798
         ],
         "yaxis": "y"
        },
        {
         "alignmentgroup": "True",
         "hovertemplate": "Country name=%{x}<br>Life Ladder=%{y}<extra></extra>",
         "legendgroup": "Sierra Leone",
         "marker": {
          "color": "#B6E880",
          "pattern": {
           "shape": ""
          }
         },
         "name": "Sierra Leone",
         "offsetgroup": "Sierra Leone",
         "orientation": "v",
         "showlegend": true,
         "textposition": "auto",
         "type": "bar",
         "x": [
          "Sierra Leone"
         ],
         "xaxis": "x",
         "y": [
          3.714294434
         ],
         "yaxis": "y"
        },
        {
         "alignmentgroup": "True",
         "hovertemplate": "Country name=%{x}<br>Life Ladder=%{y}<extra></extra>",
         "legendgroup": "Jordan",
         "marker": {
          "color": "#FF97FF",
          "pattern": {
           "shape": ""
          }
         },
         "name": "Jordan",
         "offsetgroup": "Jordan",
         "orientation": "v",
         "showlegend": true,
         "textposition": "auto",
         "type": "bar",
         "x": [
          "Jordan"
         ],
         "xaxis": "x",
         "y": [
          3.90914917
         ],
         "yaxis": "y"
        },
        {
         "alignmentgroup": "True",
         "hovertemplate": "Country name=%{x}<br>Life Ladder=%{y}<extra></extra>",
         "legendgroup": "Egypt",
         "marker": {
          "color": "#FECB52",
          "pattern": {
           "shape": ""
          }
         },
         "name": "Egypt",
         "offsetgroup": "Egypt",
         "orientation": "v",
         "showlegend": true,
         "textposition": "auto",
         "type": "bar",
         "x": [
          "Egypt"
         ],
         "xaxis": "x",
         "y": [
          4.025747776
         ],
         "yaxis": "y"
        }
       ],
       "layout": {
        "barmode": "relative",
        "legend": {
         "title": {
          "text": "Country name"
         },
         "tracegroupgap": 0
        },
        "template": {
         "data": {
          "bar": [
           {
            "error_x": {
             "color": "#2a3f5f"
            },
            "error_y": {
             "color": "#2a3f5f"
            },
            "marker": {
             "line": {
              "color": "#E5ECF6",
              "width": 0.5
             },
             "pattern": {
              "fillmode": "overlay",
              "size": 10,
              "solidity": 0.2
             }
            },
            "type": "bar"
           }
          ],
          "barpolar": [
           {
            "marker": {
             "line": {
              "color": "#E5ECF6",
              "width": 0.5
             },
             "pattern": {
              "fillmode": "overlay",
              "size": 10,
              "solidity": 0.2
             }
            },
            "type": "barpolar"
           }
          ],
          "carpet": [
           {
            "aaxis": {
             "endlinecolor": "#2a3f5f",
             "gridcolor": "white",
             "linecolor": "white",
             "minorgridcolor": "white",
             "startlinecolor": "#2a3f5f"
            },
            "baxis": {
             "endlinecolor": "#2a3f5f",
             "gridcolor": "white",
             "linecolor": "white",
             "minorgridcolor": "white",
             "startlinecolor": "#2a3f5f"
            },
            "type": "carpet"
           }
          ],
          "choropleth": [
           {
            "colorbar": {
             "outlinewidth": 0,
             "ticks": ""
            },
            "type": "choropleth"
           }
          ],
          "contour": [
           {
            "colorbar": {
             "outlinewidth": 0,
             "ticks": ""
            },
            "colorscale": [
             [
              0,
              "#0d0887"
             ],
             [
              0.1111111111111111,
              "#46039f"
             ],
             [
              0.2222222222222222,
              "#7201a8"
             ],
             [
              0.3333333333333333,
              "#9c179e"
             ],
             [
              0.4444444444444444,
              "#bd3786"
             ],
             [
              0.5555555555555556,
              "#d8576b"
             ],
             [
              0.6666666666666666,
              "#ed7953"
             ],
             [
              0.7777777777777778,
              "#fb9f3a"
             ],
             [
              0.8888888888888888,
              "#fdca26"
             ],
             [
              1,
              "#f0f921"
             ]
            ],
            "type": "contour"
           }
          ],
          "contourcarpet": [
           {
            "colorbar": {
             "outlinewidth": 0,
             "ticks": ""
            },
            "type": "contourcarpet"
           }
          ],
          "heatmap": [
           {
            "colorbar": {
             "outlinewidth": 0,
             "ticks": ""
            },
            "colorscale": [
             [
              0,
              "#0d0887"
             ],
             [
              0.1111111111111111,
              "#46039f"
             ],
             [
              0.2222222222222222,
              "#7201a8"
             ],
             [
              0.3333333333333333,
              "#9c179e"
             ],
             [
              0.4444444444444444,
              "#bd3786"
             ],
             [
              0.5555555555555556,
              "#d8576b"
             ],
             [
              0.6666666666666666,
              "#ed7953"
             ],
             [
              0.7777777777777778,
              "#fb9f3a"
             ],
             [
              0.8888888888888888,
              "#fdca26"
             ],
             [
              1,
              "#f0f921"
             ]
            ],
            "type": "heatmap"
           }
          ],
          "heatmapgl": [
           {
            "colorbar": {
             "outlinewidth": 0,
             "ticks": ""
            },
            "colorscale": [
             [
              0,
              "#0d0887"
             ],
             [
              0.1111111111111111,
              "#46039f"
             ],
             [
              0.2222222222222222,
              "#7201a8"
             ],
             [
              0.3333333333333333,
              "#9c179e"
             ],
             [
              0.4444444444444444,
              "#bd3786"
             ],
             [
              0.5555555555555556,
              "#d8576b"
             ],
             [
              0.6666666666666666,
              "#ed7953"
             ],
             [
              0.7777777777777778,
              "#fb9f3a"
             ],
             [
              0.8888888888888888,
              "#fdca26"
             ],
             [
              1,
              "#f0f921"
             ]
            ],
            "type": "heatmapgl"
           }
          ],
          "histogram": [
           {
            "marker": {
             "pattern": {
              "fillmode": "overlay",
              "size": 10,
              "solidity": 0.2
             }
            },
            "type": "histogram"
           }
          ],
          "histogram2d": [
           {
            "colorbar": {
             "outlinewidth": 0,
             "ticks": ""
            },
            "colorscale": [
             [
              0,
              "#0d0887"
             ],
             [
              0.1111111111111111,
              "#46039f"
             ],
             [
              0.2222222222222222,
              "#7201a8"
             ],
             [
              0.3333333333333333,
              "#9c179e"
             ],
             [
              0.4444444444444444,
              "#bd3786"
             ],
             [
              0.5555555555555556,
              "#d8576b"
             ],
             [
              0.6666666666666666,
              "#ed7953"
             ],
             [
              0.7777777777777778,
              "#fb9f3a"
             ],
             [
              0.8888888888888888,
              "#fdca26"
             ],
             [
              1,
              "#f0f921"
             ]
            ],
            "type": "histogram2d"
           }
          ],
          "histogram2dcontour": [
           {
            "colorbar": {
             "outlinewidth": 0,
             "ticks": ""
            },
            "colorscale": [
             [
              0,
              "#0d0887"
             ],
             [
              0.1111111111111111,
              "#46039f"
             ],
             [
              0.2222222222222222,
              "#7201a8"
             ],
             [
              0.3333333333333333,
              "#9c179e"
             ],
             [
              0.4444444444444444,
              "#bd3786"
             ],
             [
              0.5555555555555556,
              "#d8576b"
             ],
             [
              0.6666666666666666,
              "#ed7953"
             ],
             [
              0.7777777777777778,
              "#fb9f3a"
             ],
             [
              0.8888888888888888,
              "#fdca26"
             ],
             [
              1,
              "#f0f921"
             ]
            ],
            "type": "histogram2dcontour"
           }
          ],
          "mesh3d": [
           {
            "colorbar": {
             "outlinewidth": 0,
             "ticks": ""
            },
            "type": "mesh3d"
           }
          ],
          "parcoords": [
           {
            "line": {
             "colorbar": {
              "outlinewidth": 0,
              "ticks": ""
             }
            },
            "type": "parcoords"
           }
          ],
          "pie": [
           {
            "automargin": true,
            "type": "pie"
           }
          ],
          "scatter": [
           {
            "fillpattern": {
             "fillmode": "overlay",
             "size": 10,
             "solidity": 0.2
            },
            "type": "scatter"
           }
          ],
          "scatter3d": [
           {
            "line": {
             "colorbar": {
              "outlinewidth": 0,
              "ticks": ""
             }
            },
            "marker": {
             "colorbar": {
              "outlinewidth": 0,
              "ticks": ""
             }
            },
            "type": "scatter3d"
           }
          ],
          "scattercarpet": [
           {
            "marker": {
             "colorbar": {
              "outlinewidth": 0,
              "ticks": ""
             }
            },
            "type": "scattercarpet"
           }
          ],
          "scattergeo": [
           {
            "marker": {
             "colorbar": {
              "outlinewidth": 0,
              "ticks": ""
             }
            },
            "type": "scattergeo"
           }
          ],
          "scattergl": [
           {
            "marker": {
             "colorbar": {
              "outlinewidth": 0,
              "ticks": ""
             }
            },
            "type": "scattergl"
           }
          ],
          "scattermapbox": [
           {
            "marker": {
             "colorbar": {
              "outlinewidth": 0,
              "ticks": ""
             }
            },
            "type": "scattermapbox"
           }
          ],
          "scatterpolar": [
           {
            "marker": {
             "colorbar": {
              "outlinewidth": 0,
              "ticks": ""
             }
            },
            "type": "scatterpolar"
           }
          ],
          "scatterpolargl": [
           {
            "marker": {
             "colorbar": {
              "outlinewidth": 0,
              "ticks": ""
             }
            },
            "type": "scatterpolargl"
           }
          ],
          "scatterternary": [
           {
            "marker": {
             "colorbar": {
              "outlinewidth": 0,
              "ticks": ""
             }
            },
            "type": "scatterternary"
           }
          ],
          "surface": [
           {
            "colorbar": {
             "outlinewidth": 0,
             "ticks": ""
            },
            "colorscale": [
             [
              0,
              "#0d0887"
             ],
             [
              0.1111111111111111,
              "#46039f"
             ],
             [
              0.2222222222222222,
              "#7201a8"
             ],
             [
              0.3333333333333333,
              "#9c179e"
             ],
             [
              0.4444444444444444,
              "#bd3786"
             ],
             [
              0.5555555555555556,
              "#d8576b"
             ],
             [
              0.6666666666666666,
              "#ed7953"
             ],
             [
              0.7777777777777778,
              "#fb9f3a"
             ],
             [
              0.8888888888888888,
              "#fdca26"
             ],
             [
              1,
              "#f0f921"
             ]
            ],
            "type": "surface"
           }
          ],
          "table": [
           {
            "cells": {
             "fill": {
              "color": "#EBF0F8"
             },
             "line": {
              "color": "white"
             }
            },
            "header": {
             "fill": {
              "color": "#C8D4E3"
             },
             "line": {
              "color": "white"
             }
            },
            "type": "table"
           }
          ]
         },
         "layout": {
          "annotationdefaults": {
           "arrowcolor": "#2a3f5f",
           "arrowhead": 0,
           "arrowwidth": 1
          },
          "autotypenumbers": "strict",
          "coloraxis": {
           "colorbar": {
            "outlinewidth": 0,
            "ticks": ""
           }
          },
          "colorscale": {
           "diverging": [
            [
             0,
             "#8e0152"
            ],
            [
             0.1,
             "#c51b7d"
            ],
            [
             0.2,
             "#de77ae"
            ],
            [
             0.3,
             "#f1b6da"
            ],
            [
             0.4,
             "#fde0ef"
            ],
            [
             0.5,
             "#f7f7f7"
            ],
            [
             0.6,
             "#e6f5d0"
            ],
            [
             0.7,
             "#b8e186"
            ],
            [
             0.8,
             "#7fbc41"
            ],
            [
             0.9,
             "#4d9221"
            ],
            [
             1,
             "#276419"
            ]
           ],
           "sequential": [
            [
             0,
             "#0d0887"
            ],
            [
             0.1111111111111111,
             "#46039f"
            ],
            [
             0.2222222222222222,
             "#7201a8"
            ],
            [
             0.3333333333333333,
             "#9c179e"
            ],
            [
             0.4444444444444444,
             "#bd3786"
            ],
            [
             0.5555555555555556,
             "#d8576b"
            ],
            [
             0.6666666666666666,
             "#ed7953"
            ],
            [
             0.7777777777777778,
             "#fb9f3a"
            ],
            [
             0.8888888888888888,
             "#fdca26"
            ],
            [
             1,
             "#f0f921"
            ]
           ],
           "sequentialminus": [
            [
             0,
             "#0d0887"
            ],
            [
             0.1111111111111111,
             "#46039f"
            ],
            [
             0.2222222222222222,
             "#7201a8"
            ],
            [
             0.3333333333333333,
             "#9c179e"
            ],
            [
             0.4444444444444444,
             "#bd3786"
            ],
            [
             0.5555555555555556,
             "#d8576b"
            ],
            [
             0.6666666666666666,
             "#ed7953"
            ],
            [
             0.7777777777777778,
             "#fb9f3a"
            ],
            [
             0.8888888888888888,
             "#fdca26"
            ],
            [
             1,
             "#f0f921"
            ]
           ]
          },
          "colorway": [
           "#636efa",
           "#EF553B",
           "#00cc96",
           "#ab63fa",
           "#FFA15A",
           "#19d3f3",
           "#FF6692",
           "#B6E880",
           "#FF97FF",
           "#FECB52"
          ],
          "font": {
           "color": "#2a3f5f"
          },
          "geo": {
           "bgcolor": "white",
           "lakecolor": "white",
           "landcolor": "#E5ECF6",
           "showlakes": true,
           "showland": true,
           "subunitcolor": "white"
          },
          "hoverlabel": {
           "align": "left"
          },
          "hovermode": "closest",
          "mapbox": {
           "style": "light"
          },
          "paper_bgcolor": "white",
          "plot_bgcolor": "#E5ECF6",
          "polar": {
           "angularaxis": {
            "gridcolor": "white",
            "linecolor": "white",
            "ticks": ""
           },
           "bgcolor": "#E5ECF6",
           "radialaxis": {
            "gridcolor": "white",
            "linecolor": "white",
            "ticks": ""
           }
          },
          "scene": {
           "xaxis": {
            "backgroundcolor": "#E5ECF6",
            "gridcolor": "white",
            "gridwidth": 2,
            "linecolor": "white",
            "showbackground": true,
            "ticks": "",
            "zerolinecolor": "white"
           },
           "yaxis": {
            "backgroundcolor": "#E5ECF6",
            "gridcolor": "white",
            "gridwidth": 2,
            "linecolor": "white",
            "showbackground": true,
            "ticks": "",
            "zerolinecolor": "white"
           },
           "zaxis": {
            "backgroundcolor": "#E5ECF6",
            "gridcolor": "white",
            "gridwidth": 2,
            "linecolor": "white",
            "showbackground": true,
            "ticks": "",
            "zerolinecolor": "white"
           }
          },
          "shapedefaults": {
           "line": {
            "color": "#2a3f5f"
           }
          },
          "ternary": {
           "aaxis": {
            "gridcolor": "white",
            "linecolor": "white",
            "ticks": ""
           },
           "baxis": {
            "gridcolor": "white",
            "linecolor": "white",
            "ticks": ""
           },
           "bgcolor": "#E5ECF6",
           "caxis": {
            "gridcolor": "white",
            "linecolor": "white",
            "ticks": ""
           }
          },
          "title": {
           "x": 0.05
          },
          "xaxis": {
           "automargin": true,
           "gridcolor": "white",
           "linecolor": "white",
           "ticks": "",
           "title": {
            "standoff": 15
           },
           "zerolinecolor": "white",
           "zerolinewidth": 2
          },
          "yaxis": {
           "automargin": true,
           "gridcolor": "white",
           "linecolor": "white",
           "ticks": "",
           "title": {
            "standoff": 15
           },
           "zerolinecolor": "white",
           "zerolinewidth": 2
          }
         }
        },
        "title": {
         "text": "World's least happiest countries in 2021"
        },
        "xaxis": {
         "anchor": "y",
         "categoryarray": [
          "Lebanon",
          "Afghanistan",
          "Zambia",
          "Zimbabwe",
          "India",
          "Malawi",
          "Tanzania",
          "Sierra Leone",
          "Jordan",
          "Egypt"
         ],
         "categoryorder": "array",
         "domain": [
          0,
          1
         ],
         "title": {
          "text": "Country name"
         }
        },
        "yaxis": {
         "anchor": "x",
         "domain": [
          0,
          1
         ],
         "title": {
          "text": "Life Ladder"
         }
        }
       }
      },
      "text/html": [
       "<div>                            <div id=\"29bbb33f-b2ed-4958-bb4e-b84d864e4b57\" class=\"plotly-graph-div\" style=\"height:525px; width:100%;\"></div>            <script type=\"text/javascript\">                require([\"plotly\"], function(Plotly) {                    window.PLOTLYENV=window.PLOTLYENV || {};                                    if (document.getElementById(\"29bbb33f-b2ed-4958-bb4e-b84d864e4b57\")) {                    Plotly.newPlot(                        \"29bbb33f-b2ed-4958-bb4e-b84d864e4b57\",                        [{\"alignmentgroup\":\"True\",\"hovertemplate\":\"Country name=%{x}<br>Life Ladder=%{y}<extra></extra>\",\"legendgroup\":\"Lebanon\",\"marker\":{\"color\":\"#636efa\",\"pattern\":{\"shape\":\"\"}},\"name\":\"Lebanon\",\"offsetgroup\":\"Lebanon\",\"orientation\":\"v\",\"showlegend\":true,\"textposition\":\"auto\",\"x\":[\"Lebanon\"],\"xaxis\":\"x\",\"y\":[2.178809404],\"yaxis\":\"y\",\"type\":\"bar\"},{\"alignmentgroup\":\"True\",\"hovertemplate\":\"Country name=%{x}<br>Life Ladder=%{y}<extra></extra>\",\"legendgroup\":\"Afghanistan\",\"marker\":{\"color\":\"#EF553B\",\"pattern\":{\"shape\":\"\"}},\"name\":\"Afghanistan\",\"offsetgroup\":\"Afghanistan\",\"orientation\":\"v\",\"showlegend\":true,\"textposition\":\"auto\",\"x\":[\"Afghanistan\"],\"xaxis\":\"x\",\"y\":[2.436034441],\"yaxis\":\"y\",\"type\":\"bar\"},{\"alignmentgroup\":\"True\",\"hovertemplate\":\"Country name=%{x}<br>Life Ladder=%{y}<extra></extra>\",\"legendgroup\":\"Zambia\",\"marker\":{\"color\":\"#00cc96\",\"pattern\":{\"shape\":\"\"}},\"name\":\"Zambia\",\"offsetgroup\":\"Zambia\",\"orientation\":\"v\",\"showlegend\":true,\"textposition\":\"auto\",\"x\":[\"Zambia\"],\"xaxis\":\"x\",\"y\":[3.082154989],\"yaxis\":\"y\",\"type\":\"bar\"},{\"alignmentgroup\":\"True\",\"hovertemplate\":\"Country name=%{x}<br>Life Ladder=%{y}<extra></extra>\",\"legendgroup\":\"Zimbabwe\",\"marker\":{\"color\":\"#ab63fa\",\"pattern\":{\"shape\":\"\"}},\"name\":\"Zimbabwe\",\"offsetgroup\":\"Zimbabwe\",\"orientation\":\"v\",\"showlegend\":true,\"textposition\":\"auto\",\"x\":[\"Zimbabwe\"],\"xaxis\":\"x\",\"y\":[3.154578209],\"yaxis\":\"y\",\"type\":\"bar\"},{\"alignmentgroup\":\"True\",\"hovertemplate\":\"Country name=%{x}<br>Life Ladder=%{y}<extra></extra>\",\"legendgroup\":\"India\",\"marker\":{\"color\":\"#FFA15A\",\"pattern\":{\"shape\":\"\"}},\"name\":\"India\",\"offsetgroup\":\"India\",\"orientation\":\"v\",\"showlegend\":true,\"textposition\":\"auto\",\"x\":[\"India\"],\"xaxis\":\"x\",\"y\":[3.558253765],\"yaxis\":\"y\",\"type\":\"bar\"},{\"alignmentgroup\":\"True\",\"hovertemplate\":\"Country name=%{x}<br>Life Ladder=%{y}<extra></extra>\",\"legendgroup\":\"Malawi\",\"marker\":{\"color\":\"#19d3f3\",\"pattern\":{\"shape\":\"\"}},\"name\":\"Malawi\",\"offsetgroup\":\"Malawi\",\"orientation\":\"v\",\"showlegend\":true,\"textposition\":\"auto\",\"x\":[\"Malawi\"],\"xaxis\":\"x\",\"y\":[3.635283232],\"yaxis\":\"y\",\"type\":\"bar\"},{\"alignmentgroup\":\"True\",\"hovertemplate\":\"Country name=%{x}<br>Life Ladder=%{y}<extra></extra>\",\"legendgroup\":\"Tanzania\",\"marker\":{\"color\":\"#FF6692\",\"pattern\":{\"shape\":\"\"}},\"name\":\"Tanzania\",\"offsetgroup\":\"Tanzania\",\"orientation\":\"v\",\"showlegend\":true,\"textposition\":\"auto\",\"x\":[\"Tanzania\"],\"xaxis\":\"x\",\"y\":[3.68056798],\"yaxis\":\"y\",\"type\":\"bar\"},{\"alignmentgroup\":\"True\",\"hovertemplate\":\"Country name=%{x}<br>Life Ladder=%{y}<extra></extra>\",\"legendgroup\":\"Sierra Leone\",\"marker\":{\"color\":\"#B6E880\",\"pattern\":{\"shape\":\"\"}},\"name\":\"Sierra Leone\",\"offsetgroup\":\"Sierra Leone\",\"orientation\":\"v\",\"showlegend\":true,\"textposition\":\"auto\",\"x\":[\"Sierra Leone\"],\"xaxis\":\"x\",\"y\":[3.714294434],\"yaxis\":\"y\",\"type\":\"bar\"},{\"alignmentgroup\":\"True\",\"hovertemplate\":\"Country name=%{x}<br>Life Ladder=%{y}<extra></extra>\",\"legendgroup\":\"Jordan\",\"marker\":{\"color\":\"#FF97FF\",\"pattern\":{\"shape\":\"\"}},\"name\":\"Jordan\",\"offsetgroup\":\"Jordan\",\"orientation\":\"v\",\"showlegend\":true,\"textposition\":\"auto\",\"x\":[\"Jordan\"],\"xaxis\":\"x\",\"y\":[3.90914917],\"yaxis\":\"y\",\"type\":\"bar\"},{\"alignmentgroup\":\"True\",\"hovertemplate\":\"Country name=%{x}<br>Life Ladder=%{y}<extra></extra>\",\"legendgroup\":\"Egypt\",\"marker\":{\"color\":\"#FECB52\",\"pattern\":{\"shape\":\"\"}},\"name\":\"Egypt\",\"offsetgroup\":\"Egypt\",\"orientation\":\"v\",\"showlegend\":true,\"textposition\":\"auto\",\"x\":[\"Egypt\"],\"xaxis\":\"x\",\"y\":[4.025747776],\"yaxis\":\"y\",\"type\":\"bar\"}],                        {\"template\":{\"data\":{\"histogram2dcontour\":[{\"type\":\"histogram2dcontour\",\"colorbar\":{\"outlinewidth\":0,\"ticks\":\"\"},\"colorscale\":[[0.0,\"#0d0887\"],[0.1111111111111111,\"#46039f\"],[0.2222222222222222,\"#7201a8\"],[0.3333333333333333,\"#9c179e\"],[0.4444444444444444,\"#bd3786\"],[0.5555555555555556,\"#d8576b\"],[0.6666666666666666,\"#ed7953\"],[0.7777777777777778,\"#fb9f3a\"],[0.8888888888888888,\"#fdca26\"],[1.0,\"#f0f921\"]]}],\"choropleth\":[{\"type\":\"choropleth\",\"colorbar\":{\"outlinewidth\":0,\"ticks\":\"\"}}],\"histogram2d\":[{\"type\":\"histogram2d\",\"colorbar\":{\"outlinewidth\":0,\"ticks\":\"\"},\"colorscale\":[[0.0,\"#0d0887\"],[0.1111111111111111,\"#46039f\"],[0.2222222222222222,\"#7201a8\"],[0.3333333333333333,\"#9c179e\"],[0.4444444444444444,\"#bd3786\"],[0.5555555555555556,\"#d8576b\"],[0.6666666666666666,\"#ed7953\"],[0.7777777777777778,\"#fb9f3a\"],[0.8888888888888888,\"#fdca26\"],[1.0,\"#f0f921\"]]}],\"heatmap\":[{\"type\":\"heatmap\",\"colorbar\":{\"outlinewidth\":0,\"ticks\":\"\"},\"colorscale\":[[0.0,\"#0d0887\"],[0.1111111111111111,\"#46039f\"],[0.2222222222222222,\"#7201a8\"],[0.3333333333333333,\"#9c179e\"],[0.4444444444444444,\"#bd3786\"],[0.5555555555555556,\"#d8576b\"],[0.6666666666666666,\"#ed7953\"],[0.7777777777777778,\"#fb9f3a\"],[0.8888888888888888,\"#fdca26\"],[1.0,\"#f0f921\"]]}],\"heatmapgl\":[{\"type\":\"heatmapgl\",\"colorbar\":{\"outlinewidth\":0,\"ticks\":\"\"},\"colorscale\":[[0.0,\"#0d0887\"],[0.1111111111111111,\"#46039f\"],[0.2222222222222222,\"#7201a8\"],[0.3333333333333333,\"#9c179e\"],[0.4444444444444444,\"#bd3786\"],[0.5555555555555556,\"#d8576b\"],[0.6666666666666666,\"#ed7953\"],[0.7777777777777778,\"#fb9f3a\"],[0.8888888888888888,\"#fdca26\"],[1.0,\"#f0f921\"]]}],\"contourcarpet\":[{\"type\":\"contourcarpet\",\"colorbar\":{\"outlinewidth\":0,\"ticks\":\"\"}}],\"contour\":[{\"type\":\"contour\",\"colorbar\":{\"outlinewidth\":0,\"ticks\":\"\"},\"colorscale\":[[0.0,\"#0d0887\"],[0.1111111111111111,\"#46039f\"],[0.2222222222222222,\"#7201a8\"],[0.3333333333333333,\"#9c179e\"],[0.4444444444444444,\"#bd3786\"],[0.5555555555555556,\"#d8576b\"],[0.6666666666666666,\"#ed7953\"],[0.7777777777777778,\"#fb9f3a\"],[0.8888888888888888,\"#fdca26\"],[1.0,\"#f0f921\"]]}],\"surface\":[{\"type\":\"surface\",\"colorbar\":{\"outlinewidth\":0,\"ticks\":\"\"},\"colorscale\":[[0.0,\"#0d0887\"],[0.1111111111111111,\"#46039f\"],[0.2222222222222222,\"#7201a8\"],[0.3333333333333333,\"#9c179e\"],[0.4444444444444444,\"#bd3786\"],[0.5555555555555556,\"#d8576b\"],[0.6666666666666666,\"#ed7953\"],[0.7777777777777778,\"#fb9f3a\"],[0.8888888888888888,\"#fdca26\"],[1.0,\"#f0f921\"]]}],\"mesh3d\":[{\"type\":\"mesh3d\",\"colorbar\":{\"outlinewidth\":0,\"ticks\":\"\"}}],\"scatter\":[{\"fillpattern\":{\"fillmode\":\"overlay\",\"size\":10,\"solidity\":0.2},\"type\":\"scatter\"}],\"parcoords\":[{\"type\":\"parcoords\",\"line\":{\"colorbar\":{\"outlinewidth\":0,\"ticks\":\"\"}}}],\"scatterpolargl\":[{\"type\":\"scatterpolargl\",\"marker\":{\"colorbar\":{\"outlinewidth\":0,\"ticks\":\"\"}}}],\"bar\":[{\"error_x\":{\"color\":\"#2a3f5f\"},\"error_y\":{\"color\":\"#2a3f5f\"},\"marker\":{\"line\":{\"color\":\"#E5ECF6\",\"width\":0.5},\"pattern\":{\"fillmode\":\"overlay\",\"size\":10,\"solidity\":0.2}},\"type\":\"bar\"}],\"scattergeo\":[{\"type\":\"scattergeo\",\"marker\":{\"colorbar\":{\"outlinewidth\":0,\"ticks\":\"\"}}}],\"scatterpolar\":[{\"type\":\"scatterpolar\",\"marker\":{\"colorbar\":{\"outlinewidth\":0,\"ticks\":\"\"}}}],\"histogram\":[{\"marker\":{\"pattern\":{\"fillmode\":\"overlay\",\"size\":10,\"solidity\":0.2}},\"type\":\"histogram\"}],\"scattergl\":[{\"type\":\"scattergl\",\"marker\":{\"colorbar\":{\"outlinewidth\":0,\"ticks\":\"\"}}}],\"scatter3d\":[{\"type\":\"scatter3d\",\"line\":{\"colorbar\":{\"outlinewidth\":0,\"ticks\":\"\"}},\"marker\":{\"colorbar\":{\"outlinewidth\":0,\"ticks\":\"\"}}}],\"scattermapbox\":[{\"type\":\"scattermapbox\",\"marker\":{\"colorbar\":{\"outlinewidth\":0,\"ticks\":\"\"}}}],\"scatterternary\":[{\"type\":\"scatterternary\",\"marker\":{\"colorbar\":{\"outlinewidth\":0,\"ticks\":\"\"}}}],\"scattercarpet\":[{\"type\":\"scattercarpet\",\"marker\":{\"colorbar\":{\"outlinewidth\":0,\"ticks\":\"\"}}}],\"carpet\":[{\"aaxis\":{\"endlinecolor\":\"#2a3f5f\",\"gridcolor\":\"white\",\"linecolor\":\"white\",\"minorgridcolor\":\"white\",\"startlinecolor\":\"#2a3f5f\"},\"baxis\":{\"endlinecolor\":\"#2a3f5f\",\"gridcolor\":\"white\",\"linecolor\":\"white\",\"minorgridcolor\":\"white\",\"startlinecolor\":\"#2a3f5f\"},\"type\":\"carpet\"}],\"table\":[{\"cells\":{\"fill\":{\"color\":\"#EBF0F8\"},\"line\":{\"color\":\"white\"}},\"header\":{\"fill\":{\"color\":\"#C8D4E3\"},\"line\":{\"color\":\"white\"}},\"type\":\"table\"}],\"barpolar\":[{\"marker\":{\"line\":{\"color\":\"#E5ECF6\",\"width\":0.5},\"pattern\":{\"fillmode\":\"overlay\",\"size\":10,\"solidity\":0.2}},\"type\":\"barpolar\"}],\"pie\":[{\"automargin\":true,\"type\":\"pie\"}]},\"layout\":{\"autotypenumbers\":\"strict\",\"colorway\":[\"#636efa\",\"#EF553B\",\"#00cc96\",\"#ab63fa\",\"#FFA15A\",\"#19d3f3\",\"#FF6692\",\"#B6E880\",\"#FF97FF\",\"#FECB52\"],\"font\":{\"color\":\"#2a3f5f\"},\"hovermode\":\"closest\",\"hoverlabel\":{\"align\":\"left\"},\"paper_bgcolor\":\"white\",\"plot_bgcolor\":\"#E5ECF6\",\"polar\":{\"bgcolor\":\"#E5ECF6\",\"angularaxis\":{\"gridcolor\":\"white\",\"linecolor\":\"white\",\"ticks\":\"\"},\"radialaxis\":{\"gridcolor\":\"white\",\"linecolor\":\"white\",\"ticks\":\"\"}},\"ternary\":{\"bgcolor\":\"#E5ECF6\",\"aaxis\":{\"gridcolor\":\"white\",\"linecolor\":\"white\",\"ticks\":\"\"},\"baxis\":{\"gridcolor\":\"white\",\"linecolor\":\"white\",\"ticks\":\"\"},\"caxis\":{\"gridcolor\":\"white\",\"linecolor\":\"white\",\"ticks\":\"\"}},\"coloraxis\":{\"colorbar\":{\"outlinewidth\":0,\"ticks\":\"\"}},\"colorscale\":{\"sequential\":[[0.0,\"#0d0887\"],[0.1111111111111111,\"#46039f\"],[0.2222222222222222,\"#7201a8\"],[0.3333333333333333,\"#9c179e\"],[0.4444444444444444,\"#bd3786\"],[0.5555555555555556,\"#d8576b\"],[0.6666666666666666,\"#ed7953\"],[0.7777777777777778,\"#fb9f3a\"],[0.8888888888888888,\"#fdca26\"],[1.0,\"#f0f921\"]],\"sequentialminus\":[[0.0,\"#0d0887\"],[0.1111111111111111,\"#46039f\"],[0.2222222222222222,\"#7201a8\"],[0.3333333333333333,\"#9c179e\"],[0.4444444444444444,\"#bd3786\"],[0.5555555555555556,\"#d8576b\"],[0.6666666666666666,\"#ed7953\"],[0.7777777777777778,\"#fb9f3a\"],[0.8888888888888888,\"#fdca26\"],[1.0,\"#f0f921\"]],\"diverging\":[[0,\"#8e0152\"],[0.1,\"#c51b7d\"],[0.2,\"#de77ae\"],[0.3,\"#f1b6da\"],[0.4,\"#fde0ef\"],[0.5,\"#f7f7f7\"],[0.6,\"#e6f5d0\"],[0.7,\"#b8e186\"],[0.8,\"#7fbc41\"],[0.9,\"#4d9221\"],[1,\"#276419\"]]},\"xaxis\":{\"gridcolor\":\"white\",\"linecolor\":\"white\",\"ticks\":\"\",\"title\":{\"standoff\":15},\"zerolinecolor\":\"white\",\"automargin\":true,\"zerolinewidth\":2},\"yaxis\":{\"gridcolor\":\"white\",\"linecolor\":\"white\",\"ticks\":\"\",\"title\":{\"standoff\":15},\"zerolinecolor\":\"white\",\"automargin\":true,\"zerolinewidth\":2},\"scene\":{\"xaxis\":{\"backgroundcolor\":\"#E5ECF6\",\"gridcolor\":\"white\",\"linecolor\":\"white\",\"showbackground\":true,\"ticks\":\"\",\"zerolinecolor\":\"white\",\"gridwidth\":2},\"yaxis\":{\"backgroundcolor\":\"#E5ECF6\",\"gridcolor\":\"white\",\"linecolor\":\"white\",\"showbackground\":true,\"ticks\":\"\",\"zerolinecolor\":\"white\",\"gridwidth\":2},\"zaxis\":{\"backgroundcolor\":\"#E5ECF6\",\"gridcolor\":\"white\",\"linecolor\":\"white\",\"showbackground\":true,\"ticks\":\"\",\"zerolinecolor\":\"white\",\"gridwidth\":2}},\"shapedefaults\":{\"line\":{\"color\":\"#2a3f5f\"}},\"annotationdefaults\":{\"arrowcolor\":\"#2a3f5f\",\"arrowhead\":0,\"arrowwidth\":1},\"geo\":{\"bgcolor\":\"white\",\"landcolor\":\"#E5ECF6\",\"subunitcolor\":\"white\",\"showland\":true,\"showlakes\":true,\"lakecolor\":\"white\"},\"title\":{\"x\":0.05},\"mapbox\":{\"style\":\"light\"}}},\"xaxis\":{\"anchor\":\"y\",\"domain\":[0.0,1.0],\"title\":{\"text\":\"Country name\"},\"categoryorder\":\"array\",\"categoryarray\":[\"Lebanon\",\"Afghanistan\",\"Zambia\",\"Zimbabwe\",\"India\",\"Malawi\",\"Tanzania\",\"Sierra Leone\",\"Jordan\",\"Egypt\"]},\"yaxis\":{\"anchor\":\"x\",\"domain\":[0.0,1.0],\"title\":{\"text\":\"Life Ladder\"}},\"legend\":{\"title\":{\"text\":\"Country name\"},\"tracegroupgap\":0},\"title\":{\"text\":\"World's least happiest countries in 2021\"},\"barmode\":\"relative\"},                        {\"responsive\": true}                    ).then(function(){\n",
       "                            \n",
       "var gd = document.getElementById('29bbb33f-b2ed-4958-bb4e-b84d864e4b57');\n",
       "var x = new MutationObserver(function (mutations, observer) {{\n",
       "        var display = window.getComputedStyle(gd).display;\n",
       "        if (!display || display === 'none') {{\n",
       "            console.log([gd, 'removed!']);\n",
       "            Plotly.purge(gd);\n",
       "            observer.disconnect();\n",
       "        }}\n",
       "}});\n",
       "\n",
       "// Listen for the removal of the full notebook cells\n",
       "var notebookContainer = gd.closest('#notebook-container');\n",
       "if (notebookContainer) {{\n",
       "    x.observe(notebookContainer, {childList: true});\n",
       "}}\n",
       "\n",
       "// Listen for the clearing of the current output cell\n",
       "var outputEl = gd.closest('.output');\n",
       "if (outputEl) {{\n",
       "    x.observe(outputEl, {childList: true});\n",
       "}}\n",
       "\n",
       "                        })                };                });            </script>        </div>"
      ]
     },
     "metadata": {},
     "output_type": "display_data"
    }
   ],
   "source": [
    "fig = px.bar(btm10, \n",
    "             x=\"Country name\", \n",
    "             y=\"Life Ladder\", \n",
    "             color=\"Country name\", \n",
    "             title=\"World's least happiest countries in 2021\")\n",
    "fig.show()"
   ]
  },
  {
   "attachments": {},
   "cell_type": "markdown",
   "metadata": {},
   "source": [
    "历年幸福度排名最靠后国家"
   ]
  },
  {
   "cell_type": "code",
   "execution_count": 83,
   "metadata": {},
   "outputs": [],
   "source": [
    "btm_country_list = []\n",
    "for i in range(2005, 2022):\n",
    "    # exec函数能执行函数中\" \"内的操作\n",
    "    exec(\"btm_country=%s.sort_values(by=['Life Ladder'],ascending=True)\"%dfyear_list[i-2005])\n",
    "    exec(\"btm_country=btm_country.iloc[0,0:3]\")\n",
    "    btm_country_list.append(btm_country)\n",
    "\n",
    "df_btmcountry = pd.DataFrame(btm_country_list)"
   ]
  },
  {
   "cell_type": "code",
   "execution_count": 84,
   "metadata": {},
   "outputs": [
    {
     "data": {
      "text/html": [
       "<div>\n",
       "<style scoped>\n",
       "    .dataframe tbody tr th:only-of-type {\n",
       "        vertical-align: middle;\n",
       "    }\n",
       "\n",
       "    .dataframe tbody tr th {\n",
       "        vertical-align: top;\n",
       "    }\n",
       "\n",
       "    .dataframe thead th {\n",
       "        text-align: right;\n",
       "    }\n",
       "</style>\n",
       "<table border=\"1\" class=\"dataframe\">\n",
       "  <thead>\n",
       "    <tr style=\"text-align: right;\">\n",
       "      <th></th>\n",
       "      <th>Country name</th>\n",
       "      <th>year</th>\n",
       "      <th>Life Ladder</th>\n",
       "    </tr>\n",
       "  </thead>\n",
       "  <tbody>\n",
       "    <tr>\n",
       "      <th>0</th>\n",
       "      <td>Turkey</td>\n",
       "      <td>2005</td>\n",
       "      <td>4.718734</td>\n",
       "    </tr>\n",
       "    <tr>\n",
       "      <th>1</th>\n",
       "      <td>Togo</td>\n",
       "      <td>2006</td>\n",
       "      <td>3.202429</td>\n",
       "    </tr>\n",
       "    <tr>\n",
       "      <th>2</th>\n",
       "      <td>Zimbabwe</td>\n",
       "      <td>2007</td>\n",
       "      <td>3.280247</td>\n",
       "    </tr>\n",
       "    <tr>\n",
       "      <th>3</th>\n",
       "      <td>Togo</td>\n",
       "      <td>2008</td>\n",
       "      <td>2.807855</td>\n",
       "    </tr>\n",
       "    <tr>\n",
       "      <th>4</th>\n",
       "      <td>Tanzania</td>\n",
       "      <td>2009</td>\n",
       "      <td>3.407508</td>\n",
       "    </tr>\n",
       "    <tr>\n",
       "      <th>5</th>\n",
       "      <td>Tanzania</td>\n",
       "      <td>2010</td>\n",
       "      <td>3.229129</td>\n",
       "    </tr>\n",
       "    <tr>\n",
       "      <th>6</th>\n",
       "      <td>Togo</td>\n",
       "      <td>2011</td>\n",
       "      <td>2.936221</td>\n",
       "    </tr>\n",
       "    <tr>\n",
       "      <th>7</th>\n",
       "      <td>Syria</td>\n",
       "      <td>2012</td>\n",
       "      <td>3.164491</td>\n",
       "    </tr>\n",
       "    <tr>\n",
       "      <th>8</th>\n",
       "      <td>Syria</td>\n",
       "      <td>2013</td>\n",
       "      <td>2.687553</td>\n",
       "    </tr>\n",
       "    <tr>\n",
       "      <th>9</th>\n",
       "      <td>Togo</td>\n",
       "      <td>2014</td>\n",
       "      <td>2.838959</td>\n",
       "    </tr>\n",
       "    <tr>\n",
       "      <th>10</th>\n",
       "      <td>Liberia</td>\n",
       "      <td>2015</td>\n",
       "      <td>2.701591</td>\n",
       "    </tr>\n",
       "    <tr>\n",
       "      <th>11</th>\n",
       "      <td>Central African Republic</td>\n",
       "      <td>2016</td>\n",
       "      <td>2.693061</td>\n",
       "    </tr>\n",
       "    <tr>\n",
       "      <th>12</th>\n",
       "      <td>Afghanistan</td>\n",
       "      <td>2017</td>\n",
       "      <td>2.661718</td>\n",
       "    </tr>\n",
       "    <tr>\n",
       "      <th>13</th>\n",
       "      <td>Afghanistan</td>\n",
       "      <td>2018</td>\n",
       "      <td>2.694303</td>\n",
       "    </tr>\n",
       "    <tr>\n",
       "      <th>14</th>\n",
       "      <td>Afghanistan</td>\n",
       "      <td>2019</td>\n",
       "      <td>2.375092</td>\n",
       "    </tr>\n",
       "    <tr>\n",
       "      <th>15</th>\n",
       "      <td>Lebanon</td>\n",
       "      <td>2020</td>\n",
       "      <td>2.633753</td>\n",
       "    </tr>\n",
       "    <tr>\n",
       "      <th>16</th>\n",
       "      <td>Lebanon</td>\n",
       "      <td>2021</td>\n",
       "      <td>2.178809</td>\n",
       "    </tr>\n",
       "  </tbody>\n",
       "</table>\n",
       "</div>"
      ],
      "text/plain": [
       "                Country name  year  Life Ladder\n",
       "0                     Turkey  2005     4.718734\n",
       "1                       Togo  2006     3.202429\n",
       "2                   Zimbabwe  2007     3.280247\n",
       "3                       Togo  2008     2.807855\n",
       "4                   Tanzania  2009     3.407508\n",
       "5                   Tanzania  2010     3.229129\n",
       "6                       Togo  2011     2.936221\n",
       "7                      Syria  2012     3.164491\n",
       "8                      Syria  2013     2.687553\n",
       "9                       Togo  2014     2.838959\n",
       "10                   Liberia  2015     2.701591\n",
       "11  Central African Republic  2016     2.693061\n",
       "12               Afghanistan  2017     2.661718\n",
       "13               Afghanistan  2018     2.694303\n",
       "14               Afghanistan  2019     2.375092\n",
       "15                   Lebanon  2020     2.633753\n",
       "16                   Lebanon  2021     2.178809"
      ]
     },
     "execution_count": 84,
     "metadata": {},
     "output_type": "execute_result"
    }
   ],
   "source": [
    "df_btmcountry.index = range(0, df_btmcountry.iloc[:,0].size)\n",
    "df_btmcountry"
   ]
  },
  {
   "attachments": {},
   "cell_type": "markdown",
   "metadata": {},
   "source": [
    "可以看出Togo排过4次倒数第一"
   ]
  },
  {
   "attachments": {},
   "cell_type": "markdown",
   "metadata": {},
   "source": [
    "### 5.分析中国的幸福度排名"
   ]
  },
  {
   "cell_type": "code",
   "execution_count": 85,
   "metadata": {},
   "outputs": [
    {
     "data": {
      "text/html": [
       "<div>\n",
       "<style scoped>\n",
       "    .dataframe tbody tr th:only-of-type {\n",
       "        vertical-align: middle;\n",
       "    }\n",
       "\n",
       "    .dataframe tbody tr th {\n",
       "        vertical-align: top;\n",
       "    }\n",
       "\n",
       "    .dataframe thead th {\n",
       "        text-align: right;\n",
       "    }\n",
       "</style>\n",
       "<table border=\"1\" class=\"dataframe\">\n",
       "  <thead>\n",
       "    <tr style=\"text-align: right;\">\n",
       "      <th></th>\n",
       "      <th>Country name</th>\n",
       "      <th>year</th>\n",
       "      <th>Life Ladder</th>\n",
       "      <th>Log GDP per capita</th>\n",
       "      <th>Social support</th>\n",
       "      <th>Healthy life expectancy at birth</th>\n",
       "      <th>Freedom to make life choices</th>\n",
       "      <th>Generosity</th>\n",
       "      <th>Perceptions of corruption</th>\n",
       "      <th>Positive affect</th>\n",
       "      <th>Negative affect</th>\n",
       "      <th>Confidence in national government</th>\n",
       "    </tr>\n",
       "  </thead>\n",
       "  <tbody>\n",
       "    <tr>\n",
       "      <th>65</th>\n",
       "      <td>China</td>\n",
       "      <td>2006</td>\n",
       "      <td>4.560495</td>\n",
       "      <td>8.696139</td>\n",
       "      <td>0.747011</td>\n",
       "      <td>65.660004</td>\n",
       "      <td>0.848398</td>\n",
       "      <td>-0.158575</td>\n",
       "      <td>0.739114</td>\n",
       "      <td>0.657659</td>\n",
       "      <td>0.169580</td>\n",
       "      <td>0.494189</td>\n",
       "    </tr>\n",
       "    <tr>\n",
       "      <th>70</th>\n",
       "      <td>China</td>\n",
       "      <td>2007</td>\n",
       "      <td>4.862862</td>\n",
       "      <td>8.823968</td>\n",
       "      <td>0.810852</td>\n",
       "      <td>65.919998</td>\n",
       "      <td>0.848398</td>\n",
       "      <td>-0.176961</td>\n",
       "      <td>0.739114</td>\n",
       "      <td>0.663977</td>\n",
       "      <td>0.158614</td>\n",
       "      <td>0.494189</td>\n",
       "    </tr>\n",
       "    <tr>\n",
       "      <th>71</th>\n",
       "      <td>China</td>\n",
       "      <td>2008</td>\n",
       "      <td>4.846295</td>\n",
       "      <td>8.910974</td>\n",
       "      <td>0.748287</td>\n",
       "      <td>66.180000</td>\n",
       "      <td>0.853072</td>\n",
       "      <td>-0.093270</td>\n",
       "      <td>0.739114</td>\n",
       "      <td>0.705133</td>\n",
       "      <td>0.146963</td>\n",
       "      <td>0.494189</td>\n",
       "    </tr>\n",
       "    <tr>\n",
       "      <th>94</th>\n",
       "      <td>China</td>\n",
       "      <td>2009</td>\n",
       "      <td>4.454361</td>\n",
       "      <td>8.995829</td>\n",
       "      <td>0.798034</td>\n",
       "      <td>66.440002</td>\n",
       "      <td>0.771143</td>\n",
       "      <td>-0.161358</td>\n",
       "      <td>0.739114</td>\n",
       "      <td>0.669666</td>\n",
       "      <td>0.161650</td>\n",
       "      <td>0.494189</td>\n",
       "    </tr>\n",
       "    <tr>\n",
       "      <th>92</th>\n",
       "      <td>China</td>\n",
       "      <td>2010</td>\n",
       "      <td>4.652737</td>\n",
       "      <td>9.092073</td>\n",
       "      <td>0.767753</td>\n",
       "      <td>66.699997</td>\n",
       "      <td>0.804794</td>\n",
       "      <td>-0.134285</td>\n",
       "      <td>0.739114</td>\n",
       "      <td>0.658101</td>\n",
       "      <td>0.158100</td>\n",
       "      <td>0.494189</td>\n",
       "    </tr>\n",
       "    <tr>\n",
       "      <th>80</th>\n",
       "      <td>China</td>\n",
       "      <td>2011</td>\n",
       "      <td>5.037208</td>\n",
       "      <td>9.177827</td>\n",
       "      <td>0.787171</td>\n",
       "      <td>66.959999</td>\n",
       "      <td>0.824162</td>\n",
       "      <td>-0.187382</td>\n",
       "      <td>0.739114</td>\n",
       "      <td>0.710055</td>\n",
       "      <td>0.133503</td>\n",
       "      <td>0.494189</td>\n",
       "    </tr>\n",
       "    <tr>\n",
       "      <th>82</th>\n",
       "      <td>China</td>\n",
       "      <td>2012</td>\n",
       "      <td>5.094917</td>\n",
       "      <td>9.246742</td>\n",
       "      <td>0.787818</td>\n",
       "      <td>67.220001</td>\n",
       "      <td>0.808255</td>\n",
       "      <td>-0.185606</td>\n",
       "      <td>0.739114</td>\n",
       "      <td>0.689160</td>\n",
       "      <td>0.158703</td>\n",
       "      <td>0.494189</td>\n",
       "    </tr>\n",
       "    <tr>\n",
       "      <th>71</th>\n",
       "      <td>China</td>\n",
       "      <td>2013</td>\n",
       "      <td>5.241090</td>\n",
       "      <td>9.314875</td>\n",
       "      <td>0.777896</td>\n",
       "      <td>67.480003</td>\n",
       "      <td>0.804724</td>\n",
       "      <td>-0.158647</td>\n",
       "      <td>0.739114</td>\n",
       "      <td>0.717136</td>\n",
       "      <td>0.142211</td>\n",
       "      <td>0.494189</td>\n",
       "    </tr>\n",
       "    <tr>\n",
       "      <th>82</th>\n",
       "      <td>China</td>\n",
       "      <td>2014</td>\n",
       "      <td>5.195619</td>\n",
       "      <td>9.380201</td>\n",
       "      <td>0.820366</td>\n",
       "      <td>67.739998</td>\n",
       "      <td>0.848398</td>\n",
       "      <td>-0.217615</td>\n",
       "      <td>0.739114</td>\n",
       "      <td>0.709763</td>\n",
       "      <td>0.111518</td>\n",
       "      <td>0.494189</td>\n",
       "    </tr>\n",
       "    <tr>\n",
       "      <th>74</th>\n",
       "      <td>China</td>\n",
       "      <td>2015</td>\n",
       "      <td>5.303878</td>\n",
       "      <td>9.442431</td>\n",
       "      <td>0.793734</td>\n",
       "      <td>68.000000</td>\n",
       "      <td>0.848398</td>\n",
       "      <td>-0.245284</td>\n",
       "      <td>0.739114</td>\n",
       "      <td>0.666827</td>\n",
       "      <td>0.171315</td>\n",
       "      <td>0.494189</td>\n",
       "    </tr>\n",
       "    <tr>\n",
       "      <th>77</th>\n",
       "      <td>China</td>\n",
       "      <td>2016</td>\n",
       "      <td>5.324956</td>\n",
       "      <td>9.502946</td>\n",
       "      <td>0.741703</td>\n",
       "      <td>68.125000</td>\n",
       "      <td>0.848398</td>\n",
       "      <td>-0.228405</td>\n",
       "      <td>0.739114</td>\n",
       "      <td>0.683256</td>\n",
       "      <td>0.145625</td>\n",
       "      <td>0.494189</td>\n",
       "    </tr>\n",
       "    <tr>\n",
       "      <th>90</th>\n",
       "      <td>China</td>\n",
       "      <td>2017</td>\n",
       "      <td>5.099061</td>\n",
       "      <td>9.564058</td>\n",
       "      <td>0.772033</td>\n",
       "      <td>68.250000</td>\n",
       "      <td>0.877618</td>\n",
       "      <td>-0.175740</td>\n",
       "      <td>0.739114</td>\n",
       "      <td>0.681665</td>\n",
       "      <td>0.214005</td>\n",
       "      <td>0.494189</td>\n",
       "    </tr>\n",
       "    <tr>\n",
       "      <th>90</th>\n",
       "      <td>China</td>\n",
       "      <td>2018</td>\n",
       "      <td>5.131434</td>\n",
       "      <td>9.624699</td>\n",
       "      <td>0.787605</td>\n",
       "      <td>68.375000</td>\n",
       "      <td>0.895378</td>\n",
       "      <td>-0.159466</td>\n",
       "      <td>0.739114</td>\n",
       "      <td>0.721579</td>\n",
       "      <td>0.189640</td>\n",
       "      <td>0.494189</td>\n",
       "    </tr>\n",
       "    <tr>\n",
       "      <th>91</th>\n",
       "      <td>China</td>\n",
       "      <td>2019</td>\n",
       "      <td>5.144120</td>\n",
       "      <td>9.678946</td>\n",
       "      <td>0.821936</td>\n",
       "      <td>68.500000</td>\n",
       "      <td>0.927356</td>\n",
       "      <td>-0.173937</td>\n",
       "      <td>0.739114</td>\n",
       "      <td>0.760267</td>\n",
       "      <td>0.146512</td>\n",
       "      <td>0.494189</td>\n",
       "    </tr>\n",
       "    <tr>\n",
       "      <th>58</th>\n",
       "      <td>China</td>\n",
       "      <td>2020</td>\n",
       "      <td>5.771065</td>\n",
       "      <td>9.699890</td>\n",
       "      <td>0.808334</td>\n",
       "      <td>68.625000</td>\n",
       "      <td>0.891123</td>\n",
       "      <td>-0.104621</td>\n",
       "      <td>0.739114</td>\n",
       "      <td>0.662961</td>\n",
       "      <td>0.244918</td>\n",
       "      <td>0.494189</td>\n",
       "    </tr>\n",
       "    <tr>\n",
       "      <th>58</th>\n",
       "      <td>China</td>\n",
       "      <td>2021</td>\n",
       "      <td>5.862864</td>\n",
       "      <td>9.776109</td>\n",
       "      <td>0.856007</td>\n",
       "      <td>68.750000</td>\n",
       "      <td>0.874756</td>\n",
       "      <td>0.023953</td>\n",
       "      <td>0.739114</td>\n",
       "      <td>0.697810</td>\n",
       "      <td>0.239618</td>\n",
       "      <td>0.494189</td>\n",
       "    </tr>\n",
       "  </tbody>\n",
       "</table>\n",
       "</div>"
      ],
      "text/plain": [
       "   Country name  year  Life Ladder  Log GDP per capita  Social support  \\\n",
       "65        China  2006     4.560495            8.696139        0.747011   \n",
       "70        China  2007     4.862862            8.823968        0.810852   \n",
       "71        China  2008     4.846295            8.910974        0.748287   \n",
       "94        China  2009     4.454361            8.995829        0.798034   \n",
       "92        China  2010     4.652737            9.092073        0.767753   \n",
       "80        China  2011     5.037208            9.177827        0.787171   \n",
       "82        China  2012     5.094917            9.246742        0.787818   \n",
       "71        China  2013     5.241090            9.314875        0.777896   \n",
       "82        China  2014     5.195619            9.380201        0.820366   \n",
       "74        China  2015     5.303878            9.442431        0.793734   \n",
       "77        China  2016     5.324956            9.502946        0.741703   \n",
       "90        China  2017     5.099061            9.564058        0.772033   \n",
       "90        China  2018     5.131434            9.624699        0.787605   \n",
       "91        China  2019     5.144120            9.678946        0.821936   \n",
       "58        China  2020     5.771065            9.699890        0.808334   \n",
       "58        China  2021     5.862864            9.776109        0.856007   \n",
       "\n",
       "    Healthy life expectancy at birth  Freedom to make life choices  \\\n",
       "65                         65.660004                      0.848398   \n",
       "70                         65.919998                      0.848398   \n",
       "71                         66.180000                      0.853072   \n",
       "94                         66.440002                      0.771143   \n",
       "92                         66.699997                      0.804794   \n",
       "80                         66.959999                      0.824162   \n",
       "82                         67.220001                      0.808255   \n",
       "71                         67.480003                      0.804724   \n",
       "82                         67.739998                      0.848398   \n",
       "74                         68.000000                      0.848398   \n",
       "77                         68.125000                      0.848398   \n",
       "90                         68.250000                      0.877618   \n",
       "90                         68.375000                      0.895378   \n",
       "91                         68.500000                      0.927356   \n",
       "58                         68.625000                      0.891123   \n",
       "58                         68.750000                      0.874756   \n",
       "\n",
       "    Generosity  Perceptions of corruption  Positive affect  Negative affect  \\\n",
       "65   -0.158575                   0.739114         0.657659         0.169580   \n",
       "70   -0.176961                   0.739114         0.663977         0.158614   \n",
       "71   -0.093270                   0.739114         0.705133         0.146963   \n",
       "94   -0.161358                   0.739114         0.669666         0.161650   \n",
       "92   -0.134285                   0.739114         0.658101         0.158100   \n",
       "80   -0.187382                   0.739114         0.710055         0.133503   \n",
       "82   -0.185606                   0.739114         0.689160         0.158703   \n",
       "71   -0.158647                   0.739114         0.717136         0.142211   \n",
       "82   -0.217615                   0.739114         0.709763         0.111518   \n",
       "74   -0.245284                   0.739114         0.666827         0.171315   \n",
       "77   -0.228405                   0.739114         0.683256         0.145625   \n",
       "90   -0.175740                   0.739114         0.681665         0.214005   \n",
       "90   -0.159466                   0.739114         0.721579         0.189640   \n",
       "91   -0.173937                   0.739114         0.760267         0.146512   \n",
       "58   -0.104621                   0.739114         0.662961         0.244918   \n",
       "58    0.023953                   0.739114         0.697810         0.239618   \n",
       "\n",
       "    Confidence in national government  \n",
       "65                           0.494189  \n",
       "70                           0.494189  \n",
       "71                           0.494189  \n",
       "94                           0.494189  \n",
       "92                           0.494189  \n",
       "80                           0.494189  \n",
       "82                           0.494189  \n",
       "71                           0.494189  \n",
       "82                           0.494189  \n",
       "74                           0.494189  \n",
       "77                           0.494189  \n",
       "90                           0.494189  \n",
       "90                           0.494189  \n",
       "91                           0.494189  \n",
       "58                           0.494189  \n",
       "58                           0.494189  "
      ]
     },
     "execution_count": 85,
     "metadata": {},
     "output_type": "execute_result"
    }
   ],
   "source": [
    "China_rank_list=[]\n",
    "for i in range(2005, 2022):\n",
    "    # exec函数能执行函数中\" \"内的操作\n",
    "    exec(\"dfbyyear_sort=%s.sort_values(by=['Life Ladder'],ascending=False)\"%dfyear_list[i-2005])\n",
    "    dfbyyear_sort.index=range(1,dfbyyear_sort.iloc[:,0].size+1)\n",
    "    exec(\"series_china=dfbyyear_sort.loc[dfbyyear_sort['Country name']=='China']\")\n",
    "    China_rank_list.append(series_china)\n",
    "\n",
    "df_China_rank = pd.concat(China_rank_list)\n",
    "df_China_rank"
   ]
  },
  {
   "cell_type": "code",
   "execution_count": 86,
   "metadata": {},
   "outputs": [
    {
     "name": "stderr",
     "output_type": "stream",
     "text": [
      "C:\\Users\\Administrator\\AppData\\Local\\Temp\\ipykernel_58616\\3645827521.py:7: UserWarning:\n",
      "\n",
      "color is redundantly defined by the 'color' keyword argument and the fmt string \"ro-\" (-> color='r'). The keyword argument will take precedence.\n",
      "\n"
     ]
    },
    {
     "data": {
      "image/png": "[encoded data removed]",
      "text/plain": [
       "<Figure size 576x396 with 1 Axes>"
      ]
     },
     "metadata": {},
     "output_type": "display_data"
    }
   ],
   "source": [
    "plt.rcParams['font.sans-serif'] = ['SimHei']  # 添加这条可以让图形显示中文\n",
    "\n",
    "x_axis_data = df_China_rank['year']\n",
    "y_axis_data = df_China_rank.index\n",
    "\n",
    "# plot中参数的含义分别是横轴值，纵轴值，线条格式，颜色，透明度,线的宽度和标签\n",
    "plt.plot(x_axis_data, y_axis_data, 'ro-', color='blue',\n",
    "         alpha=1, linewidth=1, label='China happiness ranking')\n",
    " \n",
    "# 给这个折线图中的点加数据标签\n",
    "for x, y in zip(x_axis_data, y_axis_data):\n",
    "    plt.text(x, y+0.3, '%.0f'%y, ha='center', va='bottom', fontsize=12)\n",
    "    # Add the text *s* to the Axes at location *x*, *y*(x,y)\n",
    " \n",
    "# 显示标签，如果不加这句，即使加了label='一些数字'的参数，最终还是不会显示标签\n",
    "plt.legend(loc=\"best\")\n",
    "plt.xlabel('年份')\n",
    "plt.ylabel('中国幸福度世界排名')\n",
    "plt.title(\"2005-2021中国幸福度世界排名\", fontdict={'size': 25})\n",
    "plt.show()"
   ]
  },
  {
   "attachments": {},
   "cell_type": "markdown",
   "metadata": {},
   "source": [
    "可以看出中国的世界幸福度排名在58名与94名间波动，2020年幸福度排名忽然从91名上升到了58名"
   ]
  },
  {
   "attachments": {},
   "cell_type": "markdown",
   "metadata": {},
   "source": [
    "### 6.求中国各项指标与世界平均水平的差，分析中国最容易在哪个方面做出提升来提高幸福度"
   ]
  },
  {
   "attachments": {},
   "cell_type": "markdown",
   "metadata": {},
   "source": [
    "这里我们用未补全的原始数据来分析（注意原始数据里中国的Perceptions of corruption与Confidence in national government是没有一个数据的，但在df_all_3里不分国家补全数据时给中国的这两个指标赋予了一个世界平均值）"
   ]
  },
  {
   "cell_type": "code",
   "execution_count": 87,
   "metadata": {},
   "outputs": [
    {
     "data": {
      "text/html": [
       "<div>\n",
       "<style scoped>\n",
       "    .dataframe tbody tr th:only-of-type {\n",
       "        vertical-align: middle;\n",
       "    }\n",
       "\n",
       "    .dataframe tbody tr th {\n",
       "        vertical-align: top;\n",
       "    }\n",
       "\n",
       "    .dataframe thead th {\n",
       "        text-align: right;\n",
       "    }\n",
       "</style>\n",
       "<table border=\"1\" class=\"dataframe\">\n",
       "  <thead>\n",
       "    <tr style=\"text-align: right;\">\n",
       "      <th></th>\n",
       "      <th>Country name</th>\n",
       "      <th>year</th>\n",
       "      <th>Life Ladder</th>\n",
       "      <th>Log GDP per capita</th>\n",
       "      <th>Social support</th>\n",
       "      <th>Healthy life expectancy at birth</th>\n",
       "      <th>Freedom to make life choices</th>\n",
       "      <th>Generosity</th>\n",
       "      <th>Perceptions of corruption</th>\n",
       "      <th>Positive affect</th>\n",
       "      <th>Negative affect</th>\n",
       "      <th>Confidence in national government</th>\n",
       "    </tr>\n",
       "  </thead>\n",
       "  <tbody>\n",
       "    <tr>\n",
       "      <th>1143</th>\n",
       "      <td>China</td>\n",
       "      <td>2006</td>\n",
       "      <td>4.560495</td>\n",
       "      <td>8.696139</td>\n",
       "      <td>0.747011</td>\n",
       "      <td>65.660004</td>\n",
       "      <td>NaN</td>\n",
       "      <td>NaN</td>\n",
       "      <td>NaN</td>\n",
       "      <td>0.657659</td>\n",
       "      <td>0.169580</td>\n",
       "      <td>NaN</td>\n",
       "    </tr>\n",
       "    <tr>\n",
       "      <th>1193</th>\n",
       "      <td>China</td>\n",
       "      <td>2007</td>\n",
       "      <td>4.862862</td>\n",
       "      <td>8.823968</td>\n",
       "      <td>0.810852</td>\n",
       "      <td>65.919998</td>\n",
       "      <td>NaN</td>\n",
       "      <td>-0.176961</td>\n",
       "      <td>NaN</td>\n",
       "      <td>0.663977</td>\n",
       "      <td>0.158614</td>\n",
       "      <td>NaN</td>\n",
       "    </tr>\n",
       "    <tr>\n",
       "      <th>1232</th>\n",
       "      <td>China</td>\n",
       "      <td>2008</td>\n",
       "      <td>4.846295</td>\n",
       "      <td>8.910974</td>\n",
       "      <td>0.748287</td>\n",
       "      <td>66.180000</td>\n",
       "      <td>0.853072</td>\n",
       "      <td>-0.093270</td>\n",
       "      <td>NaN</td>\n",
       "      <td>0.705133</td>\n",
       "      <td>0.146963</td>\n",
       "      <td>NaN</td>\n",
       "    </tr>\n",
       "    <tr>\n",
       "      <th>1273</th>\n",
       "      <td>China</td>\n",
       "      <td>2009</td>\n",
       "      <td>4.454361</td>\n",
       "      <td>8.995829</td>\n",
       "      <td>0.798034</td>\n",
       "      <td>66.440002</td>\n",
       "      <td>0.771143</td>\n",
       "      <td>-0.161358</td>\n",
       "      <td>NaN</td>\n",
       "      <td>0.669666</td>\n",
       "      <td>0.161650</td>\n",
       "      <td>NaN</td>\n",
       "    </tr>\n",
       "    <tr>\n",
       "      <th>1322</th>\n",
       "      <td>China</td>\n",
       "      <td>2010</td>\n",
       "      <td>4.652737</td>\n",
       "      <td>9.092073</td>\n",
       "      <td>0.767753</td>\n",
       "      <td>66.699997</td>\n",
       "      <td>0.804794</td>\n",
       "      <td>-0.134285</td>\n",
       "      <td>NaN</td>\n",
       "      <td>0.658101</td>\n",
       "      <td>0.158100</td>\n",
       "      <td>NaN</td>\n",
       "    </tr>\n",
       "    <tr>\n",
       "      <th>1365</th>\n",
       "      <td>China</td>\n",
       "      <td>2011</td>\n",
       "      <td>5.037208</td>\n",
       "      <td>9.177827</td>\n",
       "      <td>0.787171</td>\n",
       "      <td>66.959999</td>\n",
       "      <td>0.824162</td>\n",
       "      <td>-0.187382</td>\n",
       "      <td>NaN</td>\n",
       "      <td>0.710055</td>\n",
       "      <td>0.133503</td>\n",
       "      <td>NaN</td>\n",
       "    </tr>\n",
       "    <tr>\n",
       "      <th>1414</th>\n",
       "      <td>China</td>\n",
       "      <td>2012</td>\n",
       "      <td>5.094917</td>\n",
       "      <td>9.246742</td>\n",
       "      <td>0.787818</td>\n",
       "      <td>67.220001</td>\n",
       "      <td>0.808255</td>\n",
       "      <td>-0.185606</td>\n",
       "      <td>NaN</td>\n",
       "      <td>0.689160</td>\n",
       "      <td>0.158703</td>\n",
       "      <td>NaN</td>\n",
       "    </tr>\n",
       "    <tr>\n",
       "      <th>1438</th>\n",
       "      <td>China</td>\n",
       "      <td>2013</td>\n",
       "      <td>5.241090</td>\n",
       "      <td>9.314875</td>\n",
       "      <td>0.777896</td>\n",
       "      <td>67.480003</td>\n",
       "      <td>0.804724</td>\n",
       "      <td>-0.158647</td>\n",
       "      <td>NaN</td>\n",
       "      <td>0.717136</td>\n",
       "      <td>0.142211</td>\n",
       "      <td>NaN</td>\n",
       "    </tr>\n",
       "    <tr>\n",
       "      <th>1470</th>\n",
       "      <td>China</td>\n",
       "      <td>2014</td>\n",
       "      <td>5.195619</td>\n",
       "      <td>9.380201</td>\n",
       "      <td>0.820366</td>\n",
       "      <td>67.739998</td>\n",
       "      <td>NaN</td>\n",
       "      <td>-0.217615</td>\n",
       "      <td>NaN</td>\n",
       "      <td>0.709763</td>\n",
       "      <td>0.111518</td>\n",
       "      <td>NaN</td>\n",
       "    </tr>\n",
       "    <tr>\n",
       "      <th>1491</th>\n",
       "      <td>China</td>\n",
       "      <td>2015</td>\n",
       "      <td>5.303878</td>\n",
       "      <td>9.442431</td>\n",
       "      <td>0.793734</td>\n",
       "      <td>68.000000</td>\n",
       "      <td>NaN</td>\n",
       "      <td>-0.245284</td>\n",
       "      <td>NaN</td>\n",
       "      <td>0.666827</td>\n",
       "      <td>0.171315</td>\n",
       "      <td>NaN</td>\n",
       "    </tr>\n",
       "    <tr>\n",
       "      <th>1500</th>\n",
       "      <td>China</td>\n",
       "      <td>2016</td>\n",
       "      <td>5.324956</td>\n",
       "      <td>9.502946</td>\n",
       "      <td>0.741703</td>\n",
       "      <td>68.125000</td>\n",
       "      <td>NaN</td>\n",
       "      <td>-0.228405</td>\n",
       "      <td>NaN</td>\n",
       "      <td>0.683256</td>\n",
       "      <td>0.145625</td>\n",
       "      <td>NaN</td>\n",
       "    </tr>\n",
       "    <tr>\n",
       "      <th>1511</th>\n",
       "      <td>China</td>\n",
       "      <td>2017</td>\n",
       "      <td>5.099061</td>\n",
       "      <td>9.564058</td>\n",
       "      <td>0.772033</td>\n",
       "      <td>68.250000</td>\n",
       "      <td>0.877618</td>\n",
       "      <td>-0.175740</td>\n",
       "      <td>NaN</td>\n",
       "      <td>0.681665</td>\n",
       "      <td>0.214005</td>\n",
       "      <td>NaN</td>\n",
       "    </tr>\n",
       "    <tr>\n",
       "      <th>1524</th>\n",
       "      <td>China</td>\n",
       "      <td>2018</td>\n",
       "      <td>5.131434</td>\n",
       "      <td>9.624699</td>\n",
       "      <td>0.787605</td>\n",
       "      <td>68.375000</td>\n",
       "      <td>0.895378</td>\n",
       "      <td>-0.159466</td>\n",
       "      <td>NaN</td>\n",
       "      <td>0.721579</td>\n",
       "      <td>0.189640</td>\n",
       "      <td>NaN</td>\n",
       "    </tr>\n",
       "    <tr>\n",
       "      <th>1538</th>\n",
       "      <td>China</td>\n",
       "      <td>2019</td>\n",
       "      <td>5.144120</td>\n",
       "      <td>9.678946</td>\n",
       "      <td>0.821936</td>\n",
       "      <td>68.500000</td>\n",
       "      <td>0.927356</td>\n",
       "      <td>-0.173937</td>\n",
       "      <td>NaN</td>\n",
       "      <td>0.760267</td>\n",
       "      <td>0.146512</td>\n",
       "      <td>NaN</td>\n",
       "    </tr>\n",
       "    <tr>\n",
       "      <th>1549</th>\n",
       "      <td>China</td>\n",
       "      <td>2020</td>\n",
       "      <td>5.771065</td>\n",
       "      <td>9.699890</td>\n",
       "      <td>0.808334</td>\n",
       "      <td>68.625000</td>\n",
       "      <td>0.891123</td>\n",
       "      <td>-0.104621</td>\n",
       "      <td>NaN</td>\n",
       "      <td>0.662961</td>\n",
       "      <td>0.244918</td>\n",
       "      <td>NaN</td>\n",
       "    </tr>\n",
       "    <tr>\n",
       "      <th>1565</th>\n",
       "      <td>China</td>\n",
       "      <td>2021</td>\n",
       "      <td>5.862864</td>\n",
       "      <td>9.776109</td>\n",
       "      <td>0.856007</td>\n",
       "      <td>68.750000</td>\n",
       "      <td>0.874756</td>\n",
       "      <td>0.023953</td>\n",
       "      <td>NaN</td>\n",
       "      <td>0.697810</td>\n",
       "      <td>0.239618</td>\n",
       "      <td>NaN</td>\n",
       "    </tr>\n",
       "  </tbody>\n",
       "</table>\n",
       "</div>"
      ],
      "text/plain": [
       "     Country name  year  Life Ladder  Log GDP per capita  Social support  \\\n",
       "1143        China  2006     4.560495            8.696139        0.747011   \n",
       "1193        China  2007     4.862862            8.823968        0.810852   \n",
       "1232        China  2008     4.846295            8.910974        0.748287   \n",
       "1273        China  2009     4.454361            8.995829        0.798034   \n",
       "1322        China  2010     4.652737            9.092073        0.767753   \n",
       "1365        China  2011     5.037208            9.177827        0.787171   \n",
       "1414        China  2012     5.094917            9.246742        0.787818   \n",
       "1438        China  2013     5.241090            9.314875        0.777896   \n",
       "1470        China  2014     5.195619            9.380201        0.820366   \n",
       "1491        China  2015     5.303878            9.442431        0.793734   \n",
       "1500        China  2016     5.324956            9.502946        0.741703   \n",
       "1511        China  2017     5.099061            9.564058        0.772033   \n",
       "1524        China  2018     5.131434            9.624699        0.787605   \n",
       "1538        China  2019     5.144120            9.678946        0.821936   \n",
       "1549        China  2020     5.771065            9.699890        0.808334   \n",
       "1565        China  2021     5.862864            9.776109        0.856007   \n",
       "\n",
       "      Healthy life expectancy at birth  Freedom to make life choices  \\\n",
       "1143                         65.660004                           NaN   \n",
       "1193                         65.919998                           NaN   \n",
       "1232                         66.180000                      0.853072   \n",
       "1273                         66.440002                      0.771143   \n",
       "1322                         66.699997                      0.804794   \n",
       "1365                         66.959999                      0.824162   \n",
       "1414                         67.220001                      0.808255   \n",
       "1438                         67.480003                      0.804724   \n",
       "1470                         67.739998                           NaN   \n",
       "1491                         68.000000                           NaN   \n",
       "1500                         68.125000                           NaN   \n",
       "1511                         68.250000                      0.877618   \n",
       "1524                         68.375000                      0.895378   \n",
       "1538                         68.500000                      0.927356   \n",
       "1549                         68.625000                      0.891123   \n",
       "1565                         68.750000                      0.874756   \n",
       "\n",
       "      Generosity  Perceptions of corruption  Positive affect  Negative affect  \\\n",
       "1143         NaN                        NaN         0.657659         0.169580   \n",
       "1193   -0.176961                        NaN         0.663977         0.158614   \n",
       "1232   -0.093270                        NaN         0.705133         0.146963   \n",
       "1273   -0.161358                        NaN         0.669666         0.161650   \n",
       "1322   -0.134285                        NaN         0.658101         0.158100   \n",
       "1365   -0.187382                        NaN         0.710055         0.133503   \n",
       "1414   -0.185606                        NaN         0.689160         0.158703   \n",
       "1438   -0.158647                        NaN         0.717136         0.142211   \n",
       "1470   -0.217615                        NaN         0.709763         0.111518   \n",
       "1491   -0.245284                        NaN         0.666827         0.171315   \n",
       "1500   -0.228405                        NaN         0.683256         0.145625   \n",
       "1511   -0.175740                        NaN         0.681665         0.214005   \n",
       "1524   -0.159466                        NaN         0.721579         0.189640   \n",
       "1538   -0.173937                        NaN         0.760267         0.146512   \n",
       "1549   -0.104621                        NaN         0.662961         0.244918   \n",
       "1565    0.023953                        NaN         0.697810         0.239618   \n",
       "\n",
       "      Confidence in national government  \n",
       "1143                                NaN  \n",
       "1193                                NaN  \n",
       "1232                                NaN  \n",
       "1273                                NaN  \n",
       "1322                                NaN  \n",
       "1365                                NaN  \n",
       "1414                                NaN  \n",
       "1438                                NaN  \n",
       "1470                                NaN  \n",
       "1491                                NaN  \n",
       "1500                                NaN  \n",
       "1511                                NaN  \n",
       "1524                                NaN  \n",
       "1538                                NaN  \n",
       "1549                                NaN  \n",
       "1565                                NaN  "
      ]
     },
     "execution_count": 87,
     "metadata": {},
     "output_type": "execute_result"
    }
   ],
   "source": [
    "df_China_raw=df_all_raw.loc[df_all_raw['Country name']==\"China\"]\n",
    "df_China_raw"
   ]
  },
  {
   "cell_type": "code",
   "execution_count": 88,
   "metadata": {},
   "outputs": [
    {
     "name": "stdout",
     "output_type": "stream",
     "text": [
      "世界平均水平：\n",
      "year                                 2013.727621\n",
      "Life Ladder                             5.473747\n",
      "Log GDP per capita                      9.378408\n",
      "Social support                          0.811542\n",
      "Healthy life expectancy at birth       63.180326\n",
      "Freedom to make life choices            0.745462\n",
      "Generosity                              0.000102\n",
      "Perceptions of corruption               0.746474\n",
      "Positive affect                         0.651421\n",
      "Negative affect                         0.270544\n",
      "Confidence in national government       0.483914\n",
      "dtype: float64\n",
      "中国平均水平：\n",
      "year                                 2013.500000\n",
      "Life Ladder                             5.098935\n",
      "Log GDP per capita                      9.307982\n",
      "Social support                          0.789159\n",
      "Healthy life expectancy at birth       67.432813\n",
      "Freedom to make life choices            0.848398\n",
      "Generosity                             -0.158575\n",
      "Perceptions of corruption                    NaN\n",
      "Positive affect                         0.690938\n",
      "Negative affect                         0.168280\n",
      "Confidence in national government            NaN\n",
      "dtype: float64\n",
      "\n"
     ]
    },
    {
     "name": "stderr",
     "output_type": "stream",
     "text": [
      "C:\\Users\\Administrator\\AppData\\Local\\Temp\\ipykernel_58616\\2535070579.py:1: FutureWarning:\n",
      "\n",
      "The default value of numeric_only in DataFrame.mean is deprecated. In a future version, it will default to False. In addition, specifying 'numeric_only=None' is deprecated. Select only valid columns or specify the value of numeric_only to silence this warning.\n",
      "\n",
      "C:\\Users\\Administrator\\AppData\\Local\\Temp\\ipykernel_58616\\2535070579.py:2: FutureWarning:\n",
      "\n",
      "The default value of numeric_only in DataFrame.mean is deprecated. In a future version, it will default to False. In addition, specifying 'numeric_only=None' is deprecated. Select only valid columns or specify the value of numeric_only to silence this warning.\n",
      "\n"
     ]
    }
   ],
   "source": [
    "world_mean=df_all_1.mean()\n",
    "China_mean=df_China_raw.mean()\n",
    "print(\"世界平均水平：\")\n",
    "print(world_mean)\n",
    "print('中国平均水平：')\n",
    "print(China_mean)\n",
    "print()"
   ]
  },
  {
   "cell_type": "code",
   "execution_count": 89,
   "metadata": {},
   "outputs": [
    {
     "name": "stdout",
     "output_type": "stream",
     "text": [
      "中国各项指标平均值-世界平均水平：\n"
     ]
    },
    {
     "data": {
      "text/plain": [
       "year                                -0.227621\n",
       "Life Ladder                         -0.374812\n",
       "Log GDP per capita                  -0.070427\n",
       "Social support                      -0.022383\n",
       "Healthy life expectancy at birth     4.252487\n",
       "Freedom to make life choices         0.102936\n",
       "Generosity                          -0.158677\n",
       "Perceptions of corruption                 NaN\n",
       "Positive affect                      0.039517\n",
       "Negative affect                     -0.102264\n",
       "Confidence in national government         NaN\n",
       "dtype: float64"
      ]
     },
     "execution_count": 89,
     "metadata": {},
     "output_type": "execute_result"
    }
   ],
   "source": [
    "gap=China_mean-world_mean \n",
    "print(\"中国各项指标平均值-世界平均水平：\")\n",
    "gap"
   ]
  },
  {
   "attachments": {},
   "cell_type": "markdown",
   "metadata": {},
   "source": [
    "可以看出：\\\n",
    "1.中国在2005-2021年的平均幸福度低于世界平均水平\\\n",
    "2.好的方面：中国的Healthy life expectancy at birth,Freedom to make life choices,Positive affect高于平均水平，Negative affect低于世界平均水平(注意Negative affect与幸福度是负相关的\\\n",
    "3.待提升方面：中国的Log GDP per capita,Social support,Generosity低于世界平均水平"
   ]
  },
  {
   "attachments": {},
   "cell_type": "markdown",
   "metadata": {},
   "source": [
    "结合之前拟合的幸福度线性回归模型的权重来判断中国最容易从哪些方面下手提升整体幸福度\\\n",
    "假设：只考虑去提升中国低于世界平均水平的指标，并且认为这些指标与世界平均水平差距越大，提升的空间越大，再用这一差距去乘之前回归模型里的权重，就可以粗略地得到中国最容易从哪些方面下手提升整体幸福度"
   ]
  },
  {
   "attachments": {},
   "cell_type": "markdown",
   "metadata": {},
   "source": [
    "$\n",
    "Life\\ Ladder=0.34*Log\\ GDP\\ per\\ capita+2.10*Social\\ support+\n",
    "0.03*Healthy\\ life\\ expectancy\\ at\\ birth+0.45*Freedom\\ to\\ make\\ life\\ choices-0.67*Perceptions\\ of\\ corruption+2.33*Positive\\ affect-0.08*Negative\\ affect-2.86\n",
    "$"
   ]
  },
  {
   "attachments": {},
   "cell_type": "markdown",
   "metadata": {},
   "source": [
    "中国需要提升的有Log GDP per capita,Social support,Generosity；而Generosity对幸福度影响太小以致回归模型里没考虑它。所以只需比较Log GDP per capita,Social support中更应该提升哪个"
   ]
  },
  {
   "cell_type": "code",
   "execution_count": 91,
   "metadata": {},
   "outputs": [
    {
     "data": {
      "text/plain": [
       "[-0.02644177137245, -0.04193510089797]"
      ]
     },
     "execution_count": 91,
     "metadata": {},
     "output_type": "execute_result"
    }
   ],
   "source": [
    "w = [0.37544935, 1.87352459] #Log GDP per capita,Social support的权重\n",
    "gap1=[-0.070427,-0.022383] #中国在Log GDP per capita,Social support上与世界平均水平的差\n",
    "wgap=[] #wgap是加权过的gap\n",
    "for i in range(2):\n",
    "    wgap.append(w[i]*gap1[i])\n",
    "wgap"
   ]
  },
  {
   "attachments": {},
   "cell_type": "markdown",
   "metadata": {},
   "source": [
    "根据这个粗略的分析，可以看出中国最容易通过提升Social support值来提升整体幸福度"
   ]
  },
  {
   "attachments": {},
   "cell_type": "markdown",
   "metadata": {},
   "source": [
    "# 变量及数据集解释\n",
    "df_all_raw和upto2022.csv:raw data\\\n",
    "df_all_0:去重后的数据\\\n",
    "df_all_1:在之前基础上排序后的数据\\\n",
    "df_all_2:在之前基础上`分国家`补全了Life Ladder及其以后的列\\\n",
    "df_all_3:在之前基础上`不分国家`地用平均值补全了Life Ladder及其以后的列\\\n",
    "df_all_4:在之前基础上把Country name的字符串序列换成了[1,2...166]"
   ]
  }
 ],
 "metadata": {
  "kernelspec": {
   "display_name": "Python 3.10.0 64-bit",
   "language": "python",
   "name": "python3"
  },
  "language_info": {
   "codemirror_mode": {
    "name": "ipython",
    "version": 3
   },
   "file_extension": ".py",
   "mimetype": "text/x-python",
   "name": "python",
   "nbconvert_exporter": "python",
   "pygments_lexer": "ipython3",
   "version": "3.10.0"
  },
  "orig_nbformat": 4,
  "vscode": {
   "interpreter": {
    "hash": "865d8b2eb28e274047ba64063dfb6a2aabf0dfec4905d304d7a76618dae6fdd4"
   }
  }
 },
 "nbformat": 4,
 "nbformat_minor": 2
}
