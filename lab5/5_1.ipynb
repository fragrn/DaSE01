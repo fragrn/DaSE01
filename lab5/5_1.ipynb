{
 "cells": [
  {
   "cell_type": "code",
   "execution_count": 2,
   "metadata": {},
   "outputs": [
    {
     "name": "stdout",
     "output_type": "stream",
     "text": [
      "2 3 4 5 5 6 6 10 13 14 "
     ]
    }
   ],
   "source": [
    "import random\n",
    "\n",
    "\n",
    "def bubling(arr): #冒泡排序\n",
    "    n = len(arr)\n",
    "    for i in range(n-1, 1-1, -1):\n",
    "        for j in range(0, i):\n",
    "            if arr[j] > arr[j+1]:\n",
    "                t = arr[j]\n",
    "                arr[j] = arr[j+1]\n",
    "                arr[j+1] = t\n",
    "\n",
    "\n",
    "arr = []\n",
    "for i in range(1, 11):\n",
    "    arr.append(random.randint(0, 15))\n",
    "\n",
    "bubling(arr)\n",
    "\n",
    "for i in range(0, len(arr)):\n",
    "    print(arr[i], end=\" \")\n"
   ]
  }
 ],
 "metadata": {
  "kernelspec": {
   "display_name": "Python 3.10.0 64-bit",
   "language": "python",
   "name": "python3"
  },
  "language_info": {
   "codemirror_mode": {
    "name": "ipython",
    "version": 3
   },
   "file_extension": ".py",
   "mimetype": "text/x-python",
   "name": "python",
   "nbconvert_exporter": "python",
   "pygments_lexer": "ipython3",
   "version": "3.10.0"
  },
  "orig_nbformat": 4,
  "vscode": {
   "interpreter": {
    "hash": "865d8b2eb28e274047ba64063dfb6a2aabf0dfec4905d304d7a76618dae6fdd4"
   }
  }
 },
 "nbformat": 4,
 "nbformat_minor": 2
}
