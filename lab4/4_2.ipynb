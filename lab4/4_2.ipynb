{
 "cells": [
  {
   "cell_type": "code",
   "execution_count": 3,
   "metadata": {},
   "outputs": [
    {
     "name": "stdout",
     "output_type": "stream",
     "text": [
      "None\n",
      "ERROR: Stack is empty now!\n",
      "None\n",
      "**********\n",
      "3.5\n",
      "2\n",
      "False\n"
     ]
    }
   ],
   "source": [
    "class queue():\n",
    "    def __init__(self):\n",
    "        self.__items=[]\n",
    "    def size(self):\n",
    "        return len(self.__items)\n",
    "    def isempty(self):\n",
    "        if len(self.__items)==0:\n",
    "            return True\n",
    "        else:\n",
    "            return False\n",
    "    def append(self,element):\n",
    "        self.__items.insert(0,element) #?\n",
    "    def serve(self):\n",
    "        try:\n",
    "            self.__items.pop()\n",
    "        except:\n",
    "            print(\"ERROR: Stack is empty now!\")\n",
    "    def retrieve(self): #取队首元素\n",
    "        try:\n",
    "            return self.__items[-1]\n",
    "        except:\n",
    "            print('ERROR: Stack is empty now!')\n",
    "\n",
    "q=queue()\n",
    "q.append(1) # 堆栈目前为 [1]\n",
    "print(q.serve()) # 堆栈目前为 [ ]\n",
    "print(q.serve()) # 错误，堆栈为空\n",
    "print('**********')\n",
    "q.append(3.5) # 堆栈目前为[3.5]\n",
    "q.append(2.7) # 堆栈目前为[3.5, 2.7]\n",
    "print(q.retrieve())\n",
    "print(q.size())\n",
    "print(q.isempty())"
   ]
  }
 ],
 "metadata": {
  "kernelspec": {
   "display_name": "Python 3.10.0 64-bit",
   "language": "python",
   "name": "python3"
  },
  "language_info": {
   "codemirror_mode": {
    "name": "ipython",
    "version": 3
   },
   "file_extension": ".py",
   "mimetype": "text/x-python",
   "name": "python",
   "nbconvert_exporter": "python",
   "pygments_lexer": "ipython3",
   "version": "3.10.0"
  },
  "orig_nbformat": 4,
  "vscode": {
   "interpreter": {
    "hash": "865d8b2eb28e274047ba64063dfb6a2aabf0dfec4905d304d7a76618dae6fdd4"
   }
  }
 },
 "nbformat": 4,
 "nbformat_minor": 2
}
