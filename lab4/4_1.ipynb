{
 "cells": [
  {
   "cell_type": "code",
   "execution_count": 18,
   "metadata": {},
   "outputs": [
    {
     "name": "stdout",
     "output_type": "stream",
     "text": [
      "[1, 1, 0, 0, 1, 0, 1, 1, 1, 0, 1, 1, 0, 0, 1, 1, 0, 0, 0, 1, 1, 0, 0, 1, 0, 0, 1, 0, 0, 1, 0, 1]\n",
      "11001011101100110001100100100101\n"
     ]
    }
   ],
   "source": [
    "# DTB 十进制转二进制\n",
    "address = '203.179.25.37'\n",
    "address_list = address.split('.', 4)  # split函数用于根据特殊字符来截断字符串\n",
    "b_address = [[], [], [], []]\n",
    "blist = []\n",
    "\n",
    "\n",
    "def DTB(x, list):\n",
    "    if x == 1:\n",
    "        list.append(1)\n",
    "        while len(list) < 8:\n",
    "            list.append(0)\n",
    "        list.reverse()\n",
    "    else:\n",
    "        list.append(x % 2)\n",
    "        x //= 2\n",
    "        DTB(x, list)\n",
    "    return\n",
    "\n",
    "\n",
    "for i in range(4):\n",
    "    DTB(int(address_list[i]), b_address[i])\n",
    "    for j in range(8):\n",
    "        blist.append(b_address[i][j])\n",
    "print(blist)\n",
    "str = \"\".join('%s' % id for id in blist)\n",
    "print(str)\n"
   ]
  }
 ],
 "metadata": {
  "kernelspec": {
   "display_name": "Python 3.10.0 64-bit",
   "language": "python",
   "name": "python3"
  },
  "language_info": {
   "codemirror_mode": {
    "name": "ipython",
    "version": 3
   },
   "file_extension": ".py",
   "mimetype": "text/x-python",
   "name": "python",
   "nbconvert_exporter": "python",
   "pygments_lexer": "ipython3",
   "version": "3.10.0"
  },
  "orig_nbformat": 4,
  "vscode": {
   "interpreter": {
    "hash": "865d8b2eb28e274047ba64063dfb6a2aabf0dfec4905d304d7a76618dae6fdd4"
   }
  }
 },
 "nbformat": 4,
 "nbformat_minor": 2
}
