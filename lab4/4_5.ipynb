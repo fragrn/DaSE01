{
 "cells": [
  {
   "cell_type": "code",
   "execution_count": 1,
   "metadata": {},
   "outputs": [
    {
     "data": {
      "text/plain": [
       "False"
      ]
     },
     "execution_count": 1,
     "metadata": {},
     "output_type": "execute_result"
    }
   ],
   "source": [
    "import re\n",
    "def tele(num):\n",
    "    reg = \"^((13[0-9])|(14[7])|(15([0-3]|[5-9]))|(166)|(17([2-3]|[5-8]))|(18[0,5-9])|(19[1,3,8,9]))\\d{8}$\"\n",
    "    regx = re.findall(reg, num)\n",
    "\n",
    "    if regx:\n",
    "        result = re.findall(r'^(1349)\\d{7}$', num)\n",
    "        if result:\n",
    "            return False\n",
    "        else:\n",
    "            return True\n",
    "\n",
    "    else:\n",
    "        return False\n",
    "\n",
    "phone_num = input(\"please input your phone_number:\")\n",
    "tele(phone_num)"
   ]
  }
 ],
 "metadata": {
  "kernelspec": {
   "display_name": "Python 3.10.0 64-bit",
   "language": "python",
   "name": "python3"
  },
  "language_info": {
   "codemirror_mode": {
    "name": "ipython",
    "version": 3
   },
   "file_extension": ".py",
   "mimetype": "text/x-python",
   "name": "python",
   "nbconvert_exporter": "python",
   "pygments_lexer": "ipython3",
   "version": "3.10.0"
  },
  "orig_nbformat": 4,
  "vscode": {
   "interpreter": {
    "hash": "865d8b2eb28e274047ba64063dfb6a2aabf0dfec4905d304d7a76618dae6fdd4"
   }
  }
 },
 "nbformat": 4,
 "nbformat_minor": 2
}
