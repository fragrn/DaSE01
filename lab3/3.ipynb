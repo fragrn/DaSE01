{
 "cells": [
  {
   "cell_type": "code",
   "execution_count": 3,
   "metadata": {},
   "outputs": [
    {
     "name": "stdout",
     "output_type": "stream",
     "text": [
      "x!=24\n"
     ]
    
    }
   ],
   "source": [
    "#求x!\n",
    "def jiecheng(n):\n",
    "    if n==1:\n",
    "        ret=1\n",
    "    else:\n",
    "        ret=n*jiecheng(n-1)\n",
    "    return ret\n",
    "\n",
    "x=int(input(\"Enter x:\"))\n",
    "print(\"x!=%d\"%jiecheng(x))"
   ]
  },
  {
   "cell_type": "code",
   "execution_count": 4,
   "metadata": {},
   "outputs": [
    {
     "name": "stdout",
     "output_type": "stream",
     "text": [
      "3.0\n"
     ]
    }
   ],
   "source": [
    "# 用math模块计算27的立方根\n",
    "import math\n",
    "print(math.pow(27,1/3))"
   ]
  },
  {
   "cell_type": "code",
   "execution_count": 13,
   "metadata": {},
   "outputs": [
    {
     "name": "stdout",
     "output_type": "stream",
     "text": [
      "6\n"
     ]
    }
   ],
   "source": [
    "#找较轻的一个假币\n",
    "def partition(list,l,r):\n",
    "    mid=(l+r)//2\n",
    "    bag1=bag2=0\n",
    "    for i in range(l,mid):\n",
    "        bag1+=list[i]\n",
    "    for i in range(mid+1,r+1):\n",
    "        bag2+=list[i]\n",
    "    if bag1==bag2:\n",
    "        ret=mid\n",
    "    elif bag1<bag2:\n",
    "        ret=partition(list,l,mid-1)\n",
    "    else:\n",
    "        ret=partition(list,mid+1,r)\n",
    "    return ret\n",
    "list=[2,2,2,2,2,2,1,2,2,2,2,2,2,2,2]#15个数\n",
    "print(partition(list,0,14))"
   ]
  },
  {
   "cell_type": "code",
   "execution_count": 15,
   "metadata": {},
   "outputs": [
    {
     "name": "stdout",
     "output_type": "stream",
     "text": [
      "11.811310335288141\n"
     ]
    }
   ],
   "source": [
    "#蒙德卡特模拟\n",
    "#平均值法\n",
    "import random \n",
    "import math\n",
    "sum=0\n",
    "count=10000000\n",
    "for i in range(count):\n",
    "    x=random.uniform(2,3)\n",
    "    sum+=x**2+4*x*math.sin(x)\n",
    "ans=sum/count\n",
    "print(ans)"
   ]
  },
  {
   "cell_type": "code",
   "execution_count": 16,
   "metadata": {},
   "outputs": [
    {
     "name": "stdout",
     "output_type": "stream",
     "text": [
      "11.7705\n"
     ]
    }
   ],
   "source": [
    "#蒙德卡特模拟\n",
    "import random\n",
    "import math\n",
    "S=1*21\n",
    "C=0\n",
    "N=10000\n",
    "for i in range(N):\n",
    "    x=random.uniform(2,3)\n",
    "    y=random.uniform(0,21)\n",
    "    if y<=x**2+4*x*math.sin(x):\n",
    "        C+=1\n",
    "print(C/N*S)"
   ]
  }
 ],
 "metadata": {
  "kernelspec": {
   "display_name": "Python 3.10.0 64-bit",
   "language": "python",
   "name": "python3"
  },
  "language_info": {
   "codemirror_mode": {
    "name": "ipython",
    "version": 3
   },
   "file_extension": ".py",
   "mimetype": "text/x-python",
   "name": "python",
   "nbconvert_exporter": "python",
   "pygments_lexer": "ipython3",
   "version": "3.10.0"
  },
  "orig_nbformat": 4,
  "vscode": {
   "interpreter": {
    "hash": "865d8b2eb28e274047ba64063dfb6a2aabf0dfec4905d304d7a76618dae6fdd4"
   }
  }
 },
 "nbformat": 4,
 "nbformat_minor": 2
}
