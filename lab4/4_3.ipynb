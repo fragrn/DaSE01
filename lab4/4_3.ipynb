{
 "cells": [
  {
   "cell_type": "code",
   "execution_count": 14,
   "metadata": {},
   "outputs": [
    {
     "data": {
      "text/plain": [
       "[[3], [5, 1], [6, 2, 0, 8], [7, 4]]"
      ]
     },
     "execution_count": 14,
     "metadata": {},
     "output_type": "execute_result"
    }
   ],
   "source": [
    "class TreeNode:\n",
    "    def __init__(self, data = None, left = None, right = None):\n",
    "        #等号右边的才是参数表的，左边的是自创建的。\n",
    "        self.data = data\n",
    "        self.left = left\n",
    "        self.right = right\n",
    "\n",
    "\n",
    "from collections import deque\n",
    "class Options:\n",
    "    def __init__(self, root:TreeNode):\n",
    "        self.root = root\n",
    "\n",
    "\n",
    "    #层序遍历\n",
    "    def floororder(self, root: TreeNode) -> list:\n",
    "        results = []\n",
    "        if not root:\n",
    "            return results\n",
    "        myqueue = deque([root])\n",
    "\n",
    "        while myqueue:\n",
    "            cur_queuesize = len(myqueue)\n",
    "            floor = []                 #储层每一层的元素\n",
    "            for i in range(cur_queuesize):\n",
    "                temp = myqueue.popleft()\n",
    "                floor.append(temp.data)\n",
    "                if temp.left:\n",
    "                    myqueue.append(temp.left)\n",
    "                if temp.right:\n",
    "                    myqueue.append(temp.right)\n",
    "            #new_floor = floor.copy()    #用新的副本储存每一层的元素，防止floor.clear()将res中的元素清除\n",
    "            results.append(floor)       #把该层的元素放入res中\n",
    "            #floor.clear()\n",
    "        return results\n",
    "\n",
    "\n",
    "\n",
    "\n",
    "    #前序遍历\n",
    "    def preOrder(self, root: TreeNode) -> list:\n",
    "        if not root:\n",
    "            return []\n",
    "        res = [root.data]\n",
    "        if root.left is not None:\n",
    "            res.extend(self.preOrder(root.left))\n",
    "        if root.right is not None:\n",
    "            res.extend(self.preOrder(root.right))\n",
    "\n",
    "        return res\n",
    "    #中序遍历\n",
    "    def inOrder(self, root: TreeNode) -> list:\n",
    "        if not root:\n",
    "            return []\n",
    "        res = []\n",
    "        if root.left is not None:\n",
    "            res.extend(self.inOrder(root.left))\n",
    "        res.append(root.data)\n",
    "        if root.right is not None:\n",
    "            res.extend(self.inOrder(root.right))\n",
    "\n",
    "        return res\n",
    "    #后序遍历\n",
    "    def unOrder(self, root: TreeNode) -> list:\n",
    "        if not root:\n",
    "            return []\n",
    "        res = []\n",
    "        if root.left is not None:\n",
    "            res.extend(self.unOrder(root.left))\n",
    "        if root.right is not None:\n",
    "            res.extend(self.inOrder(root.right))\n",
    "        res.append(root.data)\n",
    "\n",
    "        return res\n",
    "    #获取树的高度\n",
    "    def height(self, root: TreeNode) -> int:\n",
    "        if not root:\n",
    "            return 0\n",
    "        elif root.left is None and root.right is None:\n",
    "            return 1\n",
    "        elif root.left is None and root.right is not None:\n",
    "            return 1 + self.height(root.right)\n",
    "        elif root.left is not None and root.right is None:\n",
    "            return 1 + self.height(root.left)\n",
    "        else:\n",
    "            return 1 + max(self.height(root.left), self.height(root.right))\n",
    "\n",
    "\n",
    "layer3_2 = TreeNode(2, TreeNode(7), TreeNode(4))\n",
    "layer2_5 = TreeNode(5, TreeNode(6), layer3_2)\n",
    "layer2_1 = TreeNode(1, TreeNode(0), TreeNode(8))\n",
    "layer1_3 = TreeNode(3, layer2_5, layer2_1)\n",
    "\n",
    "tree = Options(layer1_3)\n",
    "tree.floororder(layer1_3)"
   ]
  }
 ],
 "metadata": {
  "kernelspec": {
   "display_name": "Python 3.10.0 64-bit",
   "language": "python",
   "name": "python3"
  },
  "language_info": {
   "codemirror_mode": {
    "name": "ipython",
    "version": 3
   },
   "file_extension": ".py",
   "mimetype": "text/x-python",
   "name": "python",
   "nbconvert_exporter": "python",
   "pygments_lexer": "ipython3",
   "version": "3.10.0"
  },
  "orig_nbformat": 4,
  "vscode": {
   "interpreter": {
    "hash": "865d8b2eb28e274047ba64063dfb6a2aabf0dfec4905d304d7a76618dae6fdd4"
   }
  }
 },
 "nbformat": 4,
 "nbformat_minor": 2
}
