{
 "cells": [
  {
   "cell_type": "code",
   "execution_count": 48,
   "metadata": {},
   "outputs": [
    {
     "name": "stdout",
     "output_type": "stream",
     "text": [
      "1. 从第18条记录开始的5条记录:((19, 1, 1, 1, 18, 19, 1, 3, 5), (20, 1, 7, 0, 23, 25, 2, 1, 13), (21, 0, 9, 0, 25, 27, 1, 0, 67), (22, 0, 16, 1, 11, 11, 3, 2, 76), (23, 0, 5, 1, 13, 14, 2, 0, 10))\n",
      "\n",
      "2. 数据表中风级(wind)取值范围是:0~7\n",
      "\n",
      "3. 满足城市为北京市，10时，晴天，无风或1级风，租用单车数量不小于100条件下大气温度的平均值:20.6\n",
      "\n",
      "4. 满足城市为北京市，10时，晴天，无风或1级风，租用单车数量不小于100条件下大气温度的方差:37.64\n",
      "\n",
      "5. 分城市显示工作日雨雪天单车租用总量，并降序排序:上海:9106\n",
      "北京:8084\n",
      "\n",
      "6. 分别查询17时至19时每小时上海市在工作日且体感温度不大于10摄氏度时租用单车的平均值（四舍五入至整数），并且结果按升序排序:19时42辆\n",
      "18时63辆\n",
      "17时65辆\n"
     ]
    }
   ],
   "source": [
    " \n",
    "import pymysql\n",
    "db= pymysql.connect(host=\"cdb-r2g8flnu.bj.tencentcdb.com\", port=10209,\n",
    "                     user=\"dase2020\", password=\"dase2020\", database=\"dase_intro_2020\")\n",
    "cursor=db.cursor()\n",
    " \n",
    "#1. \n",
    "sql=\"SELECT * FROM  bicycle_train;\"\n",
    "cursor.execute(sql)\n",
    "cursor.fetchmany(18)\n",
    "result1=cursor.fetchmany(5)\n",
    "print(\"1. 从第18条记录开始的5条记录:\",end='')\n",
    "print(result1)\n",
    "print()\n",
    " \n",
    "\n",
    "#2.\n",
    "sql=\"SELECT MIN(wind) FROM bicycle_train;\"\n",
    "cursor.execute(sql)\n",
    "result2=cursor.fetchone()\n",
    "sql=\"SELECT MAX(wind) FROM bicycle_train;\"\n",
    "cursor.execute(sql)\n",
    "result3=cursor.fetchone()\n",
    "print(\"2. 数据表中风级(wind)取值范围是:\",end='')\n",
    "print(result2[0],end='')\n",
    "print(\"~\",end='')\n",
    "print(result3[0])\n",
    "print()\n",
    "\n",
    "#3.\n",
    "sql=\"SELECT AVG(temp_air) FROM bicycle_train WHERE city= 0 AND hour=10 AND weather=1 AND (wind=0 OR wind=1) AND y>=100\"\n",
    "cursor.execute(sql)\n",
    "result4=cursor.fetchone()\n",
    "print(\"3. 满足城市为北京市，10时，晴天，无风或1级风，租用单车数量不小于100条件下大气温度的平均值:\",end='')\n",
    "print(\"%.1f\"%result4[0])\n",
    "print()\n",
    "\n",
    "#4.\n",
    "sql=\"SELECT VARIANCE(temp_air) FROM bicycle_train WHERE city=0 AND hour=10 AND weather=1 AND (wind=0 OR wind=1) AND y>=100\"\n",
    "cursor.execute(sql)\n",
    "result5=cursor.fetchone()\n",
    "print(\"4. 满足城市为北京市，10时，晴天，无风或1级风，租用单车数量不小于100条件下大气温度的方差:\",end='')\n",
    "print(\"%.2f\"%result5[0])\n",
    "print()\n",
    "\n",
    "#5.\n",
    "citydict={1:'上海',0:'北京'}\n",
    "sql=\"SELECT city,SUM(y) FROM bicycle_train WHERE is_workday=1 AND weather=3 GROUP BY city ORDER BY SUM(y) DESC\"\n",
    "cursor.execute(sql)\n",
    "result6=cursor.fetchall()\n",
    "print('5. 分城市显示工作日雨雪天单车租用总量，并降序排序:',end='')\n",
    "for record in result6:\n",
    "    print(\"%s:%d\"%(citydict[record[0]],record[1]))\n",
    "print()\n",
    "\n",
    "#6\n",
    "sql=\"SELECT hour,ROUND(AVG(y)) FROM bicycle_train WHERE (hour=17 OR hour=18 OR hour=19) AND city=1 AND is_workday=1 AND temp_body<=10 GROUP BY hour ORDER BY ROUND(AVG(y))\"\n",
    "cursor.execute(sql)\n",
    "result7=cursor.fetchall()\n",
    "print('6. 分别查询17时至19时每小时上海市在工作日且体感温度不大于10摄氏度时租用单车的平均值（四舍五入至整数），并且结果按升序排序:',end='')\n",
    "for record in result7:\n",
    "    print(\"%d时%d辆\"%(record[0],record[1]))\n",
    "\n",
    "db.close()"
   ]
  }
 ],
 "metadata": {
  "kernelspec": {
   "display_name": "Python 3 (ipykernel)",
   "language": "python",
   "name": "python3"
  },
  "language_info": {
   "codemirror_mode": {
    "name": "ipython",
    "version": 3
   },
   "file_extension": ".py",
   "mimetype": "text/x-python",
   "name": "python",
   "nbconvert_exporter": "python",
   "pygments_lexer": "ipython3",
   "version": "3.9.12"
  },
  "vscode": {
   "interpreter": {
    "hash": "865d8b2eb28e274047ba64063dfb6a2aabf0dfec4905d304d7a76618dae6fdd4"
   }
  }
 },
 "nbformat": 4,
 "nbformat_minor": 4
}
