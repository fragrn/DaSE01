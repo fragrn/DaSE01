{
 "cells": [
  {
   "cell_type": "markdown",
   "metadata": {},
   "source": [
    "求sqrt(2)"
   ]
  },
  {
   "cell_type": "code",
   "execution_count": 8,
   "metadata": {},
   "outputs": [],
   "source": [
    "def Square_root_2(c):\n",
    "    l = 0\n",
    "    r = c\n",
    "    i = 0\n",
    "    m = (l+r)/2\n",
    "    while(abs(m*m-c) > 0.00000000000001):\n",
    "        if m*m-c < 0:\n",
    "            l = m\n",
    "        else:\n",
    "            r = m\n",
    "\n",
    "        m = (l+r)/2\n",
    "        i += 1\n",
    "    else:\n",
    "        print(\"%d次 %f\" % (i, m))\n"
   ]
  },
  {
   "cell_type": "code",
   "execution_count": 9,
   "metadata": {},
   "outputs": [],
   "source": [
    "def Square_root_3(c):  # 牛顿法\n",
    "    g = c/2\n",
    "    i = 0\n",
    "    while(abs(g*g-c) > 0.00000000000001):\n",
    "        g = (g+c/g)/2\n",
    "        i += 1\n",
    "    print(\"%d次 %.13f\" % (i, g))\n"
   ]
  },
  {
   "cell_type": "code",
   "execution_count": 10,
   "metadata": {},
   "outputs": [],
   "source": [
    "#测时间\n",
    "import time\n",
    "t_a=time.perf_counter()\n",
    "Square_root_2(2)\n",
    "t_b=time.perf_counter()\n",
    "print(t_b-t_a)\n",
    "\n",
    "t_a=time.perf_counter()\n",
    "Square_root_3(2)\n",
    "t_b=time.perf_counter()\n",
    "print(t_b-t_a)"
   ]
  }
 ],
 "metadata": {
  "kernelspec": {
   "display_name": "Python 3.10.0 64-bit",
   "language": "python",
   "name": "python3"
  },
  "language_info": {
   "codemirror_mode": {
    "name": "ipython",
    "version": 3
   },
   "file_extension": ".py",
   "mimetype": "text/x-python",
   "name": "python",
   "nbconvert_exporter": "python",
   "pygments_lexer": "ipython3",
   "version": "3.10.0"
  },
  "orig_nbformat": 4,
  "vscode": {
   "interpreter": {
    "hash": "865d8b2eb28e274047ba64063dfb6a2aabf0dfec4905d304d7a76618dae6fdd4"
   }
  }
 },
 "nbformat": 4,
 "nbformat_minor": 2
}
